{
  "nbformat": 4,
  "nbformat_minor": 0,
  "metadata": {
    "colab": {
      "name": "Learn TensorFlow.ipynb",
      "provenance": [],
      "collapsed_sections": [],
      "authorship_tag": "ABX9TyMOmYNV92MpEQcvGRl762Vo",
      "include_colab_link": true
    },
    "kernelspec": {
      "name": "python3",
      "display_name": "Python 3"
    },
    "language_info": {
      "name": "python"
    },
    "accelerator": "GPU",
    "gpuClass": "standard"
  },
  "cells": [
    {
      "cell_type": "markdown",
      "metadata": {
        "id": "view-in-github",
        "colab_type": "text"
      },
      "source": [
        "<a href=\"https://colab.research.google.com/github/bimarshak7/learnTensorFlow/blob/main/fundamentals.ipynb\" target=\"_parent\"><img src=\"https://colab.research.google.com/assets/colab-badge.svg\" alt=\"Open In Colab\"/></a>"
      ]
    },
    {
      "cell_type": "markdown",
      "source": [
        "### Learn Tensorflow Fundamentals"
      ],
      "metadata": {
        "id": "Ez4k1u0wBIUc"
      }
    },
    {
      "cell_type": "code",
      "source": [
        "#import tensorflow \n",
        "import tensorflow as tf\n",
        "tf.__version__"
      ],
      "metadata": {
        "colab": {
          "base_uri": "https://localhost:8080/",
          "height": 35
        },
        "id": "s4xiTYtqBcnM",
        "outputId": "3963e8cd-e80f-4d10-9c10-4051686269ff"
      },
      "execution_count": null,
      "outputs": [
        {
          "output_type": "execute_result",
          "data": {
            "text/plain": [
              "'2.8.2'"
            ],
            "application/vnd.google.colaboratory.intrinsic+json": {
              "type": "string"
            }
          },
          "metadata": {},
          "execution_count": 1
        }
      ]
    },
    {
      "cell_type": "markdown",
      "source": [
        "Tensoflow Constants"
      ],
      "metadata": {
        "id": "nVarQw2FBPfc"
      }
    },
    {
      "cell_type": "code",
      "source": [
        "  scaler = tf.constant(7)\n",
        "  scaler"
      ],
      "metadata": {
        "colab": {
          "base_uri": "https://localhost:8080/"
        },
        "id": "PwzkmW3ZBp8O",
        "outputId": "97632bda-f573-4de0-cfaf-54eb060f04f8"
      },
      "execution_count": null,
      "outputs": [
        {
          "output_type": "execute_result",
          "data": {
            "text/plain": [
              "<tf.Tensor: shape=(), dtype=int32, numpy=7>"
            ]
          },
          "metadata": {},
          "execution_count": 2
        }
      ]
    },
    {
      "cell_type": "code",
      "source": [
        "scaler.ndim"
      ],
      "metadata": {
        "colab": {
          "base_uri": "https://localhost:8080/"
        },
        "id": "xGgmu4-yDwFy",
        "outputId": "b0b1d360-d080-4011-cb1e-cf36c52ad651"
      },
      "execution_count": null,
      "outputs": [
        {
          "output_type": "execute_result",
          "data": {
            "text/plain": [
              "0"
            ]
          },
          "metadata": {},
          "execution_count": 3
        }
      ]
    },
    {
      "cell_type": "code",
      "source": [
        "  vector = tf.constant([1,2,3])\n",
        "  vector"
      ],
      "metadata": {
        "colab": {
          "base_uri": "https://localhost:8080/"
        },
        "id": "SBvoafxlEWUi",
        "outputId": "f943cfe1-9f8e-4d20-b216-7e8859fd8037"
      },
      "execution_count": null,
      "outputs": [
        {
          "output_type": "execute_result",
          "data": {
            "text/plain": [
              "<tf.Tensor: shape=(3,), dtype=int32, numpy=array([1, 2, 3], dtype=int32)>"
            ]
          },
          "metadata": {},
          "execution_count": 4
        }
      ]
    },
    {
      "cell_type": "code",
      "source": [
        "#matrix\n",
        "matrix = tf.constant([[1,2,3],[4,5,7]])\n",
        "matrix"
      ],
      "metadata": {
        "colab": {
          "base_uri": "https://localhost:8080/"
        },
        "id": "zuC9FSRlEdBz",
        "outputId": "121dc92d-8cc8-46ed-a131-81f20ed1c52a"
      },
      "execution_count": null,
      "outputs": [
        {
          "output_type": "execute_result",
          "data": {
            "text/plain": [
              "<tf.Tensor: shape=(2, 3), dtype=int32, numpy=\n",
              "array([[1, 2, 3],\n",
              "       [4, 5, 7]], dtype=int32)>"
            ]
          },
          "metadata": {},
          "execution_count": 5
        }
      ]
    },
    {
      "cell_type": "code",
      "source": [
        "#matrix with dtype specified\n",
        "matrix2 = tf.constant([[1,2,3],[4,5,7]],dtype=tf.float16)\n",
        "matrix2"
      ],
      "metadata": {
        "colab": {
          "base_uri": "https://localhost:8080/"
        },
        "id": "BSKcyBClEord",
        "outputId": "ff191f25-9137-422d-ec51-97ca7fca0f9b"
      },
      "execution_count": null,
      "outputs": [
        {
          "output_type": "execute_result",
          "data": {
            "text/plain": [
              "<tf.Tensor: shape=(2, 3), dtype=float16, numpy=\n",
              "array([[1., 2., 3.],\n",
              "       [4., 5., 7.]], dtype=float16)>"
            ]
          },
          "metadata": {},
          "execution_count": 6
        }
      ]
    },
    {
      "cell_type": "code",
      "source": [
        "print(matrix2)\n",
        "print(matrix2.ndim)"
      ],
      "metadata": {
        "colab": {
          "base_uri": "https://localhost:8080/"
        },
        "id": "pV3hIv2RFFyZ",
        "outputId": "665f5d81-b0cb-463e-a167-b0519458661f"
      },
      "execution_count": null,
      "outputs": [
        {
          "output_type": "stream",
          "name": "stdout",
          "text": [
            "tf.Tensor(\n",
            "[[1. 2. 3.]\n",
            " [4. 5. 7.]], shape=(2, 3), dtype=float16)\n",
            "2\n"
          ]
        }
      ]
    },
    {
      "cell_type": "code",
      "source": [
        "#create tensor constsnt\n",
        "tensor = tf.constant( [\n",
        "                       [[1,2,3],\n",
        "                        [1,2,3]],\n",
        "                       [[11,22,33],\n",
        "                        [34,54,23]]\n",
        "                       ])"
      ],
      "metadata": {
        "id": "q7evsxygFd1-"
      },
      "execution_count": null,
      "outputs": []
    },
    {
      "cell_type": "code",
      "source": [
        "print(tensor)\n",
        "print(tensor.ndim)"
      ],
      "metadata": {
        "colab": {
          "base_uri": "https://localhost:8080/"
        },
        "id": "f5fivpXoFpx_",
        "outputId": "5b14fed9-6bda-48c5-bf1e-fcbe53655549"
      },
      "execution_count": null,
      "outputs": [
        {
          "output_type": "stream",
          "name": "stdout",
          "text": [
            "tf.Tensor(\n",
            "[[[ 1  2  3]\n",
            "  [ 1  2  3]]\n",
            "\n",
            " [[11 22 33]\n",
            "  [34 54 23]]], shape=(2, 2, 3), dtype=int32)\n",
            "3\n"
          ]
        }
      ]
    },
    {
      "cell_type": "markdown",
      "source": [
        "### Variables in tensorflow(tf.variable)"
      ],
      "metadata": {
        "id": "j6xE0R7EGmeZ"
      }
    },
    {
      "cell_type": "code",
      "source": [
        "scaler_var = tf.Variable(7)\n",
        "vector_var = tf.Variable([1,2,3])\n",
        "tensor_var = tf.Variable( [\n",
        "                       [[1,2,3],\n",
        "                        [1,2,3]],\n",
        "                       [[11,22,33],\n",
        "                        [34,54,23]]\n",
        "                       ])\n",
        "scaler_var,vector_var,tensor_var"
      ],
      "metadata": {
        "colab": {
          "base_uri": "https://localhost:8080/"
        },
        "id": "k3SYi9ITGihG",
        "outputId": "2b283758-6146-4aef-fce6-cd2505778bf9"
      },
      "execution_count": null,
      "outputs": [
        {
          "output_type": "execute_result",
          "data": {
            "text/plain": [
              "(<tf.Variable 'Variable:0' shape=() dtype=int32, numpy=7>,\n",
              " <tf.Variable 'Variable:0' shape=(3,) dtype=int32, numpy=array([1, 2, 3], dtype=int32)>,\n",
              " <tf.Variable 'Variable:0' shape=(2, 2, 3) dtype=int32, numpy=\n",
              " array([[[ 1,  2,  3],\n",
              "         [ 1,  2,  3]],\n",
              " \n",
              "        [[11, 22, 33],\n",
              "         [34, 54, 23]]], dtype=int32)>)"
            ]
          },
          "metadata": {},
          "execution_count": 10
        }
      ]
    },
    {
      "cell_type": "code",
      "source": [
        "scaler_var.assign(10)\n",
        "vector_var.assign([1,2,22])\n",
        "print(scaler_var)\n",
        "print(vector_var)"
      ],
      "metadata": {
        "colab": {
          "base_uri": "https://localhost:8080/"
        },
        "id": "evDuXVTyKjeU",
        "outputId": "6f762b2e-7d31-4b66-c996-e68e1e8d9901"
      },
      "execution_count": null,
      "outputs": [
        {
          "output_type": "stream",
          "name": "stdout",
          "text": [
            "<tf.Variable 'Variable:0' shape=() dtype=int32, numpy=10>\n",
            "<tf.Variable 'Variable:0' shape=(3,) dtype=int32, numpy=array([ 1,  2, 22], dtype=int32)>\n"
          ]
        }
      ]
    },
    {
      "cell_type": "markdown",
      "source": [
        "### Random Tensors"
      ],
      "metadata": {
        "id": "AuUQUP7kLdQo"
      }
    },
    {
      "cell_type": "code",
      "source": [
        "test1 = tf.random.Generator.from_seed(123) #using seed for reproducibility\n",
        "test1 = test1.normal(shape=(2, 3, 4))\n",
        "test1\n",
        "test2 = tf.random.Generator.from_seed(123) #using seed for reproducibility\n",
        "test2 = test2.normal(shape=(2, 3, 4))\n",
        "\n",
        "test1,test2,test1==test2"
      ],
      "metadata": {
        "colab": {
          "base_uri": "https://localhost:8080/"
        },
        "id": "3Ok3GHbILocL",
        "outputId": "5609f26e-1280-4ac7-c5b5-807226acfecc"
      },
      "execution_count": null,
      "outputs": [
        {
          "output_type": "execute_result",
          "data": {
            "text/plain": [
              "(<tf.Tensor: shape=(2, 3, 4), dtype=float32, numpy=\n",
              " array([[[ 0.8673864 , -0.29899067, -0.93103355, -1.5828488 ],\n",
              "         [ 1.2481192 , -0.67706424,  0.01912649, -0.29333332],\n",
              "         [-0.35438988,  0.07048975, -0.4882456 , -0.56108433]],\n",
              " \n",
              "        [[-0.9890895 , -0.47498497, -1.3177569 , -1.748288  ],\n",
              "         [-1.6292503 ,  0.48826346, -1.8867823 ,  0.18151656],\n",
              "         [ 0.24483992,  0.37554735,  1.6184237 ,  0.34223038]]],\n",
              "       dtype=float32)>, <tf.Tensor: shape=(2, 3, 4), dtype=float32, numpy=\n",
              " array([[[ 0.8673864 , -0.29899067, -0.93103355, -1.5828488 ],\n",
              "         [ 1.2481192 , -0.67706424,  0.01912649, -0.29333332],\n",
              "         [-0.35438988,  0.07048975, -0.4882456 , -0.56108433]],\n",
              " \n",
              "        [[-0.9890895 , -0.47498497, -1.3177569 , -1.748288  ],\n",
              "         [-1.6292503 ,  0.48826346, -1.8867823 ,  0.18151656],\n",
              "         [ 0.24483992,  0.37554735,  1.6184237 ,  0.34223038]]],\n",
              "       dtype=float32)>, <tf.Tensor: shape=(2, 3, 4), dtype=bool, numpy=\n",
              " array([[[ True,  True,  True,  True],\n",
              "         [ True,  True,  True,  True],\n",
              "         [ True,  True,  True,  True]],\n",
              " \n",
              "        [[ True,  True,  True,  True],\n",
              "         [ True,  True,  True,  True],\n",
              "         [ True,  True,  True,  True]]])>)"
            ]
          },
          "metadata": {},
          "execution_count": 12
        }
      ]
    },
    {
      "cell_type": "code",
      "source": [
        "# Shuffle Tensor\n",
        "original = tf.constant([\n",
        "                               [1, 2],\n",
        "                               [3, 4],\n",
        "                               [5, 6],\n",
        "                               [7, 8],\n",
        "                               [9, 10]\n",
        "])\n",
        "\n",
        "tf.random.set_seed(21) # global level seed\n",
        "shuffled = tf.random.shuffle(original)\n",
        "print(original,shuffled)"
      ],
      "metadata": {
        "colab": {
          "base_uri": "https://localhost:8080/"
        },
        "id": "vhDDhHkmPmke",
        "outputId": "cef0efe7-207b-4990-b127-43c7999d2fa4"
      },
      "execution_count": null,
      "outputs": [
        {
          "output_type": "stream",
          "name": "stdout",
          "text": [
            "tf.Tensor(\n",
            "[[ 1  2]\n",
            " [ 3  4]\n",
            " [ 5  6]\n",
            " [ 7  8]\n",
            " [ 9 10]], shape=(5, 2), dtype=int32) tf.Tensor(\n",
            "[[ 3  4]\n",
            " [ 1  2]\n",
            " [ 7  8]\n",
            " [ 9 10]\n",
            " [ 5  6]], shape=(5, 2), dtype=int32)\n"
          ]
        }
      ]
    },
    {
      "cell_type": "markdown",
      "source": [
        "## Tensors from numpy array"
      ],
      "metadata": {
        "id": "-vKUYZBGRLoC"
      }
    },
    {
      "cell_type": "code",
      "source": [
        "tf.ones((5,3)),tf.zeros((5,5))"
      ],
      "metadata": {
        "colab": {
          "base_uri": "https://localhost:8080/"
        },
        "id": "klU8nLs2ROrM",
        "outputId": "da838f96-28f8-442b-c3be-52cc4aec0af6"
      },
      "execution_count": null,
      "outputs": [
        {
          "output_type": "execute_result",
          "data": {
            "text/plain": [
              "(<tf.Tensor: shape=(5, 3), dtype=float32, numpy=\n",
              " array([[1., 1., 1.],\n",
              "        [1., 1., 1.],\n",
              "        [1., 1., 1.],\n",
              "        [1., 1., 1.],\n",
              "        [1., 1., 1.]], dtype=float32)>,\n",
              " <tf.Tensor: shape=(5, 5), dtype=float32, numpy=\n",
              " array([[0., 0., 0., 0., 0.],\n",
              "        [0., 0., 0., 0., 0.],\n",
              "        [0., 0., 0., 0., 0.],\n",
              "        [0., 0., 0., 0., 0.],\n",
              "        [0., 0., 0., 0., 0.]], dtype=float32)>)"
            ]
          },
          "metadata": {},
          "execution_count": 14
        }
      ]
    },
    {
      "cell_type": "code",
      "source": [
        "import numpy as np\n",
        "\n",
        "num_A = np.arange(1,25,dtype=np.int32)\n",
        "num_tensor = tf.constant(num_A,shape=(2,3,4))\n",
        "num_A,num_tensor"
      ],
      "metadata": {
        "colab": {
          "base_uri": "https://localhost:8080/"
        },
        "id": "54ha49SGRasw",
        "outputId": "874ee4ca-9233-4bc4-f512-ca8c66d4721d"
      },
      "execution_count": null,
      "outputs": [
        {
          "output_type": "execute_result",
          "data": {
            "text/plain": [
              "(array([ 1,  2,  3,  4,  5,  6,  7,  8,  9, 10, 11, 12, 13, 14, 15, 16, 17,\n",
              "        18, 19, 20, 21, 22, 23, 24], dtype=int32),\n",
              " <tf.Tensor: shape=(2, 3, 4), dtype=int32, numpy=\n",
              " array([[[ 1,  2,  3,  4],\n",
              "         [ 5,  6,  7,  8],\n",
              "         [ 9, 10, 11, 12]],\n",
              " \n",
              "        [[13, 14, 15, 16],\n",
              "         [17, 18, 19, 20],\n",
              "         [21, 22, 23, 24]]], dtype=int32)>)"
            ]
          },
          "metadata": {},
          "execution_count": 15
        }
      ]
    },
    {
      "cell_type": "markdown",
      "source": [
        "### Get info from tensor"
      ],
      "metadata": {
        "id": "ZqaFVx9bS5bJ"
      }
    },
    {
      "cell_type": "code",
      "source": [
        "rank_4 = tf.zeros(shape=[2,3,3,5,6])\n",
        "rank_4"
      ],
      "metadata": {
        "colab": {
          "base_uri": "https://localhost:8080/"
        },
        "id": "pFtLFiaIduzm",
        "outputId": "d414ffde-2faf-4817-e2ef-a3841da0be1d"
      },
      "execution_count": null,
      "outputs": [
        {
          "output_type": "execute_result",
          "data": {
            "text/plain": [
              "<tf.Tensor: shape=(2, 3, 3, 5, 6), dtype=float32, numpy=\n",
              "array([[[[[0., 0., 0., 0., 0., 0.],\n",
              "          [0., 0., 0., 0., 0., 0.],\n",
              "          [0., 0., 0., 0., 0., 0.],\n",
              "          [0., 0., 0., 0., 0., 0.],\n",
              "          [0., 0., 0., 0., 0., 0.]],\n",
              "\n",
              "         [[0., 0., 0., 0., 0., 0.],\n",
              "          [0., 0., 0., 0., 0., 0.],\n",
              "          [0., 0., 0., 0., 0., 0.],\n",
              "          [0., 0., 0., 0., 0., 0.],\n",
              "          [0., 0., 0., 0., 0., 0.]],\n",
              "\n",
              "         [[0., 0., 0., 0., 0., 0.],\n",
              "          [0., 0., 0., 0., 0., 0.],\n",
              "          [0., 0., 0., 0., 0., 0.],\n",
              "          [0., 0., 0., 0., 0., 0.],\n",
              "          [0., 0., 0., 0., 0., 0.]]],\n",
              "\n",
              "\n",
              "        [[[0., 0., 0., 0., 0., 0.],\n",
              "          [0., 0., 0., 0., 0., 0.],\n",
              "          [0., 0., 0., 0., 0., 0.],\n",
              "          [0., 0., 0., 0., 0., 0.],\n",
              "          [0., 0., 0., 0., 0., 0.]],\n",
              "\n",
              "         [[0., 0., 0., 0., 0., 0.],\n",
              "          [0., 0., 0., 0., 0., 0.],\n",
              "          [0., 0., 0., 0., 0., 0.],\n",
              "          [0., 0., 0., 0., 0., 0.],\n",
              "          [0., 0., 0., 0., 0., 0.]],\n",
              "\n",
              "         [[0., 0., 0., 0., 0., 0.],\n",
              "          [0., 0., 0., 0., 0., 0.],\n",
              "          [0., 0., 0., 0., 0., 0.],\n",
              "          [0., 0., 0., 0., 0., 0.],\n",
              "          [0., 0., 0., 0., 0., 0.]]],\n",
              "\n",
              "\n",
              "        [[[0., 0., 0., 0., 0., 0.],\n",
              "          [0., 0., 0., 0., 0., 0.],\n",
              "          [0., 0., 0., 0., 0., 0.],\n",
              "          [0., 0., 0., 0., 0., 0.],\n",
              "          [0., 0., 0., 0., 0., 0.]],\n",
              "\n",
              "         [[0., 0., 0., 0., 0., 0.],\n",
              "          [0., 0., 0., 0., 0., 0.],\n",
              "          [0., 0., 0., 0., 0., 0.],\n",
              "          [0., 0., 0., 0., 0., 0.],\n",
              "          [0., 0., 0., 0., 0., 0.]],\n",
              "\n",
              "         [[0., 0., 0., 0., 0., 0.],\n",
              "          [0., 0., 0., 0., 0., 0.],\n",
              "          [0., 0., 0., 0., 0., 0.],\n",
              "          [0., 0., 0., 0., 0., 0.],\n",
              "          [0., 0., 0., 0., 0., 0.]]]],\n",
              "\n",
              "\n",
              "\n",
              "       [[[[0., 0., 0., 0., 0., 0.],\n",
              "          [0., 0., 0., 0., 0., 0.],\n",
              "          [0., 0., 0., 0., 0., 0.],\n",
              "          [0., 0., 0., 0., 0., 0.],\n",
              "          [0., 0., 0., 0., 0., 0.]],\n",
              "\n",
              "         [[0., 0., 0., 0., 0., 0.],\n",
              "          [0., 0., 0., 0., 0., 0.],\n",
              "          [0., 0., 0., 0., 0., 0.],\n",
              "          [0., 0., 0., 0., 0., 0.],\n",
              "          [0., 0., 0., 0., 0., 0.]],\n",
              "\n",
              "         [[0., 0., 0., 0., 0., 0.],\n",
              "          [0., 0., 0., 0., 0., 0.],\n",
              "          [0., 0., 0., 0., 0., 0.],\n",
              "          [0., 0., 0., 0., 0., 0.],\n",
              "          [0., 0., 0., 0., 0., 0.]]],\n",
              "\n",
              "\n",
              "        [[[0., 0., 0., 0., 0., 0.],\n",
              "          [0., 0., 0., 0., 0., 0.],\n",
              "          [0., 0., 0., 0., 0., 0.],\n",
              "          [0., 0., 0., 0., 0., 0.],\n",
              "          [0., 0., 0., 0., 0., 0.]],\n",
              "\n",
              "         [[0., 0., 0., 0., 0., 0.],\n",
              "          [0., 0., 0., 0., 0., 0.],\n",
              "          [0., 0., 0., 0., 0., 0.],\n",
              "          [0., 0., 0., 0., 0., 0.],\n",
              "          [0., 0., 0., 0., 0., 0.]],\n",
              "\n",
              "         [[0., 0., 0., 0., 0., 0.],\n",
              "          [0., 0., 0., 0., 0., 0.],\n",
              "          [0., 0., 0., 0., 0., 0.],\n",
              "          [0., 0., 0., 0., 0., 0.],\n",
              "          [0., 0., 0., 0., 0., 0.]]],\n",
              "\n",
              "\n",
              "        [[[0., 0., 0., 0., 0., 0.],\n",
              "          [0., 0., 0., 0., 0., 0.],\n",
              "          [0., 0., 0., 0., 0., 0.],\n",
              "          [0., 0., 0., 0., 0., 0.],\n",
              "          [0., 0., 0., 0., 0., 0.]],\n",
              "\n",
              "         [[0., 0., 0., 0., 0., 0.],\n",
              "          [0., 0., 0., 0., 0., 0.],\n",
              "          [0., 0., 0., 0., 0., 0.],\n",
              "          [0., 0., 0., 0., 0., 0.],\n",
              "          [0., 0., 0., 0., 0., 0.]],\n",
              "\n",
              "         [[0., 0., 0., 0., 0., 0.],\n",
              "          [0., 0., 0., 0., 0., 0.],\n",
              "          [0., 0., 0., 0., 0., 0.],\n",
              "          [0., 0., 0., 0., 0., 0.],\n",
              "          [0., 0., 0., 0., 0., 0.]]]]], dtype=float32)>"
            ]
          },
          "metadata": {},
          "execution_count": 16
        }
      ]
    },
    {
      "cell_type": "code",
      "source": [
        "rank_4.shape,rank_4.ndim,tf.size(rank_4)"
      ],
      "metadata": {
        "colab": {
          "base_uri": "https://localhost:8080/"
        },
        "id": "aZ9mfxcKd-LP",
        "outputId": "b890ac95-7930-4261-9c0c-e8dc0a8d3f4c"
      },
      "execution_count": null,
      "outputs": [
        {
          "output_type": "execute_result",
          "data": {
            "text/plain": [
              "(TensorShape([2, 3, 3, 5, 6]),\n",
              " 5,\n",
              " <tf.Tensor: shape=(), dtype=int32, numpy=540>)"
            ]
          },
          "metadata": {},
          "execution_count": 17
        }
      ]
    },
    {
      "cell_type": "code",
      "source": [
        "print(\"Data type: \",rank_4.dtype)\n",
        "print(\"No. of dimensio (rank): \", rank_4.ndim)\n",
        "print(\"Shape of tensor: \", rank_4.shape)\n",
        "print(\"Elements along the 0 axis: \", rank_4.shape[0])\n",
        "print(\"Elements along the last axis: \", rank_4.shape[-1])\n",
        "print(\"Total no. of elements in the tensor: \",tf.size(rank_4).numpy())\n"
      ],
      "metadata": {
        "colab": {
          "base_uri": "https://localhost:8080/"
        },
        "id": "yHbd8MDYfAhG",
        "outputId": "c82a1716-1df5-4b86-c74c-fe7c378a573e"
      },
      "execution_count": null,
      "outputs": [
        {
          "output_type": "stream",
          "name": "stdout",
          "text": [
            "Data type:  <dtype: 'float32'>\n",
            "No. of dimensio (rank):  5\n",
            "Shape of tensor:  (2, 3, 3, 5, 6)\n",
            "Elements along the 0 axis:  2\n",
            "Elements along the last axis:  6\n",
            "Total no. of elements in the tensor:  540\n"
          ]
        }
      ]
    },
    {
      "cell_type": "markdown",
      "source": [
        "### Tensors index\n",
        "Same as python list indexing and slicing"
      ],
      "metadata": {
        "id": "4wwDj8zBf2eu"
      }
    },
    {
      "cell_type": "code",
      "source": [
        "rank_4[:1,:2,::]"
      ],
      "metadata": {
        "id": "wfW6nhMCfqSv",
        "colab": {
          "base_uri": "https://localhost:8080/"
        },
        "outputId": "01f15429-e8b6-4399-c3a2-01d49c3601c2"
      },
      "execution_count": null,
      "outputs": [
        {
          "output_type": "execute_result",
          "data": {
            "text/plain": [
              "<tf.Tensor: shape=(1, 2, 3, 5, 6), dtype=float32, numpy=\n",
              "array([[[[[0., 0., 0., 0., 0., 0.],\n",
              "          [0., 0., 0., 0., 0., 0.],\n",
              "          [0., 0., 0., 0., 0., 0.],\n",
              "          [0., 0., 0., 0., 0., 0.],\n",
              "          [0., 0., 0., 0., 0., 0.]],\n",
              "\n",
              "         [[0., 0., 0., 0., 0., 0.],\n",
              "          [0., 0., 0., 0., 0., 0.],\n",
              "          [0., 0., 0., 0., 0., 0.],\n",
              "          [0., 0., 0., 0., 0., 0.],\n",
              "          [0., 0., 0., 0., 0., 0.]],\n",
              "\n",
              "         [[0., 0., 0., 0., 0., 0.],\n",
              "          [0., 0., 0., 0., 0., 0.],\n",
              "          [0., 0., 0., 0., 0., 0.],\n",
              "          [0., 0., 0., 0., 0., 0.],\n",
              "          [0., 0., 0., 0., 0., 0.]]],\n",
              "\n",
              "\n",
              "        [[[0., 0., 0., 0., 0., 0.],\n",
              "          [0., 0., 0., 0., 0., 0.],\n",
              "          [0., 0., 0., 0., 0., 0.],\n",
              "          [0., 0., 0., 0., 0., 0.],\n",
              "          [0., 0., 0., 0., 0., 0.]],\n",
              "\n",
              "         [[0., 0., 0., 0., 0., 0.],\n",
              "          [0., 0., 0., 0., 0., 0.],\n",
              "          [0., 0., 0., 0., 0., 0.],\n",
              "          [0., 0., 0., 0., 0., 0.],\n",
              "          [0., 0., 0., 0., 0., 0.]],\n",
              "\n",
              "         [[0., 0., 0., 0., 0., 0.],\n",
              "          [0., 0., 0., 0., 0., 0.],\n",
              "          [0., 0., 0., 0., 0., 0.],\n",
              "          [0., 0., 0., 0., 0., 0.],\n",
              "          [0., 0., 0., 0., 0., 0.]]]]], dtype=float32)>"
            ]
          },
          "metadata": {},
          "execution_count": 19
        }
      ]
    },
    {
      "cell_type": "markdown",
      "source": [
        "## Basic operations"
      ],
      "metadata": {
        "id": "ilJ8p32UrEXM"
      }
    },
    {
      "cell_type": "code",
      "source": [
        "tensor = tf.constant([[1,2],[3,4]])\n",
        "tensor % 10 # +, -,* , /, %  \n",
        "#original tensor remains unchanged, uses on;y CPU not GPU"
      ],
      "metadata": {
        "colab": {
          "base_uri": "https://localhost:8080/"
        },
        "id": "Dp6LHoD1x0B6",
        "outputId": "88391cdb-0e6a-4883-bf2c-f68db964c4e6"
      },
      "execution_count": null,
      "outputs": [
        {
          "output_type": "execute_result",
          "data": {
            "text/plain": [
              "<tf.Tensor: shape=(2, 2), dtype=int32, numpy=\n",
              "array([[1, 2],\n",
              "       [3, 4]], dtype=int32)>"
            ]
          },
          "metadata": {},
          "execution_count": 20
        }
      ]
    },
    {
      "cell_type": "code",
      "source": [
        "tf.multiply(tensor,10), tf.math.add(tensor,12) #uses GPU or TPU"
      ],
      "metadata": {
        "colab": {
          "base_uri": "https://localhost:8080/"
        },
        "id": "KgbMhM7-yA5C",
        "outputId": "4c3ba6fb-910a-4671-95ca-3200c3e2b675"
      },
      "execution_count": null,
      "outputs": [
        {
          "output_type": "execute_result",
          "data": {
            "text/plain": [
              "(<tf.Tensor: shape=(2, 2), dtype=int32, numpy=\n",
              " array([[10, 20],\n",
              "        [30, 40]], dtype=int32)>, <tf.Tensor: shape=(2, 2), dtype=int32, numpy=\n",
              " array([[13, 14],\n",
              "        [15, 16]], dtype=int32)>)"
            ]
          },
          "metadata": {},
          "execution_count": 21
        }
      ]
    },
    {
      "cell_type": "code",
      "source": [
        "### Matrix multiplication"
      ],
      "metadata": {
        "id": "IXL0B-CMydOF"
      },
      "execution_count": null,
      "outputs": []
    },
    {
      "cell_type": "code",
      "source": [
        "tf.matmul(tensor,tensor) #uses tf.linalg.matmul"
      ],
      "metadata": {
        "colab": {
          "base_uri": "https://localhost:8080/"
        },
        "id": "h7fe9NzSyrFb",
        "outputId": "e0c464d0-1c8d-48ce-d0bc-39f97c4171b9"
      },
      "execution_count": null,
      "outputs": [
        {
          "output_type": "execute_result",
          "data": {
            "text/plain": [
              "<tf.Tensor: shape=(2, 2), dtype=int32, numpy=\n",
              "array([[ 7, 10],\n",
              "       [15, 22]], dtype=int32)>"
            ]
          },
          "metadata": {},
          "execution_count": 23
        }
      ]
    },
    {
      "cell_type": "code",
      "source": [
        "tensor * tensor #elementwise multiplication, @ can be used for matrix multiplication"
      ],
      "metadata": {
        "colab": {
          "base_uri": "https://localhost:8080/"
        },
        "id": "C0sittYRz-xE",
        "outputId": "1fcf2f05-e6ee-4efb-866b-fdd12b1a22cc"
      },
      "execution_count": null,
      "outputs": [
        {
          "output_type": "execute_result",
          "data": {
            "text/plain": [
              "<tf.Tensor: shape=(2, 2), dtype=int32, numpy=\n",
              "array([[ 1,  4],\n",
              "       [ 9, 16]], dtype=int32)>"
            ]
          },
          "metadata": {},
          "execution_count": 24
        }
      ]
    },
    {
      "cell_type": "code",
      "source": [
        "x = tf.constant([[1,2],[3,4],[5,6]])\n",
        "y = tf.constant([[7,8,9],[10,11,12]])\n",
        "z = tf.constant([[7,8],[10,12],[13,14],[15,16],[17,18],[19,20]])"
      ],
      "metadata": {
        "id": "RH_ni3ZN0o-L"
      },
      "execution_count": null,
      "outputs": []
    },
    {
      "cell_type": "code",
      "source": [
        "tf.matmul(x,y)"
      ],
      "metadata": {
        "colab": {
          "base_uri": "https://localhost:8080/"
        },
        "id": "tYpXaAH10-Q7",
        "outputId": "be7d4650-0b46-4c61-d537-daeab9d9f022"
      },
      "execution_count": null,
      "outputs": [
        {
          "output_type": "execute_result",
          "data": {
            "text/plain": [
              "<tf.Tensor: shape=(3, 3), dtype=int32, numpy=\n",
              "array([[ 27,  30,  33],\n",
              "       [ 61,  68,  75],\n",
              "       [ 95, 106, 117]], dtype=int32)>"
            ]
          },
          "metadata": {},
          "execution_count": 26
        }
      ]
    },
    {
      "cell_type": "code",
      "source": [
        "z"
      ],
      "metadata": {
        "colab": {
          "base_uri": "https://localhost:8080/"
        },
        "id": "NRcsChH14avb",
        "outputId": "86e6ba5a-b90a-495a-b703-fe6e26c77910"
      },
      "execution_count": null,
      "outputs": [
        {
          "output_type": "execute_result",
          "data": {
            "text/plain": [
              "<tf.Tensor: shape=(6, 2), dtype=int32, numpy=\n",
              "array([[ 7,  8],\n",
              "       [10, 12],\n",
              "       [13, 14],\n",
              "       [15, 16],\n",
              "       [17, 18],\n",
              "       [19, 20]], dtype=int32)>"
            ]
          },
          "metadata": {},
          "execution_count": 27
        }
      ]
    },
    {
      "cell_type": "code",
      "source": [
        "tf.reshape(z,shape=(2,6)) , tf.transpose(z)"
      ],
      "metadata": {
        "colab": {
          "base_uri": "https://localhost:8080/"
        },
        "id": "d7U1PMGG4IMG",
        "outputId": "5b3f5615-6277-46e4-8477-dfccdabc6e1b"
      },
      "execution_count": null,
      "outputs": [
        {
          "output_type": "execute_result",
          "data": {
            "text/plain": [
              "(<tf.Tensor: shape=(2, 6), dtype=int32, numpy=\n",
              " array([[ 7,  8, 10, 12, 13, 14],\n",
              "        [15, 16, 17, 18, 19, 20]], dtype=int32)>,\n",
              " <tf.Tensor: shape=(2, 6), dtype=int32, numpy=\n",
              " array([[ 7, 10, 13, 15, 17, 19],\n",
              "        [ 8, 12, 14, 16, 18, 20]], dtype=int32)>)"
            ]
          },
          "metadata": {},
          "execution_count": 28
        }
      ]
    },
    {
      "cell_type": "code",
      "source": [
        "x @ tf.reshape(z,shape=(2,6)) # @ does matrix multiplication in python}"
      ],
      "metadata": {
        "colab": {
          "base_uri": "https://localhost:8080/"
        },
        "id": "8txrjR3G4dDM",
        "outputId": "7ffa574d-5971-4847-bb99-0577cba0b08e"
      },
      "execution_count": null,
      "outputs": [
        {
          "output_type": "execute_result",
          "data": {
            "text/plain": [
              "<tf.Tensor: shape=(3, 6), dtype=int32, numpy=\n",
              "array([[ 37,  40,  44,  48,  51,  54],\n",
              "       [ 81,  88,  98, 108, 115, 122],\n",
              "       [125, 136, 152, 168, 179, 190]], dtype=int32)>"
            ]
          },
          "metadata": {},
          "execution_count": 29
        }
      ]
    },
    {
      "cell_type": "code",
      "source": [
        "tf.matmul(x, tf.transpose(z))"
      ],
      "metadata": {
        "colab": {
          "base_uri": "https://localhost:8080/"
        },
        "id": "m7ZBS-wY42s-",
        "outputId": "603c2eec-47ae-4bf0-a48a-3eaa2ee70e18"
      },
      "execution_count": null,
      "outputs": [
        {
          "output_type": "execute_result",
          "data": {
            "text/plain": [
              "<tf.Tensor: shape=(3, 6), dtype=int32, numpy=\n",
              "array([[ 23,  34,  41,  47,  53,  59],\n",
              "       [ 53,  78,  95, 109, 123, 137],\n",
              "       [ 83, 122, 149, 171, 193, 215]], dtype=int32)>"
            ]
          },
          "metadata": {},
          "execution_count": 30
        }
      ]
    },
    {
      "cell_type": "markdown",
      "source": [
        "**Dot Product**"
      ],
      "metadata": {
        "id": "rfbDn46OIZdN"
      }
    },
    {
      "cell_type": "code",
      "source": [
        "tf.tensordot(x,y,axes=1),tf.matmul(x,y)"
      ],
      "metadata": {
        "colab": {
          "base_uri": "https://localhost:8080/"
        },
        "id": "zBCW-gICIcxs",
        "outputId": "d82317f6-8d9e-40a5-e87c-a5816d9a5c65"
      },
      "execution_count": null,
      "outputs": [
        {
          "output_type": "execute_result",
          "data": {
            "text/plain": [
              "(<tf.Tensor: shape=(3, 3), dtype=int32, numpy=\n",
              " array([[ 27,  30,  33],\n",
              "        [ 61,  68,  75],\n",
              "        [ 95, 106, 117]], dtype=int32)>,\n",
              " <tf.Tensor: shape=(3, 3), dtype=int32, numpy=\n",
              " array([[ 27,  30,  33],\n",
              "        [ 61,  68,  75],\n",
              "        [ 95, 106, 117]], dtype=int32)>)"
            ]
          },
          "metadata": {},
          "execution_count": 31
        }
      ]
    },
    {
      "cell_type": "code",
      "source": [
        "x,y"
      ],
      "metadata": {
        "colab": {
          "base_uri": "https://localhost:8080/"
        },
        "id": "5-q-IAVzJ_H5",
        "outputId": "f7cb74ac-ff1b-4341-dd46-55baf669f3a5"
      },
      "execution_count": null,
      "outputs": [
        {
          "output_type": "execute_result",
          "data": {
            "text/plain": [
              "(<tf.Tensor: shape=(3, 2), dtype=int32, numpy=\n",
              " array([[1, 2],\n",
              "        [3, 4],\n",
              "        [5, 6]], dtype=int32)>, <tf.Tensor: shape=(2, 3), dtype=int32, numpy=\n",
              " array([[ 7,  8,  9],\n",
              "        [10, 11, 12]], dtype=int32)>)"
            ]
          },
          "metadata": {},
          "execution_count": 32
        }
      ]
    },
    {
      "cell_type": "code",
      "source": [
        "tf.tensordot(x,y,axes=0)"
      ],
      "metadata": {
        "colab": {
          "base_uri": "https://localhost:8080/"
        },
        "id": "ODjbUq7ERK6r",
        "outputId": "d00d4719-521a-4a23-911a-2bfcf48b0da2"
      },
      "execution_count": null,
      "outputs": [
        {
          "output_type": "execute_result",
          "data": {
            "text/plain": [
              "<tf.Tensor: shape=(3, 2, 2, 3), dtype=int32, numpy=\n",
              "array([[[[ 7,  8,  9],\n",
              "         [10, 11, 12]],\n",
              "\n",
              "        [[14, 16, 18],\n",
              "         [20, 22, 24]]],\n",
              "\n",
              "\n",
              "       [[[21, 24, 27],\n",
              "         [30, 33, 36]],\n",
              "\n",
              "        [[28, 32, 36],\n",
              "         [40, 44, 48]]],\n",
              "\n",
              "\n",
              "       [[[35, 40, 45],\n",
              "         [50, 55, 60]],\n",
              "\n",
              "        [[42, 48, 54],\n",
              "         [60, 66, 72]]]], dtype=int32)>"
            ]
          },
          "metadata": {},
          "execution_count": 33
        }
      ]
    },
    {
      "cell_type": "code",
      "source": [
        "x,y"
      ],
      "metadata": {
        "id": "wy15iFENuxdO",
        "colab": {
          "base_uri": "https://localhost:8080/"
        },
        "outputId": "1cbfbaab-624a-40ae-bf1b-c5e2147411c3"
      },
      "execution_count": null,
      "outputs": [
        {
          "output_type": "execute_result",
          "data": {
            "text/plain": [
              "(<tf.Tensor: shape=(3, 2), dtype=int32, numpy=\n",
              " array([[1, 2],\n",
              "        [3, 4],\n",
              "        [5, 6]], dtype=int32)>, <tf.Tensor: shape=(2, 3), dtype=int32, numpy=\n",
              " array([[ 7,  8,  9],\n",
              "        [10, 11, 12]], dtype=int32)>)"
            ]
          },
          "metadata": {},
          "execution_count": 34
        }
      ]
    },
    {
      "cell_type": "code",
      "source": [
        "import numpy as np"
      ],
      "metadata": {
        "id": "GbGAz07N-xw_"
      },
      "execution_count": null,
      "outputs": []
    },
    {
      "cell_type": "code",
      "source": [
        "a = np.array([[1,2,3],[4,5,6]])\n",
        "b = np.array([[7,8,9],[10,11,12]])"
      ],
      "metadata": {
        "id": "vODH141F_9Pb"
      },
      "execution_count": null,
      "outputs": []
    },
    {
      "cell_type": "code",
      "source": [
        "np.inner(a,b)"
      ],
      "metadata": {
        "colab": {
          "base_uri": "https://localhost:8080/"
        },
        "id": "oPTpbYiBAI1b",
        "outputId": "4110b53f-fd29-48e1-a7bf-9da86f9ec226"
      },
      "execution_count": null,
      "outputs": [
        {
          "output_type": "execute_result",
          "data": {
            "text/plain": [
              "array([[ 50,  68],\n",
              "       [122, 167]])"
            ]
          },
          "metadata": {},
          "execution_count": 37
        }
      ]
    },
    {
      "cell_type": "code",
      "source": [
        "7+16+27,10+22+36"
      ],
      "metadata": {
        "colab": {
          "base_uri": "https://localhost:8080/"
        },
        "id": "ZTtJencqBBYJ",
        "outputId": "c67d85f2-e2dc-415a-8425-c0360366cfba"
      },
      "execution_count": null,
      "outputs": [
        {
          "output_type": "execute_result",
          "data": {
            "text/plain": [
              "(50, 68)"
            ]
          },
          "metadata": {},
          "execution_count": 38
        }
      ]
    },
    {
      "cell_type": "code",
      "source": [
        "np.outer"
      ],
      "metadata": {
        "colab": {
          "base_uri": "https://localhost:8080/"
        },
        "id": "BixyQ3zEBKwy",
        "outputId": "260b1c1f-2751-452c-f227-38790a390ac7"
      },
      "execution_count": null,
      "outputs": [
        {
          "output_type": "execute_result",
          "data": {
            "text/plain": [
              "<function numpy.outer>"
            ]
          },
          "metadata": {},
          "execution_count": 39
        }
      ]
    },
    {
      "cell_type": "code",
      "source": [
        "x.dtype"
      ],
      "metadata": {
        "colab": {
          "base_uri": "https://localhost:8080/"
        },
        "id": "tR11s-c5JRll",
        "outputId": "b3e58851-a567-4ef1-b031-1f0108c16130"
      },
      "execution_count": null,
      "outputs": [
        {
          "output_type": "execute_result",
          "data": {
            "text/plain": [
              "tf.int32"
            ]
          },
          "metadata": {},
          "execution_count": 40
        }
      ]
    },
    {
      "cell_type": "code",
      "source": [
        "tf.cast(x,dtype=tf.float32) #change data type"
      ],
      "metadata": {
        "colab": {
          "base_uri": "https://localhost:8080/"
        },
        "id": "kO6YhT9pPZiD",
        "outputId": "d73f2436-1f31-43e0-c864-a63c35d11f9c"
      },
      "execution_count": null,
      "outputs": [
        {
          "output_type": "execute_result",
          "data": {
            "text/plain": [
              "<tf.Tensor: shape=(3, 2), dtype=float32, numpy=\n",
              "array([[1., 2.],\n",
              "       [3., 4.],\n",
              "       [5., 6.]], dtype=float32)>"
            ]
          },
          "metadata": {},
          "execution_count": 41
        }
      ]
    },
    {
      "cell_type": "markdown",
      "source": [
        "## Aggregating tensors\n",
        " - Abs\n",
        " - Mean\n",
        " - Max\n",
        " - Min and so on"
      ],
      "metadata": {
        "id": "SxaNUPU9PkJN"
      }
    },
    {
      "cell_type": "code",
      "source": [
        "tens = tf.constant([-1,-2,-3])\n",
        "tf.abs(tens)"
      ],
      "metadata": {
        "colab": {
          "base_uri": "https://localhost:8080/"
        },
        "id": "ZuMqof9rRZk9",
        "outputId": "caa59f63-2a26-492b-eaff-c911eaca8d8b"
      },
      "execution_count": null,
      "outputs": [
        {
          "output_type": "execute_result",
          "data": {
            "text/plain": [
              "<tf.Tensor: shape=(3,), dtype=int32, numpy=array([1, 2, 3], dtype=int32)>"
            ]
          },
          "metadata": {},
          "execution_count": 42
        }
      ]
    },
    {
      "cell_type": "code",
      "source": [
        "A = tf.constant(np.random.randint(0,100,size=50),dtype=tf.float32)\n",
        "A"
      ],
      "metadata": {
        "colab": {
          "base_uri": "https://localhost:8080/"
        },
        "id": "mqOXnkOWR4po",
        "outputId": "8a02322c-6d25-4cb8-dc90-195d900cdac6"
      },
      "execution_count": null,
      "outputs": [
        {
          "output_type": "execute_result",
          "data": {
            "text/plain": [
              "<tf.Tensor: shape=(50,), dtype=float32, numpy=\n",
              "array([49., 96., 29.,  9., 47., 91., 46., 51., 59., 19., 89., 69., 76.,\n",
              "        5., 99., 15., 91., 38., 38.,  1., 43., 37.,  0.,  1., 59., 30.,\n",
              "       34.,  7., 33., 25., 76., 55., 31., 49., 49.,  3.,  8., 77., 66.,\n",
              "       36., 80., 53., 60., 48., 71., 75., 74., 81., 16., 59.],\n",
              "      dtype=float32)>"
            ]
          },
          "metadata": {},
          "execution_count": 62
        }
      ]
    },
    {
      "cell_type": "code",
      "source": [
        "tf.size(A),A.ndim, A.shape"
      ],
      "metadata": {
        "colab": {
          "base_uri": "https://localhost:8080/"
        },
        "id": "YyKSc81GSN8q",
        "outputId": "e429ea53-3f24-4bc4-b12f-b31d9536035d"
      },
      "execution_count": null,
      "outputs": [
        {
          "output_type": "execute_result",
          "data": {
            "text/plain": [
              "(<tf.Tensor: shape=(), dtype=int32, numpy=50>, 1, TensorShape([50]))"
            ]
          },
          "metadata": {},
          "execution_count": 63
        }
      ]
    },
    {
      "cell_type": "code",
      "source": [
        "print(\"Mean: \",tf.reduce_mean(A).numpy())\n",
        "print(\"SD: \",tf.math.reduce_std(A).numpy()) \n",
        "print(\"Variance: \",tf.math.reduce_variance(A).numpy()) #mean"
      ],
      "metadata": {
        "colab": {
          "base_uri": "https://localhost:8080/"
        },
        "id": "UFqaZMXYSZmu",
        "outputId": "0260d6a3-b4fd-4c30-f085-0769cbc538d8"
      },
      "execution_count": null,
      "outputs": [
        {
          "output_type": "stream",
          "name": "stdout",
          "text": [
            "Mean:  47.06\n",
            "SD:  27.865685\n",
            "Variance:  776.4964\n"
          ]
        }
      ]
    },
    {
      "cell_type": "code",
      "source": [
        "tf.reduce_max(A),tf.reduce_min(A)"
      ],
      "metadata": {
        "colab": {
          "base_uri": "https://localhost:8080/"
        },
        "id": "TqN5Ji9KSe2X",
        "outputId": "2cd3a944-6452-4322-fab8-d884fa51c05f"
      },
      "execution_count": null,
      "outputs": [
        {
          "output_type": "execute_result",
          "data": {
            "text/plain": [
              "(<tf.Tensor: shape=(), dtype=float32, numpy=99.0>,\n",
              " <tf.Tensor: shape=(), dtype=float32, numpy=2.0>)"
            ]
          },
          "metadata": {},
          "execution_count": 46
        }
      ]
    },
    {
      "cell_type": "markdown",
      "source": [
        "## Positional max,min"
      ],
      "metadata": {
        "id": "iV5BPaHmX4TX"
      }
    },
    {
      "cell_type": "code",
      "source": [
        "tf.random.set_seed(12)\n",
        "A = tf.random.uniform(shape=[50])\n",
        "A"
      ],
      "metadata": {
        "colab": {
          "base_uri": "https://localhost:8080/"
        },
        "id": "0U-GDxkPX62C",
        "outputId": "5a2944e9-e263-4564-91e5-f133bf047027"
      },
      "execution_count": null,
      "outputs": [
        {
          "output_type": "execute_result",
          "data": {
            "text/plain": [
              "<tf.Tensor: shape=(50,), dtype=float32, numpy=\n",
              "array([0.47720265, 0.33357763, 0.4960823 , 0.48351312, 0.2963959 ,\n",
              "       0.69444907, 0.68488   , 0.6662284 , 0.07551682, 0.06608915,\n",
              "       0.91428673, 0.21982336, 0.066468  , 0.37987065, 0.88209164,\n",
              "       0.73124087, 0.59181285, 0.9785874 , 0.0937705 , 0.37701082,\n",
              "       0.2055552 , 0.2800591 , 0.44172525, 0.9199766 , 0.49873018,\n",
              "       0.10266078, 0.12177575, 0.10520744, 0.22547913, 0.39156199,\n",
              "       0.5587522 , 0.7095549 , 0.04214132, 0.03028095, 0.14591146,\n",
              "       0.7897457 , 0.52633774, 0.8487345 , 0.08758485, 0.5727763 ,\n",
              "       0.74252594, 0.63061965, 0.03749514, 0.0432719 , 0.13088238,\n",
              "       0.6540686 , 0.9438777 , 0.65461504, 0.10520577, 0.8353534 ],\n",
              "      dtype=float32)>"
            ]
          },
          "metadata": {},
          "execution_count": 47
        }
      ]
    },
    {
      "cell_type": "code",
      "source": [
        "tf.argmax(A,axis=0),A[tf.argmax(A,axis=0)],tf.reduce_max(A)"
      ],
      "metadata": {
        "colab": {
          "base_uri": "https://localhost:8080/"
        },
        "id": "bRh13Ra8YG53",
        "outputId": "6732304e-323a-4c2d-ea5d-c33fa515e8a1"
      },
      "execution_count": null,
      "outputs": [
        {
          "output_type": "execute_result",
          "data": {
            "text/plain": [
              "(<tf.Tensor: shape=(), dtype=int64, numpy=17>,\n",
              " <tf.Tensor: shape=(), dtype=float32, numpy=0.9785874>,\n",
              " <tf.Tensor: shape=(), dtype=float32, numpy=0.9785874>)"
            ]
          },
          "metadata": {},
          "execution_count": 48
        }
      ]
    },
    {
      "cell_type": "code",
      "source": [
        "tf.argmin(A,axis=0),A[tf.argmin(A,axis=0)],tf.reduce_min(A)"
      ],
      "metadata": {
        "colab": {
          "base_uri": "https://localhost:8080/"
        },
        "id": "TELoCtshaeog",
        "outputId": "354f188f-beb1-4171-adcb-1ea3a05f8e6b"
      },
      "execution_count": null,
      "outputs": [
        {
          "output_type": "execute_result",
          "data": {
            "text/plain": [
              "(<tf.Tensor: shape=(), dtype=int64, numpy=33>,\n",
              " <tf.Tensor: shape=(), dtype=float32, numpy=0.030280948>,\n",
              " <tf.Tensor: shape=(), dtype=float32, numpy=0.030280948>)"
            ]
          },
          "metadata": {},
          "execution_count": 49
        }
      ]
    },
    {
      "cell_type": "code",
      "source": [
        "B = tf.constant(tf.random.uniform(shape=[100]),shape=(1,2,1,1,50))\n",
        "B"
      ],
      "metadata": {
        "colab": {
          "base_uri": "https://localhost:8080/"
        },
        "id": "hZkjnruZa_kQ",
        "outputId": "7148abb0-742c-4b4b-ad41-be25acce768e"
      },
      "execution_count": null,
      "outputs": [
        {
          "output_type": "execute_result",
          "data": {
            "text/plain": [
              "<tf.Tensor: shape=(1, 2, 1, 1, 50), dtype=float32, numpy=\n",
              "array([[[[[0.32095957, 0.7189348 , 0.87707686, 0.47581577, 0.7003732 ,\n",
              "           0.7321279 , 0.25916302, 0.6902908 , 0.9872663 , 0.8601574 ,\n",
              "           0.22054565, 0.84840035, 0.29193854, 0.26677644, 0.75828254,\n",
              "           0.12371647, 0.00212812, 0.68888617, 0.38517427, 0.12188411,\n",
              "           0.56316876, 0.05912185, 0.3157003 , 0.8786137 , 0.8753121 ,\n",
              "           0.7160096 , 0.9419296 , 0.44044304, 0.7505392 , 0.01177239,\n",
              "           0.6105257 , 0.6891991 , 0.91607106, 0.55492866, 0.55074644,\n",
              "           0.07777715, 0.76308095, 0.00216663, 0.5055393 , 0.8803278 ,\n",
              "           0.04833901, 0.04366612, 0.9809506 , 0.27405775, 0.5914726 ,\n",
              "           0.4927982 , 0.86158025, 0.23493552, 0.27736568, 0.38115633]]],\n",
              "\n",
              "\n",
              "        [[[0.60218453, 0.53051066, 0.48460412, 0.40210152, 0.35604906,\n",
              "           0.91844916, 0.74156547, 0.1841731 , 0.98216033, 0.32677376,\n",
              "           0.59047174, 0.2459085 , 0.24897099, 0.04138458, 0.2010895 ,\n",
              "           0.5422325 , 0.9465697 , 0.8534759 , 0.20146906, 0.18398392,\n",
              "           0.68267953, 0.52331865, 0.65748143, 0.60844517, 0.7535101 ,\n",
              "           0.13365042, 0.6976087 , 0.43817008, 0.22553098, 0.7950281 ,\n",
              "           0.33489   , 0.23756146, 0.12405097, 0.21807837, 0.8214358 ,\n",
              "           0.56139565, 0.5659754 , 0.25357258, 0.7430227 , 0.58341515,\n",
              "           0.93541825, 0.00244009, 0.16740167, 0.5563191 , 0.92607844,\n",
              "           0.521124  , 0.02926099, 0.00825036, 0.8988124 , 0.25751305]]]]],\n",
              "      dtype=float32)>"
            ]
          },
          "metadata": {},
          "execution_count": 50
        }
      ]
    },
    {
      "cell_type": "code",
      "source": [
        "B_squeezed = tf.squeeze(B)\n",
        "B_squeezed.shape"
      ],
      "metadata": {
        "colab": {
          "base_uri": "https://localhost:8080/"
        },
        "id": "OP66wLeIbluX",
        "outputId": "e0c6e155-035a-40c1-8966-14a0c7b67e9b"
      },
      "execution_count": null,
      "outputs": [
        {
          "output_type": "execute_result",
          "data": {
            "text/plain": [
              "TensorShape([2, 50])"
            ]
          },
          "metadata": {},
          "execution_count": 51
        }
      ]
    },
    {
      "cell_type": "markdown",
      "source": [
        "## One hot encoding"
      ],
      "metadata": {
        "id": "9iPpZQIGcFgu"
      }
    },
    {
      "cell_type": "code",
      "source": [
        "some_list = [1,2,3,1,4,2,3]\n",
        "tf.one_hot(some_list, depth=4)"
      ],
      "metadata": {
        "colab": {
          "base_uri": "https://localhost:8080/"
        },
        "id": "5K6fEbcScH4n",
        "outputId": "45b6bdba-43f5-4eca-ad03-7d310d0f05e7"
      },
      "execution_count": null,
      "outputs": [
        {
          "output_type": "execute_result",
          "data": {
            "text/plain": [
              "<tf.Tensor: shape=(7, 4), dtype=float32, numpy=\n",
              "array([[0., 1., 0., 0.],\n",
              "       [0., 0., 1., 0.],\n",
              "       [0., 0., 0., 1.],\n",
              "       [0., 1., 0., 0.],\n",
              "       [0., 0., 0., 0.],\n",
              "       [0., 0., 1., 0.],\n",
              "       [0., 0., 0., 1.]], dtype=float32)>"
            ]
          },
          "metadata": {},
          "execution_count": 52
        }
      ]
    },
    {
      "cell_type": "code",
      "source": [
        "tf.one_hot(some_list,depth=4, on_value=\"yo\", off_value=\"oh no\")"
      ],
      "metadata": {
        "colab": {
          "base_uri": "https://localhost:8080/"
        },
        "id": "kGI_SWOAfHUo",
        "outputId": "fde744ba-1e07-497a-b787-a5065e140b92"
      },
      "execution_count": null,
      "outputs": [
        {
          "output_type": "execute_result",
          "data": {
            "text/plain": [
              "<tf.Tensor: shape=(7, 4), dtype=string, numpy=\n",
              "array([[b'oh no', b'yo', b'oh no', b'oh no'],\n",
              "       [b'oh no', b'oh no', b'yo', b'oh no'],\n",
              "       [b'oh no', b'oh no', b'oh no', b'yo'],\n",
              "       [b'oh no', b'yo', b'oh no', b'oh no'],\n",
              "       [b'oh no', b'oh no', b'oh no', b'oh no'],\n",
              "       [b'oh no', b'oh no', b'yo', b'oh no'],\n",
              "       [b'oh no', b'oh no', b'oh no', b'yo']], dtype=object)>"
            ]
          },
          "metadata": {},
          "execution_count": 53
        }
      ]
    },
    {
      "cell_type": "markdown",
      "source": [
        "## Misc\n",
        "log,exp, pow"
      ],
      "metadata": {
        "id": "EcWGnraDfRCV"
      }
    },
    {
      "cell_type": "code",
      "source": [
        "C = tf.range(1,10)\n",
        "C = tf.cast(C, dtype=tf.float32)"
      ],
      "metadata": {
        "id": "1gI6Bhimf6Ef"
      },
      "execution_count": null,
      "outputs": []
    },
    {
      "cell_type": "code",
      "source": [
        "tf.math.sqrt(C),tf.math.log(C),tf.math.exp(C)"
      ],
      "metadata": {
        "colab": {
          "base_uri": "https://localhost:8080/"
        },
        "id": "xsuMiW_EgBVi",
        "outputId": "52886fec-0ee6-4c34-eb53-f496536fbc3b"
      },
      "execution_count": null,
      "outputs": [
        {
          "output_type": "execute_result",
          "data": {
            "text/plain": [
              "(<tf.Tensor: shape=(9,), dtype=float32, numpy=\n",
              " array([1.       , 1.4142135, 1.7320508, 2.       , 2.2360678, 2.4494896,\n",
              "        2.6457512, 2.828427 , 3.       ], dtype=float32)>,\n",
              " <tf.Tensor: shape=(9,), dtype=float32, numpy=\n",
              " array([0.       , 0.6931472, 1.0986123, 1.3862944, 1.609438 , 1.7917595,\n",
              "        1.9459102, 2.0794415, 2.1972246], dtype=float32)>,\n",
              " <tf.Tensor: shape=(9,), dtype=float32, numpy=\n",
              " array([2.7182817e+00, 7.3890562e+00, 2.0085537e+01, 5.4598148e+01,\n",
              "        1.4841316e+02, 4.0342880e+02, 1.0966332e+03, 2.9809580e+03,\n",
              "        8.1030840e+03], dtype=float32)>)"
            ]
          },
          "metadata": {},
          "execution_count": 55
        }
      ]
    },
    {
      "cell_type": "markdown",
      "source": [
        "## Tensors and numpy"
      ],
      "metadata": {
        "id": "oVpjvNKLgece"
      }
    },
    {
      "cell_type": "code",
      "source": [
        "D = tf.constant(np.array([1,2,3,4,565,7,7,5]))\n",
        "D"
      ],
      "metadata": {
        "colab": {
          "base_uri": "https://localhost:8080/"
        },
        "id": "qe5yrFezgh6K",
        "outputId": "fcd234ab-bf32-4fda-ff5b-cf3c438cca86"
      },
      "execution_count": null,
      "outputs": [
        {
          "output_type": "execute_result",
          "data": {
            "text/plain": [
              "<tf.Tensor: shape=(8,), dtype=int64, numpy=array([  1,   2,   3,   4, 565,   7,   7,   5])>"
            ]
          },
          "metadata": {},
          "execution_count": 56
        }
      ]
    },
    {
      "cell_type": "code",
      "source": [
        "np.array(D)"
      ],
      "metadata": {
        "colab": {
          "base_uri": "https://localhost:8080/"
        },
        "id": "qZJ6e4Jig8MZ",
        "outputId": "093a9df0-c6b0-4c90-f624-cc308f8e3ea9"
      },
      "execution_count": null,
      "outputs": [
        {
          "output_type": "execute_result",
          "data": {
            "text/plain": [
              "array([  1,   2,   3,   4, 565,   7,   7,   5])"
            ]
          },
          "metadata": {},
          "execution_count": 57
        }
      ]
    },
    {
      "cell_type": "code",
      "source": [
        "E = tf.constant(np.array([1,2,3,4,5]))\n",
        "F = tf.constant([1,2,3,4,5])\n",
        "E.dtype, F.dtype\n",
        "#tensor from numpy array-> (int/float)64,\n",
        "#tensor from list -> (int/float)32 "
      ],
      "metadata": {
        "colab": {
          "base_uri": "https://localhost:8080/"
        },
        "id": "AWoWD6-EhDe0",
        "outputId": "68a5a9a4-23ea-49e8-e743-0e288f8649f1"
      },
      "execution_count": null,
      "outputs": [
        {
          "output_type": "execute_result",
          "data": {
            "text/plain": [
              "(tf.int64, tf.int32)"
            ]
          },
          "metadata": {},
          "execution_count": 192
        }
      ]
    },
    {
      "cell_type": "markdown",
      "source": [
        "## Using GPU"
      ],
      "metadata": {
        "id": "iZ6yfT-hiCr_"
      }
    },
    {
      "cell_type": "code",
      "source": [
        "import tensorflow as tf\n",
        "tf.config.list_physical_devices()"
      ],
      "metadata": {
        "colab": {
          "base_uri": "https://localhost:8080/"
        },
        "id": "GfII_Ag7i8fO",
        "outputId": "1dfe08e8-adc1-465c-88a7-ad2d6641831c"
      },
      "execution_count": null,
      "outputs": [
        {
          "output_type": "execute_result",
          "data": {
            "text/plain": [
              "[PhysicalDevice(name='/physical_device:CPU:0', device_type='CPU'),\n",
              " PhysicalDevice(name='/physical_device:GPU:0', device_type='GPU')]"
            ]
          },
          "metadata": {},
          "execution_count": 3
        }
      ]
    },
    {
      "cell_type": "code",
      "source": [
        "!nvidia-smi"
      ],
      "metadata": {
        "colab": {
          "base_uri": "https://localhost:8080/"
        },
        "id": "dHdWsGvFjYQI",
        "outputId": "127b6535-09ca-44f9-e655-4bf3614b2561"
      },
      "execution_count": null,
      "outputs": [
        {
          "output_type": "stream",
          "name": "stdout",
          "text": [
            "Thu Jul 14 16:33:37 2022       \n",
            "+-----------------------------------------------------------------------------+\n",
            "| NVIDIA-SMI 460.32.03    Driver Version: 460.32.03    CUDA Version: 11.2     |\n",
            "|-------------------------------+----------------------+----------------------+\n",
            "| GPU  Name        Persistence-M| Bus-Id        Disp.A | Volatile Uncorr. ECC |\n",
            "| Fan  Temp  Perf  Pwr:Usage/Cap|         Memory-Usage | GPU-Util  Compute M. |\n",
            "|                               |                      |               MIG M. |\n",
            "|===============================+======================+======================|\n",
            "|   0  Tesla T4            Off  | 00000000:00:04.0 Off |                    0 |\n",
            "| N/A   38C    P8     9W /  70W |      3MiB / 15109MiB |      0%      Default |\n",
            "|                               |                      |                  N/A |\n",
            "+-------------------------------+----------------------+----------------------+\n",
            "                                                                               \n",
            "+-----------------------------------------------------------------------------+\n",
            "| Processes:                                                                  |\n",
            "|  GPU   GI   CI        PID   Type   Process name                  GPU Memory |\n",
            "|        ID   ID                                                   Usage      |\n",
            "|=============================================================================|\n",
            "|  No running processes found                                                 |\n",
            "+-----------------------------------------------------------------------------+\n"
          ]
        }
      ]
    },
    {
      "cell_type": "code",
      "source": [
        ""
      ],
      "metadata": {
        "id": "mSXXzKCgjame"
      },
      "execution_count": null,
      "outputs": []
    }
  ]
}