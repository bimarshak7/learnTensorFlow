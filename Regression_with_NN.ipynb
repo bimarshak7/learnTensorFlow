{
  "nbformat": 4,
  "nbformat_minor": 0,
  "metadata": {
    "colab": {
      "name": "Regression with NN.ipynb",
      "provenance": [],
      "collapsed_sections": [],
      "authorship_tag": "ABX9TyO79zZOg5htUoeGGFjeCyUy",
      "include_colab_link": true
    },
    "kernelspec": {
      "name": "python3",
      "display_name": "Python 3"
    },
    "language_info": {
      "name": "python"
    }
  },
  "cells": [
    {
      "cell_type": "markdown",
      "metadata": {
        "id": "view-in-github",
        "colab_type": "text"
      },
      "source": [
        "<a href=\"https://colab.research.google.com/github/bimarshak7/learnTensorFlow/blob/main/Regression_with_NN.ipynb\" target=\"_parent\"><img src=\"https://colab.research.google.com/assets/colab-badge.svg\" alt=\"Open In Colab\"/></a>"
      ]
    },
    {
      "cell_type": "markdown",
      "source": [
        "# House Price Prediction using Neural Network Regression\n",
        " - False Data"
      ],
      "metadata": {
        "id": "sIN52Bag1fKr"
      }
    },
    {
      "cell_type": "code",
      "execution_count": 1,
      "metadata": {
        "id": "_q7nUhHxlAIb"
      },
      "outputs": [],
      "source": [
        "import tensorflow as tf\n",
        "import numpy as np\n",
        "import matplotlib.pyplot as plt"
      ]
    },
    {
      "cell_type": "code",
      "source": [
        "x = np.array([-7.0,-4.0,-1.0,2.0,5.0,8.0,11.0,15.0])\n",
        "y = np.array([3.0,6.0,9.0,12.0,15.0,18.0,21.0,25.0])\n",
        "\n",
        "plt.scatter(x,y)"
      ],
      "metadata": {
        "id": "C_DjgbkS6HRm",
        "colab": {
          "base_uri": "https://localhost:8080/",
          "height": 283
        },
        "outputId": "861b3e06-f407-4be0-eb93-1cc1376b51c4"
      },
      "execution_count": 2,
      "outputs": [
        {
          "output_type": "execute_result",
          "data": {
            "text/plain": [
              "<matplotlib.collections.PathCollection at 0x7f11483674d0>"
            ]
          },
          "metadata": {},
          "execution_count": 2
        },
        {
          "output_type": "display_data",
          "data": {
            "text/plain": [
              "<Figure size 432x288 with 1 Axes>"
            ],
            "image/png": "[encoded data removed]"
          },
          "metadata": {
            "needs_background": "light"
          }
        }
      ]
    },
    {
      "cell_type": "code",
      "source": [
        "# Numpy aaray to tensors\n",
        "X = tf.constant(x)\n",
        "Y = tf.constant(y)\n",
        "X,Y"
      ],
      "metadata": {
        "colab": {
          "base_uri": "https://localhost:8080/"
        },
        "id": "6vJ9uPl29MsM",
        "outputId": "ccaa7a5e-3482-435b-b941-edd395a34c59"
      },
      "execution_count": 3,
      "outputs": [
        {
          "output_type": "execute_result",
          "data": {
            "text/plain": [
              "(<tf.Tensor: shape=(8,), dtype=float64, numpy=array([-7., -4., -1.,  2.,  5.,  8., 11., 15.])>,\n",
              " <tf.Tensor: shape=(8,), dtype=float64, numpy=array([ 3.,  6.,  9., 12., 15., 18., 21., 25.])>)"
            ]
          },
          "metadata": {},
          "execution_count": 3
        }
      ]
    },
    {
      "cell_type": "code",
      "source": [
        "# create mdel -> compile model -> fit model\n",
        "tf.random.set_seed(31)\n",
        "\n",
        "#create model\n",
        "model = tf.keras.Sequential([tf.keras.layers.Dense(1)])\n",
        "\n",
        "#compile model\n",
        "model.compile(loss=tf.keras.losses.mae,\n",
        "              optimizer=tf.keras.optimizers.SGD(),\n",
        "              metrics=[\"mae\"])\n",
        "\n",
        "#fit model\n",
        "model.fit(tf.expand_dims(X,axis=-1),Y,epochs=5)"
      ],
      "metadata": {
        "colab": {
          "base_uri": "https://localhost:8080/"
        },
        "id": "U7LVSk33FhFi",
        "outputId": "6591ed4e-4f0f-4b7d-85d3-3f0a87b76052"
      },
      "execution_count": 4,
      "outputs": [
        {
          "output_type": "stream",
          "name": "stdout",
          "text": [
            "Epoch 1/5\n",
            "1/1 [==============================] - 1s 520ms/step - loss: 8.3322 - mae: 8.3322\n",
            "Epoch 2/5\n",
            "1/1 [==============================] - 0s 8ms/step - loss: 8.1908 - mae: 8.1908\n",
            "Epoch 3/5\n",
            "1/1 [==============================] - 0s 9ms/step - loss: 8.0494 - mae: 8.0494\n",
            "Epoch 4/5\n",
            "1/1 [==============================] - 0s 8ms/step - loss: 7.9080 - mae: 7.9080\n",
            "Epoch 5/5\n",
            "1/1 [==============================] - 0s 13ms/step - loss: 7.7666 - mae: 7.7666\n"
          ]
        },
        {
          "output_type": "execute_result",
          "data": {
            "text/plain": [
              "<keras.callbacks.History at 0x7f11440bc810>"
            ]
          },
          "metadata": {},
          "execution_count": 4
        }
      ]
    },
    {
      "cell_type": "code",
      "source": [
        "#predict using model\n",
        "model.predict([15.0])"
      ],
      "metadata": {
        "colab": {
          "base_uri": "https://localhost:8080/"
        },
        "id": "QSVv3xVlGliO",
        "outputId": "b78aff16-8588-458d-b0e6-e18a3fab7d6f"
      },
      "execution_count": 5,
      "outputs": [
        {
          "output_type": "execute_result",
          "data": {
            "text/plain": [
              "array([[24.670046]], dtype=float32)"
            ]
          },
          "metadata": {},
          "execution_count": 5
        }
      ]
    },
    {
      "cell_type": "markdown",
      "source": [
        "### Improve model"
      ],
      "metadata": {
        "id": "1onHGIE9Wc9K"
      }
    },
    {
      "cell_type": "code",
      "source": [
        "# Rebuild our model (with and fit with more epochs)\n",
        "# create mdel -> compile model -> fit model\n",
        "tf.random.set_seed(31)\n",
        "\n",
        "#create model\n",
        "model = tf.keras.Sequential([tf.keras.layers.Dense(1)])\n",
        "\n",
        "#compile model\n",
        "model.compile(loss=tf.keras.losses.mae,\n",
        "              optimizer=tf.keras.optimizers.SGD(),\n",
        "              metrics=[\"mae\"])\n",
        "\n",
        "#fit model\n",
        "model.fit(tf.expand_dims(X,axis=-1),Y,epochs=50)"
      ],
      "metadata": {
        "colab": {
          "base_uri": "https://localhost:8080/"
        },
        "id": "zWvRrYJBWg4i",
        "outputId": "9f8156d3-a2a7-41b2-b300-ba4eb43d9b79"
      },
      "execution_count": 6,
      "outputs": [
        {
          "output_type": "stream",
          "name": "stdout",
          "text": [
            "Epoch 1/50\n",
            "1/1 [==============================] - 0s 271ms/step - loss: 8.3322 - mae: 8.3322\n",
            "Epoch 2/50\n",
            "1/1 [==============================] - 0s 13ms/step - loss: 8.1908 - mae: 8.1908\n",
            "Epoch 3/50\n",
            "1/1 [==============================] - 0s 8ms/step - loss: 8.0494 - mae: 8.0494\n",
            "Epoch 4/50\n",
            "1/1 [==============================] - 0s 6ms/step - loss: 7.9080 - mae: 7.9080\n",
            "Epoch 5/50\n",
            "1/1 [==============================] - 0s 6ms/step - loss: 7.7666 - mae: 7.7666\n",
            "Epoch 6/50\n",
            "1/1 [==============================] - 0s 6ms/step - loss: 7.6252 - mae: 7.6252\n",
            "Epoch 7/50\n",
            "1/1 [==============================] - 0s 6ms/step - loss: 7.5397 - mae: 7.5397\n",
            "Epoch 8/50\n",
            "1/1 [==============================] - 0s 6ms/step - loss: 7.5339 - mae: 7.5339\n",
            "Epoch 9/50\n",
            "1/1 [==============================] - 0s 5ms/step - loss: 7.5281 - mae: 7.5281\n",
            "Epoch 10/50\n",
            "1/1 [==============================] - 0s 7ms/step - loss: 7.5224 - mae: 7.5224\n",
            "Epoch 11/50\n",
            "1/1 [==============================] - 0s 7ms/step - loss: 7.5166 - mae: 7.5166\n",
            "Epoch 12/50\n",
            "1/1 [==============================] - 0s 6ms/step - loss: 7.5108 - mae: 7.5108\n",
            "Epoch 13/50\n",
            "1/1 [==============================] - 0s 5ms/step - loss: 7.5050 - mae: 7.5050\n",
            "Epoch 14/50\n",
            "1/1 [==============================] - 0s 5ms/step - loss: 7.4992 - mae: 7.4992\n",
            "Epoch 15/50\n",
            "1/1 [==============================] - 0s 5ms/step - loss: 7.4934 - mae: 7.4934\n",
            "Epoch 16/50\n",
            "1/1 [==============================] - 0s 5ms/step - loss: 7.4877 - mae: 7.4877\n",
            "Epoch 17/50\n",
            "1/1 [==============================] - 0s 5ms/step - loss: 7.4819 - mae: 7.4819\n",
            "Epoch 18/50\n",
            "1/1 [==============================] - 0s 5ms/step - loss: 7.4761 - mae: 7.4761\n",
            "Epoch 19/50\n",
            "1/1 [==============================] - 0s 7ms/step - loss: 7.4703 - mae: 7.4703\n",
            "Epoch 20/50\n",
            "1/1 [==============================] - 0s 5ms/step - loss: 7.4645 - mae: 7.4645\n",
            "Epoch 21/50\n",
            "1/1 [==============================] - 0s 5ms/step - loss: 7.4588 - mae: 7.4588\n",
            "Epoch 22/50\n",
            "1/1 [==============================] - 0s 8ms/step - loss: 7.4530 - mae: 7.4530\n",
            "Epoch 23/50\n",
            "1/1 [==============================] - 0s 14ms/step - loss: 7.4472 - mae: 7.4472\n",
            "Epoch 24/50\n",
            "1/1 [==============================] - 0s 6ms/step - loss: 7.4414 - mae: 7.4414\n",
            "Epoch 25/50\n",
            "1/1 [==============================] - 0s 6ms/step - loss: 7.4356 - mae: 7.4356\n",
            "Epoch 26/50\n",
            "1/1 [==============================] - 0s 6ms/step - loss: 7.4299 - mae: 7.4299\n",
            "Epoch 27/50\n",
            "1/1 [==============================] - 0s 6ms/step - loss: 7.4244 - mae: 7.4244\n",
            "Epoch 28/50\n",
            "1/1 [==============================] - 0s 6ms/step - loss: 7.4211 - mae: 7.4211\n",
            "Epoch 29/50\n",
            "1/1 [==============================] - 0s 6ms/step - loss: 7.4153 - mae: 7.4153\n",
            "Epoch 30/50\n",
            "1/1 [==============================] - 0s 6ms/step - loss: 7.4095 - mae: 7.4095\n",
            "Epoch 31/50\n",
            "1/1 [==============================] - 0s 6ms/step - loss: 7.4038 - mae: 7.4038\n",
            "Epoch 32/50\n",
            "1/1 [==============================] - 0s 6ms/step - loss: 7.3980 - mae: 7.3980\n",
            "Epoch 33/50\n",
            "1/1 [==============================] - 0s 6ms/step - loss: 7.3922 - mae: 7.3922\n",
            "Epoch 34/50\n",
            "1/1 [==============================] - 0s 6ms/step - loss: 7.3864 - mae: 7.3864\n",
            "Epoch 35/50\n",
            "1/1 [==============================] - 0s 6ms/step - loss: 7.3806 - mae: 7.3806\n",
            "Epoch 36/50\n",
            "1/1 [==============================] - 0s 10ms/step - loss: 7.3749 - mae: 7.3749\n",
            "Epoch 37/50\n",
            "1/1 [==============================] - 0s 6ms/step - loss: 7.3691 - mae: 7.3691\n",
            "Epoch 38/50\n",
            "1/1 [==============================] - 0s 6ms/step - loss: 7.3633 - mae: 7.3633\n",
            "Epoch 39/50\n",
            "1/1 [==============================] - 0s 8ms/step - loss: 7.3575 - mae: 7.3575\n",
            "Epoch 40/50\n",
            "1/1 [==============================] - 0s 9ms/step - loss: 7.3517 - mae: 7.3517\n",
            "Epoch 41/50\n",
            "1/1 [==============================] - 0s 7ms/step - loss: 7.3459 - mae: 7.3459\n",
            "Epoch 42/50\n",
            "1/1 [==============================] - 0s 6ms/step - loss: 7.3402 - mae: 7.3402\n",
            "Epoch 43/50\n",
            "1/1 [==============================] - 0s 6ms/step - loss: 7.3344 - mae: 7.3344\n",
            "Epoch 44/50\n",
            "1/1 [==============================] - 0s 6ms/step - loss: 7.3286 - mae: 7.3286\n",
            "Epoch 45/50\n",
            "1/1 [==============================] - 0s 6ms/step - loss: 7.3228 - mae: 7.3228\n",
            "Epoch 46/50\n",
            "1/1 [==============================] - 0s 21ms/step - loss: 7.3170 - mae: 7.3170\n",
            "Epoch 47/50\n",
            "1/1 [==============================] - 0s 6ms/step - loss: 7.3113 - mae: 7.3113\n",
            "Epoch 48/50\n",
            "1/1 [==============================] - 0s 6ms/step - loss: 7.3055 - mae: 7.3055\n",
            "Epoch 49/50\n",
            "1/1 [==============================] - 0s 5ms/step - loss: 7.2997 - mae: 7.2997\n",
            "Epoch 50/50\n",
            "1/1 [==============================] - 0s 5ms/step - loss: 7.2939 - mae: 7.2939\n"
          ]
        },
        {
          "output_type": "execute_result",
          "data": {
            "text/plain": [
              "<keras.callbacks.History at 0x7f1144002390>"
            ]
          },
          "metadata": {},
          "execution_count": 6
        }
      ]
    },
    {
      "cell_type": "code",
      "source": [
        "# Rebuild our model (with and fit with more hidden layer/changed optimizers)\n",
        "# create mdel -> compile model -> fit model\n",
        "tf.random.set_seed(31)\n",
        "\n",
        "#create model\n",
        "model = tf.keras.Sequential([\n",
        "                             tf.keras.layers.Dense(100),\n",
        "                             tf.keras.layers.Dense(1)\n",
        "                             ])\n",
        "\n",
        "#compile model\n",
        "model.compile(loss=tf.keras.losses.mae,\n",
        "              optimizer=tf.keras.optimizers.Adam(lr=0.01),\n",
        "              metrics=[\"mae\"])\n",
        "\n",
        "#fit model\n",
        "model.fit(tf.expand_dims(X,axis=-1),Y,epochs=100)"
      ],
      "metadata": {
        "colab": {
          "base_uri": "https://localhost:8080/"
        },
        "id": "9PWdFYbIYlzF",
        "outputId": "e7f5ed7a-4cbd-419e-f370-4ef686fb35c4"
      },
      "execution_count": 7,
      "outputs": [
        {
          "output_type": "stream",
          "name": "stdout",
          "text": [
            "Epoch 1/100\n"
          ]
        },
        {
          "output_type": "stream",
          "name": "stderr",
          "text": [
            "/usr/local/lib/python3.7/dist-packages/keras/optimizer_v2/adam.py:105: UserWarning: The `lr` argument is deprecated, use `learning_rate` instead.\n",
            "  super(Adam, self).__init__(name, **kwargs)\n"
          ]
        },
        {
          "output_type": "stream",
          "name": "stdout",
          "text": [
            "1/1 [==============================] - 0s 492ms/step - loss: 13.9919 - mae: 13.9919\n",
            "Epoch 2/100\n",
            "1/1 [==============================] - 0s 8ms/step - loss: 12.9584 - mae: 12.9584\n",
            "Epoch 3/100\n",
            "1/1 [==============================] - 0s 7ms/step - loss: 11.9219 - mae: 11.9219\n",
            "Epoch 4/100\n",
            "1/1 [==============================] - 0s 7ms/step - loss: 10.8790 - mae: 10.8790\n",
            "Epoch 5/100\n",
            "1/1 [==============================] - 0s 7ms/step - loss: 9.8241 - mae: 9.8241\n",
            "Epoch 6/100\n",
            "1/1 [==============================] - 0s 6ms/step - loss: 8.7515 - mae: 8.7515\n",
            "Epoch 7/100\n",
            "1/1 [==============================] - 0s 6ms/step - loss: 7.6556 - mae: 7.6556\n",
            "Epoch 8/100\n",
            "1/1 [==============================] - 0s 6ms/step - loss: 6.8325 - mae: 6.8325\n",
            "Epoch 9/100\n",
            "1/1 [==============================] - 0s 5ms/step - loss: 7.0599 - mae: 7.0599\n",
            "Epoch 10/100\n",
            "1/1 [==============================] - 0s 7ms/step - loss: 7.4393 - mae: 7.4393\n",
            "Epoch 11/100\n",
            "1/1 [==============================] - 0s 9ms/step - loss: 7.8376 - mae: 7.8376\n",
            "Epoch 12/100\n",
            "1/1 [==============================] - 0s 7ms/step - loss: 7.8419 - mae: 7.8419\n",
            "Epoch 13/100\n",
            "1/1 [==============================] - 0s 13ms/step - loss: 7.5681 - mae: 7.5681\n",
            "Epoch 14/100\n",
            "1/1 [==============================] - 0s 8ms/step - loss: 7.0995 - mae: 7.0995\n",
            "Epoch 15/100\n",
            "1/1 [==============================] - 0s 6ms/step - loss: 6.7015 - mae: 6.7015\n",
            "Epoch 16/100\n",
            "1/1 [==============================] - 0s 5ms/step - loss: 6.2988 - mae: 6.2988\n",
            "Epoch 17/100\n",
            "1/1 [==============================] - 0s 6ms/step - loss: 6.0902 - mae: 6.0902\n",
            "Epoch 18/100\n",
            "1/1 [==============================] - 0s 6ms/step - loss: 6.0206 - mae: 6.0206\n",
            "Epoch 19/100\n",
            "1/1 [==============================] - 0s 7ms/step - loss: 6.2832 - mae: 6.2832\n",
            "Epoch 20/100\n",
            "1/1 [==============================] - 0s 7ms/step - loss: 6.3937 - mae: 6.3937\n",
            "Epoch 21/100\n",
            "1/1 [==============================] - 0s 6ms/step - loss: 6.3549 - mae: 6.3549\n",
            "Epoch 22/100\n",
            "1/1 [==============================] - 0s 7ms/step - loss: 6.1869 - mae: 6.1869\n",
            "Epoch 23/100\n",
            "1/1 [==============================] - 0s 7ms/step - loss: 5.9037 - mae: 5.9037\n",
            "Epoch 24/100\n",
            "1/1 [==============================] - 0s 6ms/step - loss: 5.5147 - mae: 5.5147\n",
            "Epoch 25/100\n",
            "1/1 [==============================] - 0s 6ms/step - loss: 5.2449 - mae: 5.2449\n",
            "Epoch 26/100\n",
            "1/1 [==============================] - 0s 8ms/step - loss: 5.0912 - mae: 5.0912\n",
            "Epoch 27/100\n",
            "1/1 [==============================] - 0s 7ms/step - loss: 5.1293 - mae: 5.1293\n",
            "Epoch 28/100\n",
            "1/1 [==============================] - 0s 6ms/step - loss: 5.1413 - mae: 5.1413\n",
            "Epoch 29/100\n",
            "1/1 [==============================] - 0s 6ms/step - loss: 5.0848 - mae: 5.0848\n",
            "Epoch 30/100\n",
            "1/1 [==============================] - 0s 6ms/step - loss: 4.9641 - mae: 4.9641\n",
            "Epoch 31/100\n",
            "1/1 [==============================] - 0s 6ms/step - loss: 4.7835 - mae: 4.7835\n",
            "Epoch 32/100\n",
            "1/1 [==============================] - 0s 16ms/step - loss: 4.5471 - mae: 4.5471\n",
            "Epoch 33/100\n",
            "1/1 [==============================] - 0s 15ms/step - loss: 4.2586 - mae: 4.2586\n",
            "Epoch 34/100\n",
            "1/1 [==============================] - 0s 9ms/step - loss: 3.9216 - mae: 3.9216\n",
            "Epoch 35/100\n",
            "1/1 [==============================] - 0s 13ms/step - loss: 3.6968 - mae: 3.6968\n",
            "Epoch 36/100\n",
            "1/1 [==============================] - 0s 12ms/step - loss: 3.5915 - mae: 3.5915\n",
            "Epoch 37/100\n",
            "1/1 [==============================] - 0s 12ms/step - loss: 3.5162 - mae: 3.5162\n",
            "Epoch 38/100\n",
            "1/1 [==============================] - 0s 21ms/step - loss: 3.2607 - mae: 3.2607\n",
            "Epoch 39/100\n",
            "1/1 [==============================] - 0s 19ms/step - loss: 2.8616 - mae: 2.8616\n",
            "Epoch 40/100\n",
            "1/1 [==============================] - 0s 8ms/step - loss: 2.6001 - mae: 2.6001\n",
            "Epoch 41/100\n",
            "1/1 [==============================] - 0s 7ms/step - loss: 2.4030 - mae: 2.4030\n",
            "Epoch 42/100\n",
            "1/1 [==============================] - 0s 7ms/step - loss: 2.1948 - mae: 2.1948\n",
            "Epoch 43/100\n",
            "1/1 [==============================] - 0s 7ms/step - loss: 1.9000 - mae: 1.9000\n",
            "Epoch 44/100\n",
            "1/1 [==============================] - 0s 6ms/step - loss: 1.5204 - mae: 1.5204\n",
            "Epoch 45/100\n",
            "1/1 [==============================] - 0s 7ms/step - loss: 1.1782 - mae: 1.1782\n",
            "Epoch 46/100\n",
            "1/1 [==============================] - 0s 7ms/step - loss: 0.8952 - mae: 0.8952\n",
            "Epoch 47/100\n",
            "1/1 [==============================] - 0s 6ms/step - loss: 0.4988 - mae: 0.4988\n",
            "Epoch 48/100\n",
            "1/1 [==============================] - 0s 7ms/step - loss: 0.2232 - mae: 0.2232\n",
            "Epoch 49/100\n",
            "1/1 [==============================] - 0s 6ms/step - loss: 0.3958 - mae: 0.3958\n",
            "Epoch 50/100\n",
            "1/1 [==============================] - 0s 6ms/step - loss: 0.5905 - mae: 0.5905\n",
            "Epoch 51/100\n",
            "1/1 [==============================] - 0s 6ms/step - loss: 0.8482 - mae: 0.8482\n",
            "Epoch 52/100\n",
            "1/1 [==============================] - 0s 8ms/step - loss: 0.9360 - mae: 0.9360\n",
            "Epoch 53/100\n",
            "1/1 [==============================] - 0s 7ms/step - loss: 0.9996 - mae: 0.9996\n",
            "Epoch 54/100\n",
            "1/1 [==============================] - 0s 6ms/step - loss: 1.0170 - mae: 1.0170\n",
            "Epoch 55/100\n",
            "1/1 [==============================] - 0s 6ms/step - loss: 0.9524 - mae: 0.9524\n",
            "Epoch 56/100\n",
            "1/1 [==============================] - 0s 6ms/step - loss: 0.8555 - mae: 0.8555\n",
            "Epoch 57/100\n",
            "1/1 [==============================] - 0s 6ms/step - loss: 0.7134 - mae: 0.7134\n",
            "Epoch 58/100\n",
            "1/1 [==============================] - 0s 7ms/step - loss: 0.5333 - mae: 0.5333\n",
            "Epoch 59/100\n",
            "1/1 [==============================] - 0s 11ms/step - loss: 0.3538 - mae: 0.3538\n",
            "Epoch 60/100\n",
            "1/1 [==============================] - 0s 10ms/step - loss: 0.1073 - mae: 0.1073\n",
            "Epoch 61/100\n",
            "1/1 [==============================] - 0s 10ms/step - loss: 0.2573 - mae: 0.2573\n",
            "Epoch 62/100\n",
            "1/1 [==============================] - 0s 10ms/step - loss: 0.3385 - mae: 0.3385\n",
            "Epoch 63/100\n",
            "1/1 [==============================] - 0s 12ms/step - loss: 0.5953 - mae: 0.5953\n",
            "Epoch 64/100\n",
            "1/1 [==============================] - 0s 12ms/step - loss: 0.6805 - mae: 0.6805\n",
            "Epoch 65/100\n",
            "1/1 [==============================] - 0s 7ms/step - loss: 0.5425 - mae: 0.5425\n",
            "Epoch 66/100\n",
            "1/1 [==============================] - 0s 7ms/step - loss: 0.6448 - mae: 0.6448\n",
            "Epoch 67/100\n",
            "1/1 [==============================] - 0s 8ms/step - loss: 0.6384 - mae: 0.6384\n",
            "Epoch 68/100\n",
            "1/1 [==============================] - 0s 8ms/step - loss: 0.4126 - mae: 0.4126\n",
            "Epoch 69/100\n",
            "1/1 [==============================] - 0s 7ms/step - loss: 0.4870 - mae: 0.4870\n",
            "Epoch 70/100\n",
            "1/1 [==============================] - 0s 7ms/step - loss: 0.4523 - mae: 0.4523\n",
            "Epoch 71/100\n",
            "1/1 [==============================] - 0s 8ms/step - loss: 0.0370 - mae: 0.0370\n",
            "Epoch 72/100\n",
            "1/1 [==============================] - 0s 11ms/step - loss: 0.6554 - mae: 0.6554\n",
            "Epoch 73/100\n",
            "1/1 [==============================] - 0s 10ms/step - loss: 0.8150 - mae: 0.8150\n",
            "Epoch 74/100\n",
            "1/1 [==============================] - 0s 11ms/step - loss: 0.5437 - mae: 0.5437\n",
            "Epoch 75/100\n",
            "1/1 [==============================] - 0s 13ms/step - loss: 0.2834 - mae: 0.2834\n",
            "Epoch 76/100\n",
            "1/1 [==============================] - 0s 8ms/step - loss: 0.4525 - mae: 0.4525\n",
            "Epoch 77/100\n",
            "1/1 [==============================] - 0s 7ms/step - loss: 0.3399 - mae: 0.3399\n",
            "Epoch 78/100\n",
            "1/1 [==============================] - 0s 7ms/step - loss: 0.1022 - mae: 0.1022\n",
            "Epoch 79/100\n",
            "1/1 [==============================] - 0s 7ms/step - loss: 0.1147 - mae: 0.1147\n",
            "Epoch 80/100\n",
            "1/1 [==============================] - 0s 8ms/step - loss: 0.1875 - mae: 0.1875\n",
            "Epoch 81/100\n",
            "1/1 [==============================] - 0s 7ms/step - loss: 0.0976 - mae: 0.0976\n",
            "Epoch 82/100\n",
            "1/1 [==============================] - 0s 11ms/step - loss: 0.3097 - mae: 0.3097\n",
            "Epoch 83/100\n",
            "1/1 [==============================] - 0s 6ms/step - loss: 0.2598 - mae: 0.2598\n",
            "Epoch 84/100\n",
            "1/1 [==============================] - 0s 6ms/step - loss: 0.1403 - mae: 0.1403\n",
            "Epoch 85/100\n",
            "1/1 [==============================] - 0s 6ms/step - loss: 0.1436 - mae: 0.1436\n",
            "Epoch 86/100\n",
            "1/1 [==============================] - 0s 6ms/step - loss: 0.2195 - mae: 0.2195\n",
            "Epoch 87/100\n",
            "1/1 [==============================] - 0s 6ms/step - loss: 0.1839 - mae: 0.1839\n",
            "Epoch 88/100\n",
            "1/1 [==============================] - 0s 6ms/step - loss: 0.2067 - mae: 0.2067\n",
            "Epoch 89/100\n",
            "1/1 [==============================] - 0s 6ms/step - loss: 0.2008 - mae: 0.2008\n",
            "Epoch 90/100\n",
            "1/1 [==============================] - 0s 6ms/step - loss: 0.1424 - mae: 0.1424\n",
            "Epoch 91/100\n",
            "1/1 [==============================] - 0s 7ms/step - loss: 0.1116 - mae: 0.1116\n",
            "Epoch 92/100\n",
            "1/1 [==============================] - 0s 5ms/step - loss: 0.2496 - mae: 0.2496\n",
            "Epoch 93/100\n",
            "1/1 [==============================] - 0s 10ms/step - loss: 0.2399 - mae: 0.2399\n",
            "Epoch 94/100\n",
            "1/1 [==============================] - 0s 8ms/step - loss: 0.1090 - mae: 0.1090\n",
            "Epoch 95/100\n",
            "1/1 [==============================] - 0s 6ms/step - loss: 0.1173 - mae: 0.1173\n",
            "Epoch 96/100\n",
            "1/1 [==============================] - 0s 6ms/step - loss: 0.1866 - mae: 0.1866\n",
            "Epoch 97/100\n",
            "1/1 [==============================] - 0s 6ms/step - loss: 0.1442 - mae: 0.1442\n",
            "Epoch 98/100\n",
            "1/1 [==============================] - 0s 6ms/step - loss: 0.2238 - mae: 0.2238\n",
            "Epoch 99/100\n",
            "1/1 [==============================] - 0s 5ms/step - loss: 0.2285 - mae: 0.2285\n",
            "Epoch 100/100\n",
            "1/1 [==============================] - 0s 5ms/step - loss: 0.0973 - mae: 0.0973\n"
          ]
        },
        {
          "output_type": "execute_result",
          "data": {
            "text/plain": [
              "<keras.callbacks.History at 0x7f11436ff8d0>"
            ]
          },
          "metadata": {},
          "execution_count": 7
        }
      ]
    },
    {
      "cell_type": "code",
      "source": [
        "model.predict([12,10])"
      ],
      "metadata": {
        "colab": {
          "base_uri": "https://localhost:8080/"
        },
        "id": "JB3QB6RBY4yx",
        "outputId": "b002ab4e-8541-43bb-dad3-f583e16c9649"
      },
      "execution_count": 8,
      "outputs": [
        {
          "output_type": "execute_result",
          "data": {
            "text/plain": [
              "array([[22.165874],\n",
              "       [20.141434]], dtype=float32)"
            ]
          },
          "metadata": {},
          "execution_count": 8
        }
      ]
    },
    {
      "cell_type": "markdown",
      "source": [
        "## Evalutaing model"
      ],
      "metadata": {
        "id": "SXjWF_3tZzZu"
      }
    },
    {
      "cell_type": "code",
      "source": [
        "#Create bigger dataset\n",
        "X = tf.range(-100,100,4)\n",
        "Y = X + 10"
      ],
      "metadata": {
        "id": "GgCKBOYlZ10X"
      },
      "execution_count": 9,
      "outputs": []
    },
    {
      "cell_type": "code",
      "source": [
        "plt.plot(X,Y)"
      ],
      "metadata": {
        "colab": {
          "base_uri": "https://localhost:8080/",
          "height": 283
        },
        "id": "1Maa3p-1t3Yq",
        "outputId": "fdd27f1f-a4f2-47a9-f7f8-b9908d6d16a0"
      },
      "execution_count": 10,
      "outputs": [
        {
          "output_type": "execute_result",
          "data": {
            "text/plain": [
              "[<matplotlib.lines.Line2D at 0x7f11428c7e50>]"
            ]
          },
          "metadata": {},
          "execution_count": 10
        },
        {
          "output_type": "display_data",
          "data": {
            "text/plain": [
              "<Figure size 432x288 with 1 Axes>"
            ],
            "image/png": "[encoded data removed]"
          },
          "metadata": {
            "needs_background": "light"
          }
        }
      ]
    },
    {
      "cell_type": "code",
      "source": [
        "X_train = X[:40]\n",
        "Y_train = Y[:40]\n",
        "X_test = X[40:]\n",
        "Y_test = Y[40:]"
      ],
      "metadata": {
        "id": "q51zh1MKt7Ha"
      },
      "execution_count": 11,
      "outputs": []
    },
    {
      "cell_type": "code",
      "source": [
        "plt.scatter(X_train,Y_train,c=\"b\",label=\"Train set\")\n",
        "plt.scatter(X_test,Y_test,c=\"r\",label=\"Test set\")"
      ],
      "metadata": {
        "colab": {
          "base_uri": "https://localhost:8080/",
          "height": 283
        },
        "id": "JPboC-TZvBQm",
        "outputId": "f67b5ac5-fa9e-4236-d6c6-3249f2ae228c"
      },
      "execution_count": 12,
      "outputs": [
        {
          "output_type": "execute_result",
          "data": {
            "text/plain": [
              "<matplotlib.collections.PathCollection at 0x7f11428d01d0>"
            ]
          },
          "metadata": {},
          "execution_count": 12
        },
        {
          "output_type": "display_data",
          "data": {
            "text/plain": [
              "<Figure size 432x288 with 1 Axes>"
            ],
            "image/png": "[encoded data removed]"
          },
          "metadata": {
            "needs_background": "light"
          }
        }
      ]
    },
    {
      "cell_type": "code",
      "source": [
        "#Create Model\n",
        "model = tf.keras.Sequential([\n",
        "                             tf.keras.layers.Dense(1)\n",
        "])\n",
        "#compile model\n",
        "model.compile(loss=tf.keras.losses.mae,\n",
        "              optimizer=tf.keras.optimizers.SGD(),\n",
        "              metrics=['mae'])\n",
        "#fit model\n",
        "#model.fit()"
      ],
      "metadata": {
        "id": "0mVswmzOvjZA"
      },
      "execution_count": 13,
      "outputs": []
    },
    {
      "cell_type": "markdown",
      "source": [
        "## Visualizing the model"
      ],
      "metadata": {
        "id": "kzGyQl29zSft"
      }
    },
    {
      "cell_type": "code",
      "source": [
        "model.summary()"
      ],
      "metadata": {
        "colab": {
          "base_uri": "https://localhost:8080/",
          "height": 297
        },
        "id": "6bTme6G0ztgl",
        "outputId": "a4bbee6f-1155-47d6-a88a-9e84cf7a6d9f"
      },
      "execution_count": 14,
      "outputs": [
        {
          "output_type": "error",
          "ename": "ValueError",
          "evalue": "ignored",
          "traceback": [
            "\u001b[0;31m---------------------------------------------------------------------------\u001b[0m",
            "\u001b[0;31mValueError\u001b[0m                                Traceback (most recent call last)",
            "\u001b[0;32m<ipython-input-14-5f15418b3570>\u001b[0m in \u001b[0;36m<module>\u001b[0;34m()\u001b[0m\n\u001b[0;32m----> 1\u001b[0;31m \u001b[0mmodel\u001b[0m\u001b[0;34m.\u001b[0m\u001b[0msummary\u001b[0m\u001b[0;34m(\u001b[0m\u001b[0;34m)\u001b[0m\u001b[0;34m\u001b[0m\u001b[0;34m\u001b[0m\u001b[0m\n\u001b[0m",
            "\u001b[0;32m/usr/local/lib/python3.7/dist-packages/keras/engine/training.py\u001b[0m in \u001b[0;36msummary\u001b[0;34m(self, line_length, positions, print_fn, expand_nested, show_trainable)\u001b[0m\n\u001b[1;32m   2774\u001b[0m     \u001b[0;32mif\u001b[0m \u001b[0;32mnot\u001b[0m \u001b[0mself\u001b[0m\u001b[0;34m.\u001b[0m\u001b[0mbuilt\u001b[0m\u001b[0;34m:\u001b[0m\u001b[0;34m\u001b[0m\u001b[0;34m\u001b[0m\u001b[0m\n\u001b[1;32m   2775\u001b[0m       raise ValueError(\n\u001b[0;32m-> 2776\u001b[0;31m           \u001b[0;34m'This model has not yet been built. '\u001b[0m\u001b[0;34m\u001b[0m\u001b[0;34m\u001b[0m\u001b[0m\n\u001b[0m\u001b[1;32m   2777\u001b[0m           \u001b[0;34m'Build the model first by calling `build()` or by calling '\u001b[0m\u001b[0;34m\u001b[0m\u001b[0;34m\u001b[0m\u001b[0m\n\u001b[1;32m   2778\u001b[0m           'the model on a batch of data.')\n",
            "\u001b[0;31mValueError\u001b[0m: This model has not yet been built. Build the model first by calling `build()` or by calling the model on a batch of data."
          ]
        }
      ]
    },
    {
      "cell_type": "code",
      "source": [
        "#lets create model that build automatically\n",
        "tf.random.set_seed(42)\n",
        "model = tf.keras.Sequential([\n",
        "                             tf.keras.layers.Dense(10,input_shape=[1],name=\"input_layer\"),\n",
        "                             tf.keras.layers.Dense(1,input_shape=[1],name=\"output_layer\")\n",
        "],name=\"Lolmodel\")\n",
        "model.compile(loss=tf.keras.losses.mae,\n",
        "              optimizer=tf.keras.optimizers.SGD(),\n",
        "              metrics=['mae'])"
      ],
      "metadata": {
        "id": "CenI4TI1z09D"
      },
      "execution_count": 15,
      "outputs": []
    },
    {
      "cell_type": "code",
      "source": [
        "model.summary() "
      ],
      "metadata": {
        "colab": {
          "base_uri": "https://localhost:8080/"
        },
        "id": "by1gK2CR0Xzp",
        "outputId": "2e9a77c5-9230-4817-f885-47bec32bf7cf"
      },
      "execution_count": 16,
      "outputs": [
        {
          "output_type": "stream",
          "name": "stdout",
          "text": [
            "Model: \"Lolmodel\"\n",
            "_________________________________________________________________\n",
            " Layer (type)                Output Shape              Param #   \n",
            "=================================================================\n",
            " input_layer (Dense)         (None, 10)                20        \n",
            "                                                                 \n",
            " output_layer (Dense)        (None, 1)                 11        \n",
            "                                                                 \n",
            "=================================================================\n",
            "Total params: 31\n",
            "Trainable params: 31\n",
            "Non-trainable params: 0\n",
            "_________________________________________________________________\n"
          ]
        }
      ]
    },
    {
      "cell_type": "code",
      "source": [
        "model.fit(tf.expand_dims(X_train, axis=-1), Y_train, epochs = 100, verbose=0)"
      ],
      "metadata": {
        "colab": {
          "base_uri": "https://localhost:8080/"
        },
        "id": "KjgsP8Bc2gNB",
        "outputId": "e789d7d5-3699-455a-aef1-fcb39d70d2a4"
      },
      "execution_count": 17,
      "outputs": [
        {
          "output_type": "execute_result",
          "data": {
            "text/plain": [
              "<keras.callbacks.History at 0x7f1140d28810>"
            ]
          },
          "metadata": {},
          "execution_count": 17
        }
      ]
    },
    {
      "cell_type": "code",
      "source": [
        "#visualize model layers\n",
        "from tensorflow.keras.utils import plot_model\n",
        "\n",
        "plot_model(model=model,show_shapes=True)"
      ],
      "metadata": {
        "colab": {
          "base_uri": "https://localhost:8080/",
          "height": 312
        },
        "id": "tTrl1h0e2nFm",
        "outputId": "70e5bb57-ff36-4998-efa0-a5155734416d"
      },
      "execution_count": 18,
      "outputs": [
        {
          "output_type": "execute_result",
          "data": {
            "text/plain": [
              "<IPython.core.display.Image object>"
            ],
            "image/png": "[encoded data removed]"
          },
          "metadata": {},
          "execution_count": 18
        }
      ]
    },
    {
      "cell_type": "code",
      "source": [
        "  #prediction on test set using \n",
        "  y_pred = model.predict(X_test)\n",
        "  Y_test,y_pred "
      ],
      "metadata": {
        "colab": {
          "base_uri": "https://localhost:8080/"
        },
        "id": "Fp0KWlPm3q4c",
        "outputId": "51343a26-c94b-4650-d3ec-663771a67b9a"
      },
      "execution_count": 19,
      "outputs": [
        {
          "output_type": "execute_result",
          "data": {
            "text/plain": [
              "(<tf.Tensor: shape=(10,), dtype=int32, numpy=array([ 70,  74,  78,  82,  86,  90,  94,  98, 102, 106], dtype=int32)>,\n",
              " array([[ 70.55218 ],\n",
              "        [ 75.13991 ],\n",
              "        [ 79.72763 ],\n",
              "        [ 84.31535 ],\n",
              "        [ 88.903076],\n",
              "        [ 93.49081 ],\n",
              "        [ 98.07853 ],\n",
              "        [102.66625 ],\n",
              "        [107.253975],\n",
              "        [111.8417  ]], dtype=float32))"
            ]
          },
          "metadata": {},
          "execution_count": 19
        }
      ]
    },
    {
      "cell_type": "markdown",
      "source": [
        "### Visualize prediction"
      ],
      "metadata": {
        "id": "J3m5O3_d_1gZ"
      }
    },
    {
      "cell_type": "code",
      "source": [
        "# Let's create a plotting function to visualize our data (Training, Testing, Prediction)\n",
        "def plot_predictions(train_data=X_train,\n",
        "                     train_labels=Y_train,\n",
        "                     test_data=X_test,\n",
        "                     test_labels=Y_test,\n",
        "                     predictions = y_pred):  \n",
        "   \"\"\"\n",
        "   Plots training data, test data and compares predictions to ground truth label \n",
        "   \"\"\"\n",
        "   # Create a figure:\n",
        "   plt.figure(figsize=(10,7))\n",
        "   # Plot the training data in blue: \n",
        "   plt.scatter(train_data, train_labels, c=\"b\", label=\"Training data\")\n",
        "   # Plot the testing data in green: \n",
        "   plt.scatter(test_data, test_labels, c=\"g\", label=\"Testing data\")\n",
        "   # Plot the model predictions in red: \n",
        "   plt.scatter(test_data, predictions, c=\"r\", label=\"Predictions\")\n",
        "   # Show the legend: \n",
        "   plt.legend()\n",
        "   plt.show()"
      ],
      "metadata": {
        "id": "IZ-UUt0U_480"
      },
      "execution_count": 20,
      "outputs": []
    },
    {
      "cell_type": "code",
      "source": [
        "plot_predictions(X_train,Y_train,X_test,Y_test,y_pred)"
      ],
      "metadata": {
        "colab": {
          "base_uri": "https://localhost:8080/",
          "height": 428
        },
        "id": "6OutCbdI__va",
        "outputId": "c13cb073-82cb-4e1e-81fb-7b93b63f7f8b"
      },
      "execution_count": 21,
      "outputs": [
        {
          "output_type": "display_data",
          "data": {
            "text/plain": [
              "<Figure size 720x504 with 1 Axes>"
            ],
            "image/png": "[encoded data removed]"
          },
          "metadata": {
            "needs_background": "light"
          }
        }
      ]
    },
    {
      "cell_type": "markdown",
      "source": [
        "### Evaluating our model's prediction with regression evaluatin metrics: \n"
      ],
      "metadata": {
        "id": "XtrTZNuKhLcg"
      }
    },
    {
      "cell_type": "code",
      "source": [
        "# Evaluate the model on the test data: \n",
        "model.evaluate(X_test, Y_test)"
      ],
      "metadata": {
        "colab": {
          "base_uri": "https://localhost:8080/"
        },
        "id": "nJtI4G_JhO6X",
        "outputId": "d5e05050-71c4-42af-cf24-5252f5c992b3"
      },
      "execution_count": 22,
      "outputs": [
        {
          "output_type": "stream",
          "name": "stdout",
          "text": [
            "1/1 [==============================] - 0s 218ms/step - loss: 3.1969 - mae: 3.1969\n"
          ]
        },
        {
          "output_type": "execute_result",
          "data": {
            "text/plain": [
              "[3.196942090988159, 3.196942090988159]"
            ]
          },
          "metadata": {},
          "execution_count": 22
        }
      ]
    },
    {
      "cell_type": "code",
      "source": [
        "# convert Y_pred to tensor with shape (n,) from (n,1)\n",
        "tf.squeeze(y_pred) "
      ],
      "metadata": {
        "colab": {
          "base_uri": "https://localhost:8080/"
        },
        "id": "6OvGz3xthR9e",
        "outputId": "dad46e9d-6d86-4be1-a38a-7dbd208a939d"
      },
      "execution_count": 23,
      "outputs": [
        {
          "output_type": "execute_result",
          "data": {
            "text/plain": [
              "<tf.Tensor: shape=(10,), dtype=float32, numpy=\n",
              "array([ 70.55218 ,  75.13991 ,  79.72763 ,  84.31535 ,  88.903076,\n",
              "        93.49081 ,  98.07853 , 102.66625 , 107.253975, 111.8417  ],\n",
              "      dtype=float32)>"
            ]
          },
          "metadata": {},
          "execution_count": 23
        }
      ]
    },
    {
      "cell_type": "code",
      "source": [
        "# Calculate the mean absolute error: \n",
        "mae = tf.metrics.mean_absolute_error(y_true=Y_test, y_pred=tf.squeeze(y_pred))\n",
        "mae"
      ],
      "metadata": {
        "colab": {
          "base_uri": "https://localhost:8080/"
        },
        "id": "WiE3_C_VhvxG",
        "outputId": "2b311ab1-220f-4bd9-fb8f-8717cf463859"
      },
      "execution_count": 24,
      "outputs": [
        {
          "output_type": "execute_result",
          "data": {
            "text/plain": [
              "<tf.Tensor: shape=(), dtype=float32, numpy=3.1969407>"
            ]
          },
          "metadata": {},
          "execution_count": 24
        }
      ]
    },
    {
      "cell_type": "code",
      "source": [
        "# Calculate the mean square error: \n",
        "mse = tf.metrics.mean_squared_error(y_true = Y_test, y_pred=tf.squeeze(y_pred))\n",
        "mse "
      ],
      "metadata": {
        "colab": {
          "base_uri": "https://localhost:8080/"
        },
        "id": "HEtTnjqFh1-K",
        "outputId": "4577c22a-a42f-44d1-b0ea-6f922f8644b7"
      },
      "execution_count": 25,
      "outputs": [
        {
          "output_type": "execute_result",
          "data": {
            "text/plain": [
              "<tf.Tensor: shape=(), dtype=float32, numpy=13.070143>"
            ]
          },
          "metadata": {},
          "execution_count": 25
        }
      ]
    },
    {
      "cell_type": "code",
      "source": [
        "# Let's create another two functions so we can use them later: \n",
        "# MAE\n",
        "def mae(y_true, y_pred):\n",
        "  return tf.metrics.mean_absolute_error(y_true=y_true, y_pred=tf.squeeze(y_pred))\n",
        "\n",
        "# Second one: \n",
        "def mse(y_true, y_pred):\n",
        "  return tf.metrics.mean_squared_error(y_true = y_true, y_pred=tf.squeeze(y_pred))\n",
        "\n",
        "# MSE: \n",
        "mae_val = mae(Y_test,y_pred)\n",
        "mse_val = mse(Y_test, y_pred)\n",
        "print(\"The mean absolute error is:\", mae_val)\n",
        "print(\"The mean squarred error is:\", mse_val)"
      ],
      "metadata": {
        "colab": {
          "base_uri": "https://localhost:8080/"
        },
        "id": "0V-bhoeHh67Y",
        "outputId": "396689ae-761b-469e-a489-3e069608b496"
      },
      "execution_count": 26,
      "outputs": [
        {
          "output_type": "stream",
          "name": "stdout",
          "text": [
            "The mean absolute error is: tf.Tensor(3.1969407, shape=(), dtype=float32)\n",
            "The mean squarred error is: tf.Tensor(13.070143, shape=(), dtype=float32)\n"
          ]
        }
      ]
    },
    {
      "cell_type": "markdown",
      "source": [
        "### Running experiments to improve our model: \n",
        "**Remember:** Build a model -> fit it -> evaluate it -> tweak it -> fit it -> evaluate it -> tweak it -> fit it --> .... \n",
        "\n",
        "1-**Get more data** - get more examples for your model to train on (more opportunities to learn patters or relationships between features and labels)\n",
        "\n",
        "2-**Make your model larger** - this might come in the form of more layers or more hidden units in each layer\n",
        "\n",
        "3-**Train for longer** - give your model a chance to find patterns in the data\n",
        "\n",
        "Let's do 3 modelling experiments:\n",
        "\n",
        "1-`model_1` - same as the original model, 1 layer, trained for 100 epochs \n",
        "\n",
        "2-`model_2` - 2 layers, trained for 100 epochs\n",
        "\n",
        "3-`model_3` - 2 layers,  trained for 500 epochs"
      ],
      "metadata": {
        "id": "fTjdDsD7iDmW"
      }
    },
    {
      "cell_type": "markdown",
      "source": [
        "**Build `model_1`**"
      ],
      "metadata": {
        "id": "gXio1Xdtqv-B"
      }
    },
    {
      "cell_type": "code",
      "source": [
        "#Model 1\n",
        "\n",
        "tf.random.set_seed(42)\n",
        "\n",
        "# Create model: \n",
        "model_1 = tf.keras.Sequential([\n",
        "          tf.keras.layers.Dense(1, name = \"output_layer\")                     \n",
        "])\n",
        "\n",
        "# Compile model:\n",
        "model_1.compile(loss = tf.keras.losses.mae, \n",
        "                optimizer = tf.keras.optimizers.SGD(),\n",
        "                metrics = [\"mae\"])\n",
        "\n",
        "# Fit model: \n",
        "model_1.fit(tf.expand_dims(X_train, axis=-1), Y_train, epochs = 100, verbose = 0)"
      ],
      "metadata": {
        "colab": {
          "base_uri": "https://localhost:8080/"
        },
        "id": "rC4f4Im0sdCC",
        "outputId": "e15c1868-abdc-45f3-843f-0a35c1eeedc5"
      },
      "execution_count": 27,
      "outputs": [
        {
          "output_type": "execute_result",
          "data": {
            "text/plain": [
              "<keras.callbacks.History at 0x7f11425db1d0>"
            ]
          },
          "metadata": {},
          "execution_count": 27
        }
      ]
    },
    {
      "cell_type": "code",
      "source": [
        "# Make and plot predictions for model_1: \n",
        "y_pred1_val = model_1.predict(X_test)\n",
        "plot_predictions(predictions=y_pred1_val)"
      ],
      "metadata": {
        "colab": {
          "base_uri": "https://localhost:8080/",
          "height": 428
        },
        "id": "G8u-M5yJssX6",
        "outputId": "6806cbcc-21a6-4e73-ca5e-fe8e2871c9cf"
      },
      "execution_count": 28,
      "outputs": [
        {
          "output_type": "display_data",
          "data": {
            "text/plain": [
              "<Figure size 720x504 with 1 Axes>"
            ],
            "image/png": "[encoded data removed]"
          },
          "metadata": {
            "needs_background": "light"
          }
        }
      ]
    },
    {
      "cell_type": "code",
      "source": [
        "# Step5 Calculate model_1 evaluation metrics: \n",
        "mae_1 = mae(Y_test, y_pred1_val)\n",
        "mse_1 = mse(Y_test, y_pred1_val)\n",
        "print(\"The mean absolute error of model 1 is:\", mae_1)\n",
        "print(\"The mean squared error of model 1 is:\", mse_1)"
      ],
      "metadata": {
        "colab": {
          "base_uri": "https://localhost:8080/"
        },
        "id": "CEFT-qcIs6vF",
        "outputId": "f9024432-8979-4981-c485-a78bac19b91f"
      },
      "execution_count": 29,
      "outputs": [
        {
          "output_type": "stream",
          "name": "stdout",
          "text": [
            "The mean absolute error of model 1 is: tf.Tensor(18.745327, shape=(), dtype=float32)\n",
            "The mean squared error of model 1 is: tf.Tensor(353.57336, shape=(), dtype=float32)\n"
          ]
        }
      ]
    },
    {
      "cell_type": "markdown",
      "source": [
        "**Build `model_2`**\n",
        "- 2 dense layers, trained for 100 epochs"
      ],
      "metadata": {
        "id": "KRBEG1Bawatp"
      }
    },
    {
      "cell_type": "code",
      "source": [
        "# Create  model: \n",
        "model_2 = tf.keras.Sequential([\n",
        "          tf.keras.layers.Dense(10, name = \"input_layer\"),\n",
        "          tf.keras.layers.Dense(1, name = \"output_layer\")                     \n",
        "])\n",
        "\n",
        "# Compile model: \n",
        "\n",
        "model_2.compile(loss = tf.keras.losses.mae, \n",
        "                optimizer = tf.keras.optimizers.SGD(), \n",
        "                metrics = [\"mae\"])\n",
        "\n",
        "# Fit model: \n",
        "model_2.fit(tf.expand_dims(X_train, axis=1), Y_train, epochs = 100, verbose = 0)"
      ],
      "metadata": {
        "colab": {
          "base_uri": "https://localhost:8080/"
        },
        "id": "z61Vhj_WwbQQ",
        "outputId": "dff50ccc-7092-48a2-9853-6c42d16f5377"
      },
      "execution_count": 30,
      "outputs": [
        {
          "output_type": "execute_result",
          "data": {
            "text/plain": [
              "<keras.callbacks.History at 0x7f1143552510>"
            ]
          },
          "metadata": {},
          "execution_count": 30
        }
      ]
    },
    {
      "cell_type": "code",
      "source": [
        "# Make and plot predictions model_2: \n",
        "y_pred2_val = model_2.predict(X_test)\n",
        "plot_predictions(predictions=y_pred2_val)"
      ],
      "metadata": {
        "colab": {
          "base_uri": "https://localhost:8080/",
          "height": 466
        },
        "id": "Z8YjE3o7xFyU",
        "outputId": "b0c2d269-e58d-416f-8387-08405d39ba47"
      },
      "execution_count": 31,
      "outputs": [
        {
          "output_type": "stream",
          "name": "stdout",
          "text": [
            "WARNING:tensorflow:5 out of the last 5 calls to <function Model.make_predict_function.<locals>.predict_function at 0x7f11425d5d40> triggered tf.function retracing. Tracing is expensive and the excessive number of tracings could be due to (1) creating @tf.function repeatedly in a loop, (2) passing tensors with different shapes, (3) passing Python objects instead of tensors. For (1), please define your @tf.function outside of the loop. For (2), @tf.function has experimental_relax_shapes=True option that relaxes argument shapes that can avoid unnecessary retracing. For (3), please refer to https://www.tensorflow.org/guide/function#controlling_retracing and https://www.tensorflow.org/api_docs/python/tf/function for  more details.\n"
          ]
        },
        {
          "output_type": "display_data",
          "data": {
            "text/plain": [
              "<Figure size 720x504 with 1 Axes>"
            ],
            "image/png": "[encoded data removed]"
          },
          "metadata": {
            "needs_background": "light"
          }
        }
      ]
    },
    {
      "cell_type": "code",
      "source": [
        "# Calculate model_2 evaluatrion metrcis: \n",
        "mae_2 = mae(Y_test, y_pred2_val)\n",
        "mse_2 = mse(Y_test, y_pred2_val)\n",
        "print(\"The mean absolute error of model 2 is:\", mae_2)\n",
        "print(\"The mean squarred error of model 2 is:\", mse_2)"
      ],
      "metadata": {
        "colab": {
          "base_uri": "https://localhost:8080/"
        },
        "id": "Zxztwki7xJ4X",
        "outputId": "43ffd125-9d79-40b0-ab1f-f0561343843d"
      },
      "execution_count": 32,
      "outputs": [
        {
          "output_type": "stream",
          "name": "stdout",
          "text": [
            "The mean absolute error of model 2 is: tf.Tensor(3.1109948, shape=(), dtype=float32)\n",
            "The mean squarred error of model 2 is: tf.Tensor(12.497052, shape=(), dtype=float32)\n"
          ]
        }
      ]
    },
    {
      "cell_type": "markdown",
      "source": [
        "**Build `model_3`**  \n",
        " 2 layers, trained for 500 epochs"
      ],
      "metadata": {
        "id": "BQt0daJqxWf9"
      }
    },
    {
      "cell_type": "code",
      "source": [
        "# Create model: \n",
        "model_3 = tf.keras.Sequential([\n",
        "          tf.keras.layers.Dense(10, name=\"hidden_layer\"),\n",
        "          tf.keras.layers.Dense(1,  name=\"output_layer\")                    \n",
        "])\n",
        "\n",
        "# Compile model: \n",
        "model_3.compile(loss = tf.keras.losses.mae, \n",
        "                optimizer = tf.keras.optimizers.SGD(),\n",
        "                metrics = [\"mae\"])\n",
        "\n",
        "# Fit model: \n",
        "model_3.fit(tf.expand_dims(X_train, axis=-1), Y_train, epochs = 500, verbose = 0)"
      ],
      "metadata": {
        "colab": {
          "base_uri": "https://localhost:8080/"
        },
        "id": "L5CYbY2GxZxM",
        "outputId": "e15a930c-919d-4435-b721-c94367f353b9"
      },
      "execution_count": 33,
      "outputs": [
        {
          "output_type": "execute_result",
          "data": {
            "text/plain": [
              "<keras.callbacks.History at 0x7f11428f0ed0>"
            ]
          },
          "metadata": {},
          "execution_count": 33
        }
      ]
    },
    {
      "cell_type": "code",
      "source": [
        "#Make and plot predictions of model_3:\n",
        "y_pred3_val = model_3.predict(X_test)\n",
        "plot_predictions(predictions=y_pred3_val)\n",
        "\n",
        "# Oooooopssssssss overfitting"
      ],
      "metadata": {
        "colab": {
          "base_uri": "https://localhost:8080/",
          "height": 466
        },
        "id": "ZXfVjCnNxlY5",
        "outputId": "39303b3c-523d-42ce-9d25-abca99c865c7"
      },
      "execution_count": 34,
      "outputs": [
        {
          "output_type": "stream",
          "name": "stdout",
          "text": [
            "WARNING:tensorflow:6 out of the last 6 calls to <function Model.make_predict_function.<locals>.predict_function at 0x7f1143ecc7a0> triggered tf.function retracing. Tracing is expensive and the excessive number of tracings could be due to (1) creating @tf.function repeatedly in a loop, (2) passing tensors with different shapes, (3) passing Python objects instead of tensors. For (1), please define your @tf.function outside of the loop. For (2), @tf.function has experimental_relax_shapes=True option that relaxes argument shapes that can avoid unnecessary retracing. For (3), please refer to https://www.tensorflow.org/guide/function#controlling_retracing and https://www.tensorflow.org/api_docs/python/tf/function for  more details.\n"
          ]
        },
        {
          "output_type": "display_data",
          "data": {
            "text/plain": [
              "<Figure size 720x504 with 1 Axes>"
            ],
            "image/png": "[encoded data removed]"
          },
          "metadata": {
            "needs_background": "light"
          }
        }
      ]
    },
    {
      "cell_type": "code",
      "source": [
        "# Calculate model_2 evaluation metrics:\n",
        "mae_3 = mae(Y_test, y_pred3_val)\n",
        "mse_3 = mse(Y_test, y_pred3_val)\n",
        "print(\"The mean asbolute error of model 3 is:\", mae_3)\n",
        "print(\"The mean squarred error of model 3 is:\", mse_3)"
      ],
      "metadata": {
        "colab": {
          "base_uri": "https://localhost:8080/"
        },
        "id": "-78v3l6ux5at",
        "outputId": "8add784e-2681-4e55-93f9-7f12879290e0"
      },
      "execution_count": 35,
      "outputs": [
        {
          "output_type": "stream",
          "name": "stdout",
          "text": [
            "The mean asbolute error of model 3 is: tf.Tensor(67.90955, shape=(), dtype=float32)\n",
            "The mean squarred error of model 3 is: tf.Tensor(4696.0615, shape=(), dtype=float32)\n"
          ]
        }
      ]
    },
    {
      "cell_type": "markdown",
      "source": [
        "### Comparing the results of our experiments\n"
      ],
      "metadata": {
        "id": "fpXUa0vcx9Qk"
      }
    },
    {
      "cell_type": "code",
      "source": [
        "import pandas as pd\n",
        "#\n",
        "model_results = [[\"model_1\", mae_1.numpy(), mse_1.numpy()],\n",
        "                 [\"model_2\", mae_2.numpy(), mse_2.numpy()], \n",
        "                 [\"model_3\", mae_3.numpy(), mse_3.numpy()]]\n",
        "\n",
        "all_results = pd.DataFrame(model_results, columns=[\"model\",\"mae\",\"mse\"])\n",
        "all_results"
      ],
      "metadata": {
        "colab": {
          "base_uri": "https://localhost:8080/",
          "height": 143
        },
        "id": "TLMiJzsfzl0s",
        "outputId": "72e0c313-9bab-4173-f791-95b071f01db8"
      },
      "execution_count": 36,
      "outputs": [
        {
          "output_type": "execute_result",
          "data": {
            "text/plain": [
              "     model        mae          mse\n",
              "0  model_1  18.745327   353.573364\n",
              "1  model_2   3.110995    12.497052\n",
              "2  model_3  67.909554  4696.061523"
            ],
            "text/html": [
              "\n",
              "  <div id=\"df-2f5c8086-c52a-414a-b85c-74ade1bc2394\">\n",
              "    <div class=\"colab-df-container\">\n",
              "      <div>\n",
              "<style scoped>\n",
              "    .dataframe tbody tr th:only-of-type {\n",
              "        vertical-align: middle;\n",
              "    }\n",
              "\n",
              "    .dataframe tbody tr th {\n",
              "        vertical-align: top;\n",
              "    }\n",
              "\n",
              "    .dataframe thead th {\n",
              "        text-align: right;\n",
              "    }\n",
              "</style>\n",
              "<table border=\"1\" class=\"dataframe\">\n",
              "  <thead>\n",
              "    <tr style=\"text-align: right;\">\n",
              "      <th></th>\n",
              "      <th>model</th>\n",
              "      <th>mae</th>\n",
              "      <th>mse</th>\n",
              "    </tr>\n",
              "  </thead>\n",
              "  <tbody>\n",
              "    <tr>\n",
              "      <th>0</th>\n",
              "      <td>model_1</td>\n",
              "      <td>18.745327</td>\n",
              "      <td>353.573364</td>\n",
              "    </tr>\n",
              "    <tr>\n",
              "      <th>1</th>\n",
              "      <td>model_2</td>\n",
              "      <td>3.110995</td>\n",
              "      <td>12.497052</td>\n",
              "    </tr>\n",
              "    <tr>\n",
              "      <th>2</th>\n",
              "      <td>model_3</td>\n",
              "      <td>67.909554</td>\n",
              "      <td>4696.061523</td>\n",
              "    </tr>\n",
              "  </tbody>\n",
              "</table>\n",
              "</div>\n",
              "      <button class=\"colab-df-convert\" onclick=\"convertToInteractive('df-2f5c8086-c52a-414a-b85c-74ade1bc2394')\"\n",
              "              title=\"Convert this dataframe to an interactive table.\"\n",
              "              style=\"display:none;\">\n",
              "        \n",
              "  <svg xmlns=\"http://www.w3.org/2000/svg\" height=\"24px\"viewBox=\"0 0 24 24\"\n",
              "       width=\"24px\">\n",
              "    <path d=\"M0 0h24v24H0V0z\" fill=\"none\"/>\n",
              "    <path d=\"M18.56 5.44l.94 2.06.94-2.06 2.06-.94-2.06-.94-.94-2.06-.94 2.06-2.06.94zm-11 1L8.5 8.5l.94-2.06 2.06-.94-2.06-.94L8.5 2.5l-.94 2.06-2.06.94zm10 10l.94 2.06.94-2.06 2.06-.94-2.06-.94-.94-2.06-.94 2.06-2.06.94z\"/><path d=\"M17.41 7.96l-1.37-1.37c-.4-.4-.92-.59-1.43-.59-.52 0-1.04.2-1.43.59L10.3 9.45l-7.72 7.72c-.78.78-.78 2.05 0 2.83L4 21.41c.39.39.9.59 1.41.59.51 0 1.02-.2 1.41-.59l7.78-7.78 2.81-2.81c.8-.78.8-2.07 0-2.86zM5.41 20L4 18.59l7.72-7.72 1.47 1.35L5.41 20z\"/>\n",
              "  </svg>\n",
              "      </button>\n",
              "      \n",
              "  <style>\n",
              "    .colab-df-container {\n",
              "      display:flex;\n",
              "      flex-wrap:wrap;\n",
              "      gap: 12px;\n",
              "    }\n",
              "\n",
              "    .colab-df-convert {\n",
              "      background-color: #E8F0FE;\n",
              "      border: none;\n",
              "      border-radius: 50%;\n",
              "      cursor: pointer;\n",
              "      display: none;\n",
              "      fill: #1967D2;\n",
              "      height: 32px;\n",
              "      padding: 0 0 0 0;\n",
              "      width: 32px;\n",
              "    }\n",
              "\n",
              "    .colab-df-convert:hover {\n",
              "      background-color: #E2EBFA;\n",
              "      box-shadow: 0px 1px 2px rgba(60, 64, 67, 0.3), 0px 1px 3px 1px rgba(60, 64, 67, 0.15);\n",
              "      fill: #174EA6;\n",
              "    }\n",
              "\n",
              "    [theme=dark] .colab-df-convert {\n",
              "      background-color: #3B4455;\n",
              "      fill: #D2E3FC;\n",
              "    }\n",
              "\n",
              "    [theme=dark] .colab-df-convert:hover {\n",
              "      background-color: #434B5C;\n",
              "      box-shadow: 0px 1px 3px 1px rgba(0, 0, 0, 0.15);\n",
              "      filter: drop-shadow(0px 1px 2px rgba(0, 0, 0, 0.3));\n",
              "      fill: #FFFFFF;\n",
              "    }\n",
              "  </style>\n",
              "\n",
              "      <script>\n",
              "        const buttonEl =\n",
              "          document.querySelector('#df-2f5c8086-c52a-414a-b85c-74ade1bc2394 button.colab-df-convert');\n",
              "        buttonEl.style.display =\n",
              "          google.colab.kernel.accessAllowed ? 'block' : 'none';\n",
              "\n",
              "        async function convertToInteractive(key) {\n",
              "          const element = document.querySelector('#df-2f5c8086-c52a-414a-b85c-74ade1bc2394');\n",
              "          const dataTable =\n",
              "            await google.colab.kernel.invokeFunction('convertToInteractive',\n",
              "                                                     [key], {});\n",
              "          if (!dataTable) return;\n",
              "\n",
              "          const docLinkHtml = 'Like what you see? Visit the ' +\n",
              "            '<a target=\"_blank\" href=https://colab.research.google.com/notebooks/data_table.ipynb>data table notebook</a>'\n",
              "            + ' to learn more about interactive tables.';\n",
              "          element.innerHTML = '';\n",
              "          dataTable['output_type'] = 'display_data';\n",
              "          await google.colab.output.renderOutput(dataTable, element);\n",
              "          const docLink = document.createElement('div');\n",
              "          docLink.innerHTML = docLinkHtml;\n",
              "          element.appendChild(docLink);\n",
              "        }\n",
              "      </script>\n",
              "    </div>\n",
              "  </div>\n",
              "  "
            ]
          },
          "metadata": {},
          "execution_count": 36
        }
      ]
    },
    {
      "cell_type": "markdown",
      "source": [
        "Look like model_2 is doing well"
      ],
      "metadata": {
        "id": "hBgrZtq1zvF-"
      }
    },
    {
      "cell_type": "markdown",
      "source": [
        "## Saving our models \n",
        "\n",
        "These are the two main formats we can save our models to:\n",
        "\n",
        "- Save the model using the **SaveModel format** \n",
        "\n",
        "- Save the model using the **HDF5 format**"
      ],
      "metadata": {
        "id": "qyu9YwHQz7aX"
      }
    },
    {
      "cell_type": "code",
      "source": [
        "# Save the model using the SaveModel format: \n",
        "model_2.save(\"best_model_SavedModel_format\")"
      ],
      "metadata": {
        "colab": {
          "base_uri": "https://localhost:8080/"
        },
        "id": "n2fEoawq3hNJ",
        "outputId": "cb6abcf5-11b9-4d41-b319-5a4f83cc3156"
      },
      "execution_count": 37,
      "outputs": [
        {
          "output_type": "stream",
          "name": "stdout",
          "text": [
            "INFO:tensorflow:Assets written to: best_model_SavedModel_format/assets\n"
          ]
        }
      ]
    },
    {
      "cell_type": "code",
      "source": [
        "# Save the model using the HDF5 format: \n",
        "model_2.save(\"best_model_HDF5_format.h5\")"
      ],
      "metadata": {
        "id": "tz_IeLVJ3-e4"
      },
      "execution_count": 38,
      "outputs": []
    },
    {
      "cell_type": "markdown",
      "source": [
        "##Loading a saved model"
      ],
      "metadata": {
        "id": "sFPKc3rh5PFL"
      }
    },
    {
      "cell_type": "code",
      "source": [
        "# Load the SavedModel format model: \n",
        "loaded_SavedModel_format = tf.keras.models.load_model(\"/content/best_model_SavedModel_format\")\n",
        "loaded_SavedModel_format.summary()"
      ],
      "metadata": {
        "colab": {
          "base_uri": "https://localhost:8080/"
        },
        "id": "XhzY3QFN5QDk",
        "outputId": "05a90138-9d32-4c96-c931-00370e9c31a6"
      },
      "execution_count": 39,
      "outputs": [
        {
          "output_type": "stream",
          "name": "stdout",
          "text": [
            "Model: \"sequential_5\"\n",
            "_________________________________________________________________\n",
            " Layer (type)                Output Shape              Param #   \n",
            "=================================================================\n",
            " input_layer (Dense)         (None, 10)                20        \n",
            "                                                                 \n",
            " output_layer (Dense)        (None, 1)                 11        \n",
            "                                                                 \n",
            "=================================================================\n",
            "Total params: 31\n",
            "Trainable params: 31\n",
            "Non-trainable params: 0\n",
            "_________________________________________________________________\n"
          ]
        }
      ]
    },
    {
      "cell_type": "code",
      "source": [
        "# Compare model_1 predictions with SavedModel format model predictions:\n",
        "model_1_preds = model_2.predict(X_test)\n",
        "loaded_SavedModel_format_preds = loaded_SavedModel_format.predict(X_test)\n",
        "\n",
        "# Check the models for equality:\n",
        "(model_1_preds) == loaded_SavedModel_format_preds"
      ],
      "metadata": {
        "colab": {
          "base_uri": "https://localhost:8080/"
        },
        "id": "7X36UeIy5xQd",
        "outputId": "c0a39244-4e3e-43c5-c29c-f33a2d1fa269"
      },
      "execution_count": 40,
      "outputs": [
        {
          "output_type": "execute_result",
          "data": {
            "text/plain": [
              "array([[ True],\n",
              "       [ True],\n",
              "       [ True],\n",
              "       [ True],\n",
              "       [ True],\n",
              "       [ True],\n",
              "       [ True],\n",
              "       [ True],\n",
              "       [ True],\n",
              "       [ True]])"
            ]
          },
          "metadata": {},
          "execution_count": 40
        }
      ]
    },
    {
      "cell_type": "markdown",
      "source": [
        "## Example using real dataset"
      ],
      "metadata": {
        "id": "9Fia2fqX64BJ"
      }
    },
    {
      "cell_type": "code",
      "source": [
        "import numpy as np\n",
        "import pandas as pd\n",
        "import matplotlib.pyplot as plt\n",
        "import tensorflow as tf\n",
        "from sklearn.model_selection import train_test_split"
      ],
      "metadata": {
        "id": "fUp-22zZmwC1"
      },
      "execution_count": 55,
      "outputs": []
    },
    {
      "cell_type": "code",
      "source": [
        "# Read the insurance DATASET: \n",
        "insurance = pd.read_csv(\"https://raw.githubusercontent.com/stedy/Machine-Learning-with-R-datasets/master/insurance.csv\")\n",
        "insurance"
      ],
      "metadata": {
        "colab": {
          "base_uri": "https://localhost:8080/",
          "height": 424
        },
        "id": "3UpSE-Msm_KJ",
        "outputId": "b37ee67a-6be9-4726-adf8-14b5d268aa6f"
      },
      "execution_count": 66,
      "outputs": [
        {
          "output_type": "execute_result",
          "data": {
            "text/plain": [
              "      age     sex     bmi  children smoker     region      charges\n",
              "0      19  female  27.900         0    yes  southwest  16884.92400\n",
              "1      18    male  33.770         1     no  southeast   1725.55230\n",
              "2      28    male  33.000         3     no  southeast   4449.46200\n",
              "3      33    male  22.705         0     no  northwest  21984.47061\n",
              "4      32    male  28.880         0     no  northwest   3866.85520\n",
              "...   ...     ...     ...       ...    ...        ...          ...\n",
              "1333   50    male  30.970         3     no  northwest  10600.54830\n",
              "1334   18  female  31.920         0     no  northeast   2205.98080\n",
              "1335   18  female  36.850         0     no  southeast   1629.83350\n",
              "1336   21  female  25.800         0     no  southwest   2007.94500\n",
              "1337   61  female  29.070         0    yes  northwest  29141.36030\n",
              "\n",
              "[1338 rows x 7 columns]"
            ],
            "text/html": [
              "\n",
              "  <div id=\"df-cdea5e51-e74b-4121-b7f1-204e05713562\">\n",
              "    <div class=\"colab-df-container\">\n",
              "      <div>\n",
              "<style scoped>\n",
              "    .dataframe tbody tr th:only-of-type {\n",
              "        vertical-align: middle;\n",
              "    }\n",
              "\n",
              "    .dataframe tbody tr th {\n",
              "        vertical-align: top;\n",
              "    }\n",
              "\n",
              "    .dataframe thead th {\n",
              "        text-align: right;\n",
              "    }\n",
              "</style>\n",
              "<table border=\"1\" class=\"dataframe\">\n",
              "  <thead>\n",
              "    <tr style=\"text-align: right;\">\n",
              "      <th></th>\n",
              "      <th>age</th>\n",
              "      <th>sex</th>\n",
              "      <th>bmi</th>\n",
              "      <th>children</th>\n",
              "      <th>smoker</th>\n",
              "      <th>region</th>\n",
              "      <th>charges</th>\n",
              "    </tr>\n",
              "  </thead>\n",
              "  <tbody>\n",
              "    <tr>\n",
              "      <th>0</th>\n",
              "      <td>19</td>\n",
              "      <td>female</td>\n",
              "      <td>27.900</td>\n",
              "      <td>0</td>\n",
              "      <td>yes</td>\n",
              "      <td>southwest</td>\n",
              "      <td>16884.92400</td>\n",
              "    </tr>\n",
              "    <tr>\n",
              "      <th>1</th>\n",
              "      <td>18</td>\n",
              "      <td>male</td>\n",
              "      <td>33.770</td>\n",
              "      <td>1</td>\n",
              "      <td>no</td>\n",
              "      <td>southeast</td>\n",
              "      <td>1725.55230</td>\n",
              "    </tr>\n",
              "    <tr>\n",
              "      <th>2</th>\n",
              "      <td>28</td>\n",
              "      <td>male</td>\n",
              "      <td>33.000</td>\n",
              "      <td>3</td>\n",
              "      <td>no</td>\n",
              "      <td>southeast</td>\n",
              "      <td>4449.46200</td>\n",
              "    </tr>\n",
              "    <tr>\n",
              "      <th>3</th>\n",
              "      <td>33</td>\n",
              "      <td>male</td>\n",
              "      <td>22.705</td>\n",
              "      <td>0</td>\n",
              "      <td>no</td>\n",
              "      <td>northwest</td>\n",
              "      <td>21984.47061</td>\n",
              "    </tr>\n",
              "    <tr>\n",
              "      <th>4</th>\n",
              "      <td>32</td>\n",
              "      <td>male</td>\n",
              "      <td>28.880</td>\n",
              "      <td>0</td>\n",
              "      <td>no</td>\n",
              "      <td>northwest</td>\n",
              "      <td>3866.85520</td>\n",
              "    </tr>\n",
              "    <tr>\n",
              "      <th>...</th>\n",
              "      <td>...</td>\n",
              "      <td>...</td>\n",
              "      <td>...</td>\n",
              "      <td>...</td>\n",
              "      <td>...</td>\n",
              "      <td>...</td>\n",
              "      <td>...</td>\n",
              "    </tr>\n",
              "    <tr>\n",
              "      <th>1333</th>\n",
              "      <td>50</td>\n",
              "      <td>male</td>\n",
              "      <td>30.970</td>\n",
              "      <td>3</td>\n",
              "      <td>no</td>\n",
              "      <td>northwest</td>\n",
              "      <td>10600.54830</td>\n",
              "    </tr>\n",
              "    <tr>\n",
              "      <th>1334</th>\n",
              "      <td>18</td>\n",
              "      <td>female</td>\n",
              "      <td>31.920</td>\n",
              "      <td>0</td>\n",
              "      <td>no</td>\n",
              "      <td>northeast</td>\n",
              "      <td>2205.98080</td>\n",
              "    </tr>\n",
              "    <tr>\n",
              "      <th>1335</th>\n",
              "      <td>18</td>\n",
              "      <td>female</td>\n",
              "      <td>36.850</td>\n",
              "      <td>0</td>\n",
              "      <td>no</td>\n",
              "      <td>southeast</td>\n",
              "      <td>1629.83350</td>\n",
              "    </tr>\n",
              "    <tr>\n",
              "      <th>1336</th>\n",
              "      <td>21</td>\n",
              "      <td>female</td>\n",
              "      <td>25.800</td>\n",
              "      <td>0</td>\n",
              "      <td>no</td>\n",
              "      <td>southwest</td>\n",
              "      <td>2007.94500</td>\n",
              "    </tr>\n",
              "    <tr>\n",
              "      <th>1337</th>\n",
              "      <td>61</td>\n",
              "      <td>female</td>\n",
              "      <td>29.070</td>\n",
              "      <td>0</td>\n",
              "      <td>yes</td>\n",
              "      <td>northwest</td>\n",
              "      <td>29141.36030</td>\n",
              "    </tr>\n",
              "  </tbody>\n",
              "</table>\n",
              "<p>1338 rows × 7 columns</p>\n",
              "</div>\n",
              "      <button class=\"colab-df-convert\" onclick=\"convertToInteractive('df-cdea5e51-e74b-4121-b7f1-204e05713562')\"\n",
              "              title=\"Convert this dataframe to an interactive table.\"\n",
              "              style=\"display:none;\">\n",
              "        \n",
              "  <svg xmlns=\"http://www.w3.org/2000/svg\" height=\"24px\"viewBox=\"0 0 24 24\"\n",
              "       width=\"24px\">\n",
              "    <path d=\"M0 0h24v24H0V0z\" fill=\"none\"/>\n",
              "    <path d=\"M18.56 5.44l.94 2.06.94-2.06 2.06-.94-2.06-.94-.94-2.06-.94 2.06-2.06.94zm-11 1L8.5 8.5l.94-2.06 2.06-.94-2.06-.94L8.5 2.5l-.94 2.06-2.06.94zm10 10l.94 2.06.94-2.06 2.06-.94-2.06-.94-.94-2.06-.94 2.06-2.06.94z\"/><path d=\"M17.41 7.96l-1.37-1.37c-.4-.4-.92-.59-1.43-.59-.52 0-1.04.2-1.43.59L10.3 9.45l-7.72 7.72c-.78.78-.78 2.05 0 2.83L4 21.41c.39.39.9.59 1.41.59.51 0 1.02-.2 1.41-.59l7.78-7.78 2.81-2.81c.8-.78.8-2.07 0-2.86zM5.41 20L4 18.59l7.72-7.72 1.47 1.35L5.41 20z\"/>\n",
              "  </svg>\n",
              "      </button>\n",
              "      \n",
              "  <style>\n",
              "    .colab-df-container {\n",
              "      display:flex;\n",
              "      flex-wrap:wrap;\n",
              "      gap: 12px;\n",
              "    }\n",
              "\n",
              "    .colab-df-convert {\n",
              "      background-color: #E8F0FE;\n",
              "      border: none;\n",
              "      border-radius: 50%;\n",
              "      cursor: pointer;\n",
              "      display: none;\n",
              "      fill: #1967D2;\n",
              "      height: 32px;\n",
              "      padding: 0 0 0 0;\n",
              "      width: 32px;\n",
              "    }\n",
              "\n",
              "    .colab-df-convert:hover {\n",
              "      background-color: #E2EBFA;\n",
              "      box-shadow: 0px 1px 2px rgba(60, 64, 67, 0.3), 0px 1px 3px 1px rgba(60, 64, 67, 0.15);\n",
              "      fill: #174EA6;\n",
              "    }\n",
              "\n",
              "    [theme=dark] .colab-df-convert {\n",
              "      background-color: #3B4455;\n",
              "      fill: #D2E3FC;\n",
              "    }\n",
              "\n",
              "    [theme=dark] .colab-df-convert:hover {\n",
              "      background-color: #434B5C;\n",
              "      box-shadow: 0px 1px 3px 1px rgba(0, 0, 0, 0.15);\n",
              "      filter: drop-shadow(0px 1px 2px rgba(0, 0, 0, 0.3));\n",
              "      fill: #FFFFFF;\n",
              "    }\n",
              "  </style>\n",
              "\n",
              "      <script>\n",
              "        const buttonEl =\n",
              "          document.querySelector('#df-cdea5e51-e74b-4121-b7f1-204e05713562 button.colab-df-convert');\n",
              "        buttonEl.style.display =\n",
              "          google.colab.kernel.accessAllowed ? 'block' : 'none';\n",
              "\n",
              "        async function convertToInteractive(key) {\n",
              "          const element = document.querySelector('#df-cdea5e51-e74b-4121-b7f1-204e05713562');\n",
              "          const dataTable =\n",
              "            await google.colab.kernel.invokeFunction('convertToInteractive',\n",
              "                                                     [key], {});\n",
              "          if (!dataTable) return;\n",
              "\n",
              "          const docLinkHtml = 'Like what you see? Visit the ' +\n",
              "            '<a target=\"_blank\" href=https://colab.research.google.com/notebooks/data_table.ipynb>data table notebook</a>'\n",
              "            + ' to learn more about interactive tables.';\n",
              "          element.innerHTML = '';\n",
              "          dataTable['output_type'] = 'display_data';\n",
              "          await google.colab.output.renderOutput(dataTable, element);\n",
              "          const docLink = document.createElement('div');\n",
              "          docLink.innerHTML = docLinkHtml;\n",
              "          element.appendChild(docLink);\n",
              "        }\n",
              "      </script>\n",
              "    </div>\n",
              "  </div>\n",
              "  "
            ]
          },
          "metadata": {},
          "execution_count": 66
        }
      ]
    },
    {
      "cell_type": "code",
      "source": [
        "insurance[\"age\"],insurance[\"sex\"]"
      ],
      "metadata": {
        "colab": {
          "base_uri": "https://localhost:8080/"
        },
        "id": "tKIKvnm4nWIg",
        "outputId": "b7d890f1-f58d-462c-a931-d26f15020f46"
      },
      "execution_count": 67,
      "outputs": [
        {
          "output_type": "execute_result",
          "data": {
            "text/plain": [
              "(0       19\n",
              " 1       18\n",
              " 2       28\n",
              " 3       33\n",
              " 4       32\n",
              "         ..\n",
              " 1333    50\n",
              " 1334    18\n",
              " 1335    18\n",
              " 1336    21\n",
              " 1337    61\n",
              " Name: age, Length: 1338, dtype: int64, 0       female\n",
              " 1         male\n",
              " 2         male\n",
              " 3         male\n",
              " 4         male\n",
              "          ...  \n",
              " 1333      male\n",
              " 1334    female\n",
              " 1335    female\n",
              " 1336    female\n",
              " 1337    female\n",
              " Name: sex, Length: 1338, dtype: object)"
            ]
          },
          "metadata": {},
          "execution_count": 67
        }
      ]
    },
    {
      "cell_type": "code",
      "source": [
        "#try one hot encoding for non numerical values\n",
        "one_hot = pd.get_dummies(insurance)\n",
        "one_hot"
      ],
      "metadata": {
        "colab": {
          "base_uri": "https://localhost:8080/",
          "height": 424
        },
        "id": "X0SQEaJEozAW",
        "outputId": "59ab790f-092d-4019-e8fd-9f0f84a68308"
      },
      "execution_count": 68,
      "outputs": [
        {
          "output_type": "execute_result",
          "data": {
            "text/plain": [
              "      age     bmi  children      charges  sex_female  sex_male  smoker_no  \\\n",
              "0      19  27.900         0  16884.92400           1         0          0   \n",
              "1      18  33.770         1   1725.55230           0         1          1   \n",
              "2      28  33.000         3   4449.46200           0         1          1   \n",
              "3      33  22.705         0  21984.47061           0         1          1   \n",
              "4      32  28.880         0   3866.85520           0         1          1   \n",
              "...   ...     ...       ...          ...         ...       ...        ...   \n",
              "1333   50  30.970         3  10600.54830           0         1          1   \n",
              "1334   18  31.920         0   2205.98080           1         0          1   \n",
              "1335   18  36.850         0   1629.83350           1         0          1   \n",
              "1336   21  25.800         0   2007.94500           1         0          1   \n",
              "1337   61  29.070         0  29141.36030           1         0          0   \n",
              "\n",
              "      smoker_yes  region_northeast  region_northwest  region_southeast  \\\n",
              "0              1                 0                 0                 0   \n",
              "1              0                 0                 0                 1   \n",
              "2              0                 0                 0                 1   \n",
              "3              0                 0                 1                 0   \n",
              "4              0                 0                 1                 0   \n",
              "...          ...               ...               ...               ...   \n",
              "1333           0                 0                 1                 0   \n",
              "1334           0                 1                 0                 0   \n",
              "1335           0                 0                 0                 1   \n",
              "1336           0                 0                 0                 0   \n",
              "1337           1                 0                 1                 0   \n",
              "\n",
              "      region_southwest  \n",
              "0                    1  \n",
              "1                    0  \n",
              "2                    0  \n",
              "3                    0  \n",
              "4                    0  \n",
              "...                ...  \n",
              "1333                 0  \n",
              "1334                 0  \n",
              "1335                 0  \n",
              "1336                 1  \n",
              "1337                 0  \n",
              "\n",
              "[1338 rows x 12 columns]"
            ],
            "text/html": [
              "\n",
              "  <div id=\"df-ecb0693c-30dd-4035-b726-1daeb2ae7d9a\">\n",
              "    <div class=\"colab-df-container\">\n",
              "      <div>\n",
              "<style scoped>\n",
              "    .dataframe tbody tr th:only-of-type {\n",
              "        vertical-align: middle;\n",
              "    }\n",
              "\n",
              "    .dataframe tbody tr th {\n",
              "        vertical-align: top;\n",
              "    }\n",
              "\n",
              "    .dataframe thead th {\n",
              "        text-align: right;\n",
              "    }\n",
              "</style>\n",
              "<table border=\"1\" class=\"dataframe\">\n",
              "  <thead>\n",
              "    <tr style=\"text-align: right;\">\n",
              "      <th></th>\n",
              "      <th>age</th>\n",
              "      <th>bmi</th>\n",
              "      <th>children</th>\n",
              "      <th>charges</th>\n",
              "      <th>sex_female</th>\n",
              "      <th>sex_male</th>\n",
              "      <th>smoker_no</th>\n",
              "      <th>smoker_yes</th>\n",
              "      <th>region_northeast</th>\n",
              "      <th>region_northwest</th>\n",
              "      <th>region_southeast</th>\n",
              "      <th>region_southwest</th>\n",
              "    </tr>\n",
              "  </thead>\n",
              "  <tbody>\n",
              "    <tr>\n",
              "      <th>0</th>\n",
              "      <td>19</td>\n",
              "      <td>27.900</td>\n",
              "      <td>0</td>\n",
              "      <td>16884.92400</td>\n",
              "      <td>1</td>\n",
              "      <td>0</td>\n",
              "      <td>0</td>\n",
              "      <td>1</td>\n",
              "      <td>0</td>\n",
              "      <td>0</td>\n",
              "      <td>0</td>\n",
              "      <td>1</td>\n",
              "    </tr>\n",
              "    <tr>\n",
              "      <th>1</th>\n",
              "      <td>18</td>\n",
              "      <td>33.770</td>\n",
              "      <td>1</td>\n",
              "      <td>1725.55230</td>\n",
              "      <td>0</td>\n",
              "      <td>1</td>\n",
              "      <td>1</td>\n",
              "      <td>0</td>\n",
              "      <td>0</td>\n",
              "      <td>0</td>\n",
              "      <td>1</td>\n",
              "      <td>0</td>\n",
              "    </tr>\n",
              "    <tr>\n",
              "      <th>2</th>\n",
              "      <td>28</td>\n",
              "      <td>33.000</td>\n",
              "      <td>3</td>\n",
              "      <td>4449.46200</td>\n",
              "      <td>0</td>\n",
              "      <td>1</td>\n",
              "      <td>1</td>\n",
              "      <td>0</td>\n",
              "      <td>0</td>\n",
              "      <td>0</td>\n",
              "      <td>1</td>\n",
              "      <td>0</td>\n",
              "    </tr>\n",
              "    <tr>\n",
              "      <th>3</th>\n",
              "      <td>33</td>\n",
              "      <td>22.705</td>\n",
              "      <td>0</td>\n",
              "      <td>21984.47061</td>\n",
              "      <td>0</td>\n",
              "      <td>1</td>\n",
              "      <td>1</td>\n",
              "      <td>0</td>\n",
              "      <td>0</td>\n",
              "      <td>1</td>\n",
              "      <td>0</td>\n",
              "      <td>0</td>\n",
              "    </tr>\n",
              "    <tr>\n",
              "      <th>4</th>\n",
              "      <td>32</td>\n",
              "      <td>28.880</td>\n",
              "      <td>0</td>\n",
              "      <td>3866.85520</td>\n",
              "      <td>0</td>\n",
              "      <td>1</td>\n",
              "      <td>1</td>\n",
              "      <td>0</td>\n",
              "      <td>0</td>\n",
              "      <td>1</td>\n",
              "      <td>0</td>\n",
              "      <td>0</td>\n",
              "    </tr>\n",
              "    <tr>\n",
              "      <th>...</th>\n",
              "      <td>...</td>\n",
              "      <td>...</td>\n",
              "      <td>...</td>\n",
              "      <td>...</td>\n",
              "      <td>...</td>\n",
              "      <td>...</td>\n",
              "      <td>...</td>\n",
              "      <td>...</td>\n",
              "      <td>...</td>\n",
              "      <td>...</td>\n",
              "      <td>...</td>\n",
              "      <td>...</td>\n",
              "    </tr>\n",
              "    <tr>\n",
              "      <th>1333</th>\n",
              "      <td>50</td>\n",
              "      <td>30.970</td>\n",
              "      <td>3</td>\n",
              "      <td>10600.54830</td>\n",
              "      <td>0</td>\n",
              "      <td>1</td>\n",
              "      <td>1</td>\n",
              "      <td>0</td>\n",
              "      <td>0</td>\n",
              "      <td>1</td>\n",
              "      <td>0</td>\n",
              "      <td>0</td>\n",
              "    </tr>\n",
              "    <tr>\n",
              "      <th>1334</th>\n",
              "      <td>18</td>\n",
              "      <td>31.920</td>\n",
              "      <td>0</td>\n",
              "      <td>2205.98080</td>\n",
              "      <td>1</td>\n",
              "      <td>0</td>\n",
              "      <td>1</td>\n",
              "      <td>0</td>\n",
              "      <td>1</td>\n",
              "      <td>0</td>\n",
              "      <td>0</td>\n",
              "      <td>0</td>\n",
              "    </tr>\n",
              "    <tr>\n",
              "      <th>1335</th>\n",
              "      <td>18</td>\n",
              "      <td>36.850</td>\n",
              "      <td>0</td>\n",
              "      <td>1629.83350</td>\n",
              "      <td>1</td>\n",
              "      <td>0</td>\n",
              "      <td>1</td>\n",
              "      <td>0</td>\n",
              "      <td>0</td>\n",
              "      <td>0</td>\n",
              "      <td>1</td>\n",
              "      <td>0</td>\n",
              "    </tr>\n",
              "    <tr>\n",
              "      <th>1336</th>\n",
              "      <td>21</td>\n",
              "      <td>25.800</td>\n",
              "      <td>0</td>\n",
              "      <td>2007.94500</td>\n",
              "      <td>1</td>\n",
              "      <td>0</td>\n",
              "      <td>1</td>\n",
              "      <td>0</td>\n",
              "      <td>0</td>\n",
              "      <td>0</td>\n",
              "      <td>0</td>\n",
              "      <td>1</td>\n",
              "    </tr>\n",
              "    <tr>\n",
              "      <th>1337</th>\n",
              "      <td>61</td>\n",
              "      <td>29.070</td>\n",
              "      <td>0</td>\n",
              "      <td>29141.36030</td>\n",
              "      <td>1</td>\n",
              "      <td>0</td>\n",
              "      <td>0</td>\n",
              "      <td>1</td>\n",
              "      <td>0</td>\n",
              "      <td>1</td>\n",
              "      <td>0</td>\n",
              "      <td>0</td>\n",
              "    </tr>\n",
              "  </tbody>\n",
              "</table>\n",
              "<p>1338 rows × 12 columns</p>\n",
              "</div>\n",
              "      <button class=\"colab-df-convert\" onclick=\"convertToInteractive('df-ecb0693c-30dd-4035-b726-1daeb2ae7d9a')\"\n",
              "              title=\"Convert this dataframe to an interactive table.\"\n",
              "              style=\"display:none;\">\n",
              "        \n",
              "  <svg xmlns=\"http://www.w3.org/2000/svg\" height=\"24px\"viewBox=\"0 0 24 24\"\n",
              "       width=\"24px\">\n",
              "    <path d=\"M0 0h24v24H0V0z\" fill=\"none\"/>\n",
              "    <path d=\"M18.56 5.44l.94 2.06.94-2.06 2.06-.94-2.06-.94-.94-2.06-.94 2.06-2.06.94zm-11 1L8.5 8.5l.94-2.06 2.06-.94-2.06-.94L8.5 2.5l-.94 2.06-2.06.94zm10 10l.94 2.06.94-2.06 2.06-.94-2.06-.94-.94-2.06-.94 2.06-2.06.94z\"/><path d=\"M17.41 7.96l-1.37-1.37c-.4-.4-.92-.59-1.43-.59-.52 0-1.04.2-1.43.59L10.3 9.45l-7.72 7.72c-.78.78-.78 2.05 0 2.83L4 21.41c.39.39.9.59 1.41.59.51 0 1.02-.2 1.41-.59l7.78-7.78 2.81-2.81c.8-.78.8-2.07 0-2.86zM5.41 20L4 18.59l7.72-7.72 1.47 1.35L5.41 20z\"/>\n",
              "  </svg>\n",
              "      </button>\n",
              "      \n",
              "  <style>\n",
              "    .colab-df-container {\n",
              "      display:flex;\n",
              "      flex-wrap:wrap;\n",
              "      gap: 12px;\n",
              "    }\n",
              "\n",
              "    .colab-df-convert {\n",
              "      background-color: #E8F0FE;\n",
              "      border: none;\n",
              "      border-radius: 50%;\n",
              "      cursor: pointer;\n",
              "      display: none;\n",
              "      fill: #1967D2;\n",
              "      height: 32px;\n",
              "      padding: 0 0 0 0;\n",
              "      width: 32px;\n",
              "    }\n",
              "\n",
              "    .colab-df-convert:hover {\n",
              "      background-color: #E2EBFA;\n",
              "      box-shadow: 0px 1px 2px rgba(60, 64, 67, 0.3), 0px 1px 3px 1px rgba(60, 64, 67, 0.15);\n",
              "      fill: #174EA6;\n",
              "    }\n",
              "\n",
              "    [theme=dark] .colab-df-convert {\n",
              "      background-color: #3B4455;\n",
              "      fill: #D2E3FC;\n",
              "    }\n",
              "\n",
              "    [theme=dark] .colab-df-convert:hover {\n",
              "      background-color: #434B5C;\n",
              "      box-shadow: 0px 1px 3px 1px rgba(0, 0, 0, 0.15);\n",
              "      filter: drop-shadow(0px 1px 2px rgba(0, 0, 0, 0.3));\n",
              "      fill: #FFFFFF;\n",
              "    }\n",
              "  </style>\n",
              "\n",
              "      <script>\n",
              "        const buttonEl =\n",
              "          document.querySelector('#df-ecb0693c-30dd-4035-b726-1daeb2ae7d9a button.colab-df-convert');\n",
              "        buttonEl.style.display =\n",
              "          google.colab.kernel.accessAllowed ? 'block' : 'none';\n",
              "\n",
              "        async function convertToInteractive(key) {\n",
              "          const element = document.querySelector('#df-ecb0693c-30dd-4035-b726-1daeb2ae7d9a');\n",
              "          const dataTable =\n",
              "            await google.colab.kernel.invokeFunction('convertToInteractive',\n",
              "                                                     [key], {});\n",
              "          if (!dataTable) return;\n",
              "\n",
              "          const docLinkHtml = 'Like what you see? Visit the ' +\n",
              "            '<a target=\"_blank\" href=https://colab.research.google.com/notebooks/data_table.ipynb>data table notebook</a>'\n",
              "            + ' to learn more about interactive tables.';\n",
              "          element.innerHTML = '';\n",
              "          dataTable['output_type'] = 'display_data';\n",
              "          await google.colab.output.renderOutput(dataTable, element);\n",
              "          const docLink = document.createElement('div');\n",
              "          docLink.innerHTML = docLinkHtml;\n",
              "          element.appendChild(docLink);\n",
              "        }\n",
              "      </script>\n",
              "    </div>\n",
              "  </div>\n",
              "  "
            ]
          },
          "metadata": {},
          "execution_count": 68
        }
      ]
    },
    {
      "cell_type": "code",
      "source": [
        "#split into feature and label\n",
        "X = one_hot.drop(\"charges\",axis=1)\n",
        "Y = one_hot['charges']"
      ],
      "metadata": {
        "id": "9CSIlAweo-U3"
      },
      "execution_count": 69,
      "outputs": []
    },
    {
      "cell_type": "code",
      "source": [
        "# split into train and test\n",
        "X_train, X_test, y_train, y_test = train_test_split(X, Y, test_size=0.2, random_state=42)"
      ],
      "metadata": {
        "id": "t92mJIWZwq1U"
      },
      "execution_count": 70,
      "outputs": []
    },
    {
      "cell_type": "code",
      "source": [
        "# Build a neural_network similar to model_2 before\n",
        "tf.random.set_seed(42)\n",
        "\n",
        "# 1- Create the model:\n",
        "insurance_model = tf.keras.Sequential([\n",
        "           tf.keras.layers.Dense(10, name=\"hidden_layer\"),\n",
        "           tf.keras.layers.Dense(1, name=\"output_layer\") \n",
        "])\n",
        "\n",
        "# 2- Compile the model: \n",
        "insurance_model.compile(loss = tf.keras.losses.mae,\n",
        "                      optimizer = tf.keras.optimizers.SGD(),\n",
        "                      metrics = [\"mae\"])\n",
        "\n",
        "# 3- Fit the model: \n",
        "insurance_model.fit(tf.expand_dims(X_train, axis=-1), y_train, epochs = 100)\n",
        "\n",
        "# 4-Check the results of the insurance model on the test data: \n",
        "insurance_model.evaluate(X_test, y_test)\n",
        "y_train.median(), y_train.mean()"
      ],
      "metadata": {
        "colab": {
          "base_uri": "https://localhost:8080/"
        },
        "id": "coS4YSd7wxHB",
        "outputId": "334368ee-5468-42c5-dca0-9721da376ab3"
      },
      "execution_count": 71,
      "outputs": [
        {
          "output_type": "stream",
          "name": "stdout",
          "text": [
            "Epoch 1/100\n",
            "34/34 [==============================] - 0s 1ms/step - loss: 13235.9590 - mae: 13235.9590\n",
            "Epoch 2/100\n",
            "34/34 [==============================] - 0s 1ms/step - loss: 12311.1182 - mae: 12311.1182\n",
            "Epoch 3/100\n",
            "34/34 [==============================] - 0s 1ms/step - loss: 12173.6699 - mae: 12173.6699\n",
            "Epoch 4/100\n",
            "34/34 [==============================] - 0s 1ms/step - loss: 12099.2920 - mae: 12099.2920\n",
            "Epoch 5/100\n",
            "34/34 [==============================] - 0s 1ms/step - loss: 11985.4248 - mae: 11985.4248\n",
            "Epoch 6/100\n",
            "34/34 [==============================] - 0s 2ms/step - loss: 11799.9395 - mae: 11799.9395\n",
            "Epoch 7/100\n",
            "34/34 [==============================] - 0s 1ms/step - loss: 11476.8359 - mae: 11476.8359\n",
            "Epoch 8/100\n",
            "34/34 [==============================] - 0s 1ms/step - loss: 10967.0264 - mae: 10967.0264\n",
            "Epoch 9/100\n",
            "34/34 [==============================] - 0s 1ms/step - loss: 10350.2998 - mae: 10350.2998\n",
            "Epoch 10/100\n",
            "34/34 [==============================] - 0s 1ms/step - loss: 9702.6709 - mae: 9702.6709\n",
            "Epoch 11/100\n",
            "34/34 [==============================] - 0s 1ms/step - loss: 9191.6152 - mae: 9191.6152\n",
            "Epoch 12/100\n",
            "34/34 [==============================] - 0s 2ms/step - loss: 8812.3760 - mae: 8812.3760\n",
            "Epoch 13/100\n",
            "34/34 [==============================] - 0s 1ms/step - loss: 8661.6318 - mae: 8661.6318\n",
            "Epoch 14/100\n",
            "34/34 [==============================] - 0s 2ms/step - loss: 8530.6475 - mae: 8530.6475\n",
            "Epoch 15/100\n",
            "34/34 [==============================] - 0s 2ms/step - loss: 8504.2061 - mae: 8504.2061\n",
            "Epoch 16/100\n",
            "34/34 [==============================] - 0s 2ms/step - loss: 8450.2246 - mae: 8450.2246\n",
            "Epoch 17/100\n",
            "34/34 [==============================] - 0s 2ms/step - loss: 8557.1924 - mae: 8557.1924\n",
            "Epoch 18/100\n",
            "34/34 [==============================] - 0s 1ms/step - loss: 8530.2988 - mae: 8530.2988\n",
            "Epoch 19/100\n",
            "34/34 [==============================] - 0s 1ms/step - loss: 8447.9883 - mae: 8447.9883\n",
            "Epoch 20/100\n",
            "34/34 [==============================] - 0s 1ms/step - loss: 8596.8496 - mae: 8596.8496\n",
            "Epoch 21/100\n",
            "34/34 [==============================] - 0s 1ms/step - loss: 8506.3721 - mae: 8506.3721\n",
            "Epoch 22/100\n",
            "34/34 [==============================] - 0s 1ms/step - loss: 8618.8506 - mae: 8618.8506\n",
            "Epoch 23/100\n",
            "34/34 [==============================] - 0s 1ms/step - loss: 8540.3096 - mae: 8540.3096\n",
            "Epoch 24/100\n",
            "34/34 [==============================] - 0s 1ms/step - loss: 8485.0303 - mae: 8485.0303\n",
            "Epoch 25/100\n",
            "34/34 [==============================] - 0s 1ms/step - loss: 8505.4121 - mae: 8505.4121\n",
            "Epoch 26/100\n",
            "34/34 [==============================] - 0s 1ms/step - loss: 8423.0166 - mae: 8423.0166\n",
            "Epoch 27/100\n",
            "34/34 [==============================] - 0s 2ms/step - loss: 8534.9570 - mae: 8534.9570\n",
            "Epoch 28/100\n",
            "34/34 [==============================] - 0s 1ms/step - loss: 8429.8008 - mae: 8429.8008\n",
            "Epoch 29/100\n",
            "34/34 [==============================] - 0s 1ms/step - loss: 8430.2559 - mae: 8430.2559\n",
            "Epoch 30/100\n",
            "34/34 [==============================] - 0s 1ms/step - loss: 8500.0615 - mae: 8500.0615\n",
            "Epoch 31/100\n",
            "34/34 [==============================] - 0s 2ms/step - loss: 8462.8271 - mae: 8462.8271\n",
            "Epoch 32/100\n",
            "34/34 [==============================] - 0s 1ms/step - loss: 8467.4355 - mae: 8467.4355\n",
            "Epoch 33/100\n",
            "34/34 [==============================] - 0s 1ms/step - loss: 8393.6240 - mae: 8393.6240\n",
            "Epoch 34/100\n",
            "34/34 [==============================] - 0s 1ms/step - loss: 8417.7529 - mae: 8417.7529\n",
            "Epoch 35/100\n",
            "34/34 [==============================] - 0s 1ms/step - loss: 8422.6895 - mae: 8422.6895\n",
            "Epoch 36/100\n",
            "34/34 [==============================] - 0s 1ms/step - loss: 8410.7715 - mae: 8410.7715\n",
            "Epoch 37/100\n",
            "34/34 [==============================] - 0s 1ms/step - loss: 8428.7500 - mae: 8428.7500\n",
            "Epoch 38/100\n",
            "34/34 [==============================] - 0s 1ms/step - loss: 8398.0176 - mae: 8398.0176\n",
            "Epoch 39/100\n",
            "34/34 [==============================] - 0s 1ms/step - loss: 8421.8643 - mae: 8421.8643\n",
            "Epoch 40/100\n",
            "34/34 [==============================] - 0s 1ms/step - loss: 8350.4639 - mae: 8350.4639\n",
            "Epoch 41/100\n",
            "34/34 [==============================] - 0s 1ms/step - loss: 8433.3652 - mae: 8433.3652\n",
            "Epoch 42/100\n",
            "34/34 [==============================] - 0s 1ms/step - loss: 8404.7129 - mae: 8404.7129\n",
            "Epoch 43/100\n",
            "34/34 [==============================] - 0s 1ms/step - loss: 8464.4238 - mae: 8464.4238\n",
            "Epoch 44/100\n",
            "34/34 [==============================] - 0s 1ms/step - loss: 8380.4062 - mae: 8380.4062\n",
            "Epoch 45/100\n",
            "34/34 [==============================] - 0s 1ms/step - loss: 8422.7607 - mae: 8422.7607\n",
            "Epoch 46/100\n",
            "34/34 [==============================] - 0s 1ms/step - loss: 8398.7441 - mae: 8398.7441\n",
            "Epoch 47/100\n",
            "34/34 [==============================] - 0s 1ms/step - loss: 8403.9238 - mae: 8403.9238\n",
            "Epoch 48/100\n",
            "34/34 [==============================] - 0s 2ms/step - loss: 8361.1338 - mae: 8361.1338\n",
            "Epoch 49/100\n",
            "34/34 [==============================] - 0s 1ms/step - loss: 8414.5420 - mae: 8414.5420\n",
            "Epoch 50/100\n",
            "34/34 [==============================] - 0s 1ms/step - loss: 8392.3047 - mae: 8392.3047\n",
            "Epoch 51/100\n",
            "34/34 [==============================] - 0s 1ms/step - loss: 8352.0684 - mae: 8352.0684\n",
            "Epoch 52/100\n",
            "34/34 [==============================] - 0s 2ms/step - loss: 8364.1924 - mae: 8364.1924\n",
            "Epoch 53/100\n",
            "34/34 [==============================] - 0s 1ms/step - loss: 8447.8379 - mae: 8447.8379\n",
            "Epoch 54/100\n",
            "34/34 [==============================] - 0s 2ms/step - loss: 8396.1504 - mae: 8396.1504\n",
            "Epoch 55/100\n",
            "34/34 [==============================] - 0s 1ms/step - loss: 8349.2119 - mae: 8349.2119\n",
            "Epoch 56/100\n",
            "34/34 [==============================] - 0s 1ms/step - loss: 8369.3506 - mae: 8369.3506\n",
            "Epoch 57/100\n",
            "34/34 [==============================] - 0s 1ms/step - loss: 8393.0098 - mae: 8393.0098\n",
            "Epoch 58/100\n",
            "34/34 [==============================] - 0s 1ms/step - loss: 8345.6045 - mae: 8345.6045\n",
            "Epoch 59/100\n",
            "34/34 [==============================] - 0s 2ms/step - loss: 8420.6934 - mae: 8420.6934\n",
            "Epoch 60/100\n",
            "34/34 [==============================] - 0s 1ms/step - loss: 8423.3965 - mae: 8423.3965\n",
            "Epoch 61/100\n",
            "34/34 [==============================] - 0s 1ms/step - loss: 8406.0488 - mae: 8406.0488\n",
            "Epoch 62/100\n",
            "34/34 [==============================] - 0s 2ms/step - loss: 8336.7959 - mae: 8336.7959\n",
            "Epoch 63/100\n",
            "34/34 [==============================] - 0s 2ms/step - loss: 8377.7109 - mae: 8377.7109\n",
            "Epoch 64/100\n",
            "34/34 [==============================] - 0s 1ms/step - loss: 8396.2646 - mae: 8396.2646\n",
            "Epoch 65/100\n",
            "34/34 [==============================] - 0s 2ms/step - loss: 8381.3457 - mae: 8381.3457\n",
            "Epoch 66/100\n",
            "34/34 [==============================] - 0s 1ms/step - loss: 8348.7900 - mae: 8348.7900\n",
            "Epoch 67/100\n",
            "34/34 [==============================] - 0s 1ms/step - loss: 8327.2842 - mae: 8327.2842\n",
            "Epoch 68/100\n",
            "34/34 [==============================] - 0s 1ms/step - loss: 8329.9668 - mae: 8329.9668\n",
            "Epoch 69/100\n",
            "34/34 [==============================] - 0s 1ms/step - loss: 8356.6172 - mae: 8356.6172\n",
            "Epoch 70/100\n",
            "34/34 [==============================] - 0s 1ms/step - loss: 8410.5107 - mae: 8410.5107\n",
            "Epoch 71/100\n",
            "34/34 [==============================] - 0s 1ms/step - loss: 8354.7939 - mae: 8354.7939\n",
            "Epoch 72/100\n",
            "34/34 [==============================] - 0s 1ms/step - loss: 8358.6865 - mae: 8358.6865\n",
            "Epoch 73/100\n",
            "34/34 [==============================] - 0s 1ms/step - loss: 8355.4609 - mae: 8355.4609\n",
            "Epoch 74/100\n",
            "34/34 [==============================] - 0s 1ms/step - loss: 8373.6592 - mae: 8373.6592\n",
            "Epoch 75/100\n",
            "34/34 [==============================] - 0s 1ms/step - loss: 8340.8936 - mae: 8340.8936\n",
            "Epoch 76/100\n",
            "34/34 [==============================] - 0s 1ms/step - loss: 8337.2939 - mae: 8337.2939\n",
            "Epoch 77/100\n",
            "34/34 [==============================] - 0s 1ms/step - loss: 8377.1797 - mae: 8377.1797\n",
            "Epoch 78/100\n",
            "34/34 [==============================] - 0s 1ms/step - loss: 8358.6338 - mae: 8358.6338\n",
            "Epoch 79/100\n",
            "34/34 [==============================] - 0s 1ms/step - loss: 8399.7480 - mae: 8399.7480\n",
            "Epoch 80/100\n",
            "34/34 [==============================] - 0s 1ms/step - loss: 8325.2754 - mae: 8325.2754\n",
            "Epoch 81/100\n",
            "34/34 [==============================] - 0s 1ms/step - loss: 8360.9238 - mae: 8360.9238\n",
            "Epoch 82/100\n",
            "34/34 [==============================] - 0s 2ms/step - loss: 8346.9932 - mae: 8346.9932\n",
            "Epoch 83/100\n",
            "34/34 [==============================] - 0s 2ms/step - loss: 8413.8779 - mae: 8413.8779\n",
            "Epoch 84/100\n",
            "34/34 [==============================] - 0s 1ms/step - loss: 8347.1699 - mae: 8347.1699\n",
            "Epoch 85/100\n",
            "34/34 [==============================] - 0s 1ms/step - loss: 8373.5107 - mae: 8373.5107\n",
            "Epoch 86/100\n",
            "34/34 [==============================] - 0s 1ms/step - loss: 8364.4209 - mae: 8364.4209\n",
            "Epoch 87/100\n",
            "34/34 [==============================] - 0s 1ms/step - loss: 8363.0684 - mae: 8363.0684\n",
            "Epoch 88/100\n",
            "34/34 [==============================] - 0s 1ms/step - loss: 8353.8975 - mae: 8353.8975\n",
            "Epoch 89/100\n",
            "34/34 [==============================] - 0s 1ms/step - loss: 8390.1328 - mae: 8390.1328\n",
            "Epoch 90/100\n",
            "34/34 [==============================] - 0s 1ms/step - loss: 8323.3027 - mae: 8323.3027\n",
            "Epoch 91/100\n",
            "34/34 [==============================] - 0s 1ms/step - loss: 8355.7266 - mae: 8355.7266\n",
            "Epoch 92/100\n",
            "34/34 [==============================] - 0s 2ms/step - loss: 8379.5322 - mae: 8379.5322\n",
            "Epoch 93/100\n",
            "34/34 [==============================] - 0s 1ms/step - loss: 8327.6660 - mae: 8327.6660\n",
            "Epoch 94/100\n",
            "34/34 [==============================] - 0s 1ms/step - loss: 8324.1074 - mae: 8324.1074\n",
            "Epoch 95/100\n",
            "34/34 [==============================] - 0s 1ms/step - loss: 8342.5566 - mae: 8342.5566\n",
            "Epoch 96/100\n",
            "34/34 [==============================] - 0s 2ms/step - loss: 8349.1484 - mae: 8349.1484\n",
            "Epoch 97/100\n",
            "34/34 [==============================] - 0s 1ms/step - loss: 8349.0273 - mae: 8349.0273\n",
            "Epoch 98/100\n",
            "34/34 [==============================] - 0s 1ms/step - loss: 8349.3066 - mae: 8349.3066\n",
            "Epoch 99/100\n",
            "34/34 [==============================] - 0s 1ms/step - loss: 8323.7939 - mae: 8323.7939\n",
            "Epoch 100/100\n",
            "34/34 [==============================] - 0s 2ms/step - loss: 8340.5547 - mae: 8340.5547\n",
            "9/9 [==============================] - 0s 2ms/step - loss: 8962.0615 - mae: 8962.0615\n"
          ]
        },
        {
          "output_type": "execute_result",
          "data": {
            "text/plain": [
              "(9575.4421, 13346.089736364485)"
            ]
          },
          "metadata": {},
          "execution_count": 71
        }
      ]
    },
    {
      "cell_type": "markdown",
      "source": [
        "Clearly the model isn't doing well"
      ],
      "metadata": {
        "id": "PV9vmgbc15JC"
      }
    },
    {
      "cell_type": "code",
      "source": [
        "#Model 2 with more hidden units and Adam optimizer\n",
        "# 1- Creat the model:\n",
        "insurance_model2 = tf.keras.Sequential([\n",
        "                   tf.keras.layers.Dense(100, name = \"first_hidden_layer\"),\n",
        "                   tf.keras.layers.Dense(10, name=\"second_hidden_layer\"),\n",
        "                   tf.keras.layers.Dense(1, name=\"output_layer\")                      \n",
        "])\n",
        "\n",
        "# 2- Compile the model: \n",
        "insurance_model2.compile(loss = tf.keras.losses.mae,\n",
        "                         optimizer = tf.keras.optimizers.SGD(), \n",
        "                         metrics=[\"mae\"])\n",
        "\n",
        "# 3- Fit the model: \n",
        "insurance_model2.fit(tf.expand_dims(X_train, axis=-1), y_train, epochs=100)\n",
        "\n",
        "# 4-Evaluate the model: \n",
        "insurance_model2.evaluate(X_test, y_test)"
      ],
      "metadata": {
        "colab": {
          "base_uri": "https://localhost:8080/"
        },
        "id": "Y3iRe-qR18oT",
        "outputId": "2cc8fe5f-6c36-4213-8d4d-4831a052ee99"
      },
      "execution_count": 72,
      "outputs": [
        {
          "output_type": "stream",
          "name": "stdout",
          "text": [
            "Epoch 1/100\n",
            "34/34 [==============================] - 1s 2ms/step - loss: 12571.9131 - mae: 12571.9131\n",
            "Epoch 2/100\n",
            "34/34 [==============================] - 0s 2ms/step - loss: 11735.0312 - mae: 11735.0312\n",
            "Epoch 3/100\n",
            "34/34 [==============================] - 0s 2ms/step - loss: 11600.9092 - mae: 11600.9092\n",
            "Epoch 4/100\n",
            "34/34 [==============================] - 0s 2ms/step - loss: 10928.4941 - mae: 10928.4941\n",
            "Epoch 5/100\n",
            "34/34 [==============================] - 0s 2ms/step - loss: 10313.7666 - mae: 10313.7666\n",
            "Epoch 6/100\n",
            "34/34 [==============================] - 0s 2ms/step - loss: 10272.3535 - mae: 10272.3535\n",
            "Epoch 7/100\n",
            "34/34 [==============================] - 0s 2ms/step - loss: 10015.7207 - mae: 10015.7207\n",
            "Epoch 8/100\n",
            "34/34 [==============================] - 0s 2ms/step - loss: 10061.2988 - mae: 10061.2988\n",
            "Epoch 9/100\n",
            "34/34 [==============================] - 0s 2ms/step - loss: 9982.2139 - mae: 9982.2139\n",
            "Epoch 10/100\n",
            "34/34 [==============================] - 0s 2ms/step - loss: 9733.8203 - mae: 9733.8203\n",
            "Epoch 11/100\n",
            "34/34 [==============================] - 0s 2ms/step - loss: 10083.4121 - mae: 10083.4121\n",
            "Epoch 12/100\n",
            "34/34 [==============================] - 0s 2ms/step - loss: 9454.2900 - mae: 9454.2900\n",
            "Epoch 13/100\n",
            "34/34 [==============================] - 0s 2ms/step - loss: 9855.6865 - mae: 9855.6865\n",
            "Epoch 14/100\n",
            "34/34 [==============================] - 0s 2ms/step - loss: 9640.1699 - mae: 9640.1699\n",
            "Epoch 15/100\n",
            "34/34 [==============================] - 0s 2ms/step - loss: 9119.0195 - mae: 9119.0195\n",
            "Epoch 16/100\n",
            "34/34 [==============================] - 0s 2ms/step - loss: 10179.4551 - mae: 10179.4551\n",
            "Epoch 17/100\n",
            "34/34 [==============================] - 0s 2ms/step - loss: 10067.4912 - mae: 10067.4912\n",
            "Epoch 18/100\n",
            "34/34 [==============================] - 0s 2ms/step - loss: 10304.8359 - mae: 10304.8359\n",
            "Epoch 19/100\n",
            "34/34 [==============================] - 0s 2ms/step - loss: 9899.0312 - mae: 9899.0312\n",
            "Epoch 20/100\n",
            "34/34 [==============================] - 0s 2ms/step - loss: 10182.5898 - mae: 10182.5898\n",
            "Epoch 21/100\n",
            "34/34 [==============================] - 0s 2ms/step - loss: 9702.3281 - mae: 9702.3281\n",
            "Epoch 22/100\n",
            "34/34 [==============================] - 0s 2ms/step - loss: 9671.5430 - mae: 9671.5430\n",
            "Epoch 23/100\n",
            "34/34 [==============================] - 0s 2ms/step - loss: 9544.7539 - mae: 9544.7539\n",
            "Epoch 24/100\n",
            "34/34 [==============================] - 0s 2ms/step - loss: 9876.5938 - mae: 9876.5938\n",
            "Epoch 25/100\n",
            "34/34 [==============================] - 0s 2ms/step - loss: 9255.1084 - mae: 9255.1084\n",
            "Epoch 26/100\n",
            "34/34 [==============================] - 0s 2ms/step - loss: 9203.0977 - mae: 9203.0977\n",
            "Epoch 27/100\n",
            "34/34 [==============================] - 0s 2ms/step - loss: 10067.8994 - mae: 10067.8994\n",
            "Epoch 28/100\n",
            "34/34 [==============================] - 0s 2ms/step - loss: 9382.1670 - mae: 9382.1670\n",
            "Epoch 29/100\n",
            "34/34 [==============================] - 0s 2ms/step - loss: 9073.2021 - mae: 9073.2021\n",
            "Epoch 30/100\n",
            "34/34 [==============================] - 0s 2ms/step - loss: 10183.1973 - mae: 10183.1973\n",
            "Epoch 31/100\n",
            "34/34 [==============================] - 0s 2ms/step - loss: 9725.5967 - mae: 9725.5967\n",
            "Epoch 32/100\n",
            "34/34 [==============================] - 0s 2ms/step - loss: 9672.2402 - mae: 9672.2402\n",
            "Epoch 33/100\n",
            "34/34 [==============================] - 0s 2ms/step - loss: 9428.9893 - mae: 9428.9893\n",
            "Epoch 34/100\n",
            "34/34 [==============================] - 0s 2ms/step - loss: 10087.3066 - mae: 10087.3066\n",
            "Epoch 35/100\n",
            "34/34 [==============================] - 0s 2ms/step - loss: 9677.5820 - mae: 9677.5820\n",
            "Epoch 36/100\n",
            "34/34 [==============================] - 0s 2ms/step - loss: 9618.6221 - mae: 9618.6221\n",
            "Epoch 37/100\n",
            "34/34 [==============================] - 0s 2ms/step - loss: 9628.9355 - mae: 9628.9355\n",
            "Epoch 38/100\n",
            "34/34 [==============================] - 0s 2ms/step - loss: 10455.3994 - mae: 10455.3994\n",
            "Epoch 39/100\n",
            "34/34 [==============================] - 0s 2ms/step - loss: 9915.9434 - mae: 9915.9434\n",
            "Epoch 40/100\n",
            "34/34 [==============================] - 0s 2ms/step - loss: 9347.3447 - mae: 9347.3447\n",
            "Epoch 41/100\n",
            "34/34 [==============================] - 0s 2ms/step - loss: 9547.4238 - mae: 9547.4238\n",
            "Epoch 42/100\n",
            "34/34 [==============================] - 0s 2ms/step - loss: 9441.4932 - mae: 9441.4932\n",
            "Epoch 43/100\n",
            "34/34 [==============================] - 0s 2ms/step - loss: 9839.1787 - mae: 9839.1787\n",
            "Epoch 44/100\n",
            "34/34 [==============================] - 0s 2ms/step - loss: 10187.3223 - mae: 10187.3223\n",
            "Epoch 45/100\n",
            "34/34 [==============================] - 0s 2ms/step - loss: 10155.6045 - mae: 10155.6045\n",
            "Epoch 46/100\n",
            "34/34 [==============================] - 0s 2ms/step - loss: 9654.7480 - mae: 9654.7480\n",
            "Epoch 47/100\n",
            "34/34 [==============================] - 0s 2ms/step - loss: 10059.1387 - mae: 10059.1387\n",
            "Epoch 48/100\n",
            "34/34 [==============================] - 0s 2ms/step - loss: 8947.7764 - mae: 8947.7764\n",
            "Epoch 49/100\n",
            "34/34 [==============================] - 0s 2ms/step - loss: 9997.0977 - mae: 9997.0977\n",
            "Epoch 50/100\n",
            "34/34 [==============================] - 0s 2ms/step - loss: 9860.0840 - mae: 9860.0840\n",
            "Epoch 51/100\n",
            "34/34 [==============================] - 0s 2ms/step - loss: 9647.0596 - mae: 9647.0596\n",
            "Epoch 52/100\n",
            "34/34 [==============================] - 0s 2ms/step - loss: 9174.1680 - mae: 9174.1680\n",
            "Epoch 53/100\n",
            "34/34 [==============================] - 0s 2ms/step - loss: 9554.6475 - mae: 9554.6475\n",
            "Epoch 54/100\n",
            "34/34 [==============================] - 0s 2ms/step - loss: 10343.6484 - mae: 10343.6484\n",
            "Epoch 55/100\n",
            "34/34 [==============================] - 0s 2ms/step - loss: 9179.6104 - mae: 9179.6104\n",
            "Epoch 56/100\n",
            "34/34 [==============================] - 0s 2ms/step - loss: 9143.2188 - mae: 9143.2188\n",
            "Epoch 57/100\n",
            "34/34 [==============================] - 0s 2ms/step - loss: 9271.4414 - mae: 9271.4414\n",
            "Epoch 58/100\n",
            "34/34 [==============================] - 0s 2ms/step - loss: 9482.2588 - mae: 9482.2588\n",
            "Epoch 59/100\n",
            "34/34 [==============================] - 0s 2ms/step - loss: 10119.8955 - mae: 10119.8955\n",
            "Epoch 60/100\n",
            "34/34 [==============================] - 0s 2ms/step - loss: 10263.8584 - mae: 10263.8584\n",
            "Epoch 61/100\n",
            "34/34 [==============================] - 0s 2ms/step - loss: 9797.7295 - mae: 9797.7295\n",
            "Epoch 62/100\n",
            "34/34 [==============================] - 0s 2ms/step - loss: 10008.9658 - mae: 10008.9658\n",
            "Epoch 63/100\n",
            "34/34 [==============================] - 0s 2ms/step - loss: 9857.1562 - mae: 9857.1562\n",
            "Epoch 64/100\n",
            "34/34 [==============================] - 0s 2ms/step - loss: 9688.9219 - mae: 9688.9219\n",
            "Epoch 65/100\n",
            "34/34 [==============================] - 0s 2ms/step - loss: 8987.5117 - mae: 8987.5117\n",
            "Epoch 66/100\n",
            "34/34 [==============================] - 0s 2ms/step - loss: 9661.5928 - mae: 9661.5928\n",
            "Epoch 67/100\n",
            "34/34 [==============================] - 0s 2ms/step - loss: 9615.5205 - mae: 9615.5205\n",
            "Epoch 68/100\n",
            "34/34 [==============================] - 0s 2ms/step - loss: 9481.0586 - mae: 9481.0586\n",
            "Epoch 69/100\n",
            "34/34 [==============================] - 0s 2ms/step - loss: 9214.8232 - mae: 9214.8232\n",
            "Epoch 70/100\n",
            "34/34 [==============================] - 0s 2ms/step - loss: 10123.8760 - mae: 10123.8760\n",
            "Epoch 71/100\n",
            "34/34 [==============================] - 0s 2ms/step - loss: 9931.1426 - mae: 9931.1426\n",
            "Epoch 72/100\n",
            "34/34 [==============================] - 0s 2ms/step - loss: 9860.5518 - mae: 9860.5518\n",
            "Epoch 73/100\n",
            "34/34 [==============================] - 0s 2ms/step - loss: 9543.1240 - mae: 9543.1240\n",
            "Epoch 74/100\n",
            "34/34 [==============================] - 0s 2ms/step - loss: 9367.7080 - mae: 9367.7080\n",
            "Epoch 75/100\n",
            "34/34 [==============================] - 0s 2ms/step - loss: 9123.6357 - mae: 9123.6357\n",
            "Epoch 76/100\n",
            "34/34 [==============================] - 0s 2ms/step - loss: 9690.3203 - mae: 9690.3203\n",
            "Epoch 77/100\n",
            "34/34 [==============================] - 0s 2ms/step - loss: 9447.7812 - mae: 9447.7812\n",
            "Epoch 78/100\n",
            "34/34 [==============================] - 0s 2ms/step - loss: 9508.9785 - mae: 9508.9785\n",
            "Epoch 79/100\n",
            "34/34 [==============================] - 0s 2ms/step - loss: 10468.0244 - mae: 10468.0244\n",
            "Epoch 80/100\n",
            "34/34 [==============================] - 0s 2ms/step - loss: 9254.2930 - mae: 9254.2930\n",
            "Epoch 81/100\n",
            "34/34 [==============================] - 0s 2ms/step - loss: 11043.4111 - mae: 11043.4111\n",
            "Epoch 82/100\n",
            "34/34 [==============================] - 0s 2ms/step - loss: 12684.1123 - mae: 12684.1123\n",
            "Epoch 83/100\n",
            "34/34 [==============================] - 0s 2ms/step - loss: 10255.4561 - mae: 10255.4561\n",
            "Epoch 84/100\n",
            "34/34 [==============================] - 0s 2ms/step - loss: 10130.8428 - mae: 10130.8428\n",
            "Epoch 85/100\n",
            "34/34 [==============================] - 0s 2ms/step - loss: 10979.3672 - mae: 10979.3672\n",
            "Epoch 86/100\n",
            "34/34 [==============================] - 0s 2ms/step - loss: 9618.7227 - mae: 9618.7227\n",
            "Epoch 87/100\n",
            "34/34 [==============================] - 0s 2ms/step - loss: 10341.6123 - mae: 10341.6123\n",
            "Epoch 88/100\n",
            "34/34 [==============================] - 0s 2ms/step - loss: 9191.7422 - mae: 9191.7422\n",
            "Epoch 89/100\n",
            "34/34 [==============================] - 0s 2ms/step - loss: 9720.6592 - mae: 9720.6592\n",
            "Epoch 90/100\n",
            "34/34 [==============================] - 0s 2ms/step - loss: 9377.3271 - mae: 9377.3271\n",
            "Epoch 91/100\n",
            "34/34 [==============================] - 0s 2ms/step - loss: 10868.2588 - mae: 10868.2588\n",
            "Epoch 92/100\n",
            "34/34 [==============================] - 0s 2ms/step - loss: 9716.3047 - mae: 9716.3047\n",
            "Epoch 93/100\n",
            "34/34 [==============================] - 0s 2ms/step - loss: 9056.5068 - mae: 9056.5068\n",
            "Epoch 94/100\n",
            "34/34 [==============================] - 0s 2ms/step - loss: 10104.7119 - mae: 10104.7119\n",
            "Epoch 95/100\n",
            "34/34 [==============================] - 0s 2ms/step - loss: 9791.5342 - mae: 9791.5342\n",
            "Epoch 96/100\n",
            "34/34 [==============================] - 0s 2ms/step - loss: 9636.7109 - mae: 9636.7109\n",
            "Epoch 97/100\n",
            "34/34 [==============================] - 0s 2ms/step - loss: 9803.8691 - mae: 9803.8691\n",
            "Epoch 98/100\n",
            "34/34 [==============================] - 0s 2ms/step - loss: 9308.0078 - mae: 9308.0078\n",
            "Epoch 99/100\n",
            "34/34 [==============================] - 0s 2ms/step - loss: 9555.1631 - mae: 9555.1631\n",
            "Epoch 100/100\n",
            "34/34 [==============================] - 0s 2ms/step - loss: 9278.7646 - mae: 9278.7646\n",
            "9/9 [==============================] - 0s 2ms/step - loss: 9500.6729 - mae: 9500.6729\n"
          ]
        },
        {
          "output_type": "execute_result",
          "data": {
            "text/plain": [
              "[9500.6728515625, 9500.6728515625]"
            ]
          },
          "metadata": {},
          "execution_count": 72
        }
      ]
    },
    {
      "cell_type": "code",
      "source": [
        "# Set random seed for reproducibilty: \n",
        "tf.random.set_seed(42)\n",
        "\n",
        "# 1- Build the model: \n",
        "insurance_model3 = tf.keras.Sequential([\n",
        "                   tf.keras.layers.Dense(100, name=\"first_hidden_layer\"),\n",
        "                   tf.keras.layers.Dense(10, name=\"second_hidden_layer\"), \n",
        "                   tf.keras.layers.Dense(1, name=\"output_layer\")\n",
        "])\n",
        "\n",
        "#2- Compile the model: \n",
        "insurance_model3.compile(loss = tf.keras.losses.mae,\n",
        "                         optimizer = tf.keras.optimizers.Adam(),\n",
        "                         metrics = [\"mae\"])\n",
        "\n",
        "#3- Fit the model: \n",
        "history = insurance_model3.fit(tf.expand_dims(X_train, axis=-1), y_train, epochs=200)\n",
        "\n",
        "# Plo history (also known as a loss curve or a training curve):\n",
        "pd.DataFrame(history.history).plot()\n",
        "plt.ylabel(\"loss\")\n",
        "plt.xlabel(\"epochs\")\n"
      ],
      "metadata": {
        "colab": {
          "base_uri": "https://localhost:8080/",
          "height": 1000
        },
        "id": "hCa5MJXo2NuC",
        "outputId": "9a5597a6-032e-48c8-f97d-fb0bc3700616"
      },
      "execution_count": 74,
      "outputs": [
        {
          "output_type": "stream",
          "name": "stdout",
          "text": [
            "Epoch 1/200\n",
            "34/34 [==============================] - 1s 5ms/step - loss: 13335.7275 - mae: 13335.7275\n",
            "Epoch 2/200\n",
            "34/34 [==============================] - 0s 4ms/step - loss: 13314.8389 - mae: 13314.8389\n",
            "Epoch 3/200\n",
            "34/34 [==============================] - 0s 3ms/step - loss: 13274.5283 - mae: 13274.5283\n",
            "Epoch 4/200\n",
            "34/34 [==============================] - 0s 4ms/step - loss: 13199.7266 - mae: 13199.7266\n",
            "Epoch 5/200\n",
            "34/34 [==============================] - 0s 3ms/step - loss: 13074.9053 - mae: 13074.9053\n",
            "Epoch 6/200\n",
            "34/34 [==============================] - 0s 3ms/step - loss: 12889.0273 - mae: 12889.0273\n",
            "Epoch 7/200\n",
            "34/34 [==============================] - 0s 3ms/step - loss: 12651.0098 - mae: 12651.0098\n",
            "Epoch 8/200\n",
            "34/34 [==============================] - 0s 4ms/step - loss: 12395.2949 - mae: 12395.2949\n",
            "Epoch 9/200\n",
            "34/34 [==============================] - 0s 4ms/step - loss: 12192.5039 - mae: 12192.5039\n",
            "Epoch 10/200\n",
            "34/34 [==============================] - 0s 4ms/step - loss: 12110.9824 - mae: 12110.9824\n",
            "Epoch 11/200\n",
            "34/34 [==============================] - 0s 3ms/step - loss: 12084.4785 - mae: 12084.4785\n",
            "Epoch 12/200\n",
            "34/34 [==============================] - 0s 4ms/step - loss: 12062.7061 - mae: 12062.7061\n",
            "Epoch 13/200\n",
            "34/34 [==============================] - 0s 4ms/step - loss: 12041.3838 - mae: 12041.3838\n",
            "Epoch 14/200\n",
            "34/34 [==============================] - 0s 4ms/step - loss: 12018.9814 - mae: 12018.9814\n",
            "Epoch 15/200\n",
            "34/34 [==============================] - 0s 3ms/step - loss: 11995.4033 - mae: 11995.4033\n",
            "Epoch 16/200\n",
            "34/34 [==============================] - 0s 4ms/step - loss: 11969.7061 - mae: 11969.7061\n",
            "Epoch 17/200\n",
            "34/34 [==============================] - 0s 4ms/step - loss: 11941.7939 - mae: 11941.7939\n",
            "Epoch 18/200\n",
            "34/34 [==============================] - 0s 3ms/step - loss: 11910.9727 - mae: 11910.9727\n",
            "Epoch 19/200\n",
            "34/34 [==============================] - 0s 3ms/step - loss: 11876.6816 - mae: 11876.6816\n",
            "Epoch 20/200\n",
            "34/34 [==============================] - 0s 3ms/step - loss: 11837.4248 - mae: 11837.4248\n",
            "Epoch 21/200\n",
            "34/34 [==============================] - 0s 3ms/step - loss: 11792.8369 - mae: 11792.8369\n",
            "Epoch 22/200\n",
            "34/34 [==============================] - 0s 4ms/step - loss: 11741.0898 - mae: 11741.0898\n",
            "Epoch 23/200\n",
            "34/34 [==============================] - 0s 3ms/step - loss: 11680.7119 - mae: 11680.7119\n",
            "Epoch 24/200\n",
            "34/34 [==============================] - 0s 4ms/step - loss: 11609.6074 - mae: 11609.6074\n",
            "Epoch 25/200\n",
            "34/34 [==============================] - 0s 3ms/step - loss: 11526.2402 - mae: 11526.2402\n",
            "Epoch 26/200\n",
            "34/34 [==============================] - 0s 2ms/step - loss: 11425.3320 - mae: 11425.3320\n",
            "Epoch 27/200\n",
            "34/34 [==============================] - 0s 2ms/step - loss: 11307.6865 - mae: 11307.6865\n",
            "Epoch 28/200\n",
            "34/34 [==============================] - 0s 2ms/step - loss: 11170.9912 - mae: 11170.9912\n",
            "Epoch 29/200\n",
            "34/34 [==============================] - 0s 2ms/step - loss: 11014.7217 - mae: 11014.7217\n",
            "Epoch 30/200\n",
            "34/34 [==============================] - 0s 2ms/step - loss: 10845.9502 - mae: 10845.9502\n",
            "Epoch 31/200\n",
            "34/34 [==============================] - 0s 2ms/step - loss: 10668.5098 - mae: 10668.5098\n",
            "Epoch 32/200\n",
            "34/34 [==============================] - 0s 2ms/step - loss: 10487.0898 - mae: 10487.0898\n",
            "Epoch 33/200\n",
            "34/34 [==============================] - 0s 2ms/step - loss: 10302.6035 - mae: 10302.6035\n",
            "Epoch 34/200\n",
            "34/34 [==============================] - 0s 2ms/step - loss: 10118.2568 - mae: 10118.2568\n",
            "Epoch 35/200\n",
            "34/34 [==============================] - 0s 2ms/step - loss: 9925.0420 - mae: 9925.0420\n",
            "Epoch 36/200\n",
            "34/34 [==============================] - 0s 2ms/step - loss: 9735.6123 - mae: 9735.6123\n",
            "Epoch 37/200\n",
            "34/34 [==============================] - 0s 2ms/step - loss: 9549.8271 - mae: 9549.8271\n",
            "Epoch 38/200\n",
            "34/34 [==============================] - 0s 2ms/step - loss: 9373.5742 - mae: 9373.5742\n",
            "Epoch 39/200\n",
            "34/34 [==============================] - 0s 2ms/step - loss: 9211.0762 - mae: 9211.0762\n",
            "Epoch 40/200\n",
            "34/34 [==============================] - 0s 2ms/step - loss: 9065.4404 - mae: 9065.4404\n",
            "Epoch 41/200\n",
            "34/34 [==============================] - 0s 2ms/step - loss: 8934.7500 - mae: 8934.7500\n",
            "Epoch 42/200\n",
            "34/34 [==============================] - 0s 2ms/step - loss: 8815.2314 - mae: 8815.2314\n",
            "Epoch 43/200\n",
            "34/34 [==============================] - 0s 2ms/step - loss: 8708.4180 - mae: 8708.4180\n",
            "Epoch 44/200\n",
            "34/34 [==============================] - 0s 2ms/step - loss: 8607.6084 - mae: 8607.6084\n",
            "Epoch 45/200\n",
            "34/34 [==============================] - 0s 2ms/step - loss: 8536.3408 - mae: 8536.3408\n",
            "Epoch 46/200\n",
            "34/34 [==============================] - 0s 2ms/step - loss: 8472.2070 - mae: 8472.2070\n",
            "Epoch 47/200\n",
            "34/34 [==============================] - 0s 2ms/step - loss: 8432.3643 - mae: 8432.3643\n",
            "Epoch 48/200\n",
            "34/34 [==============================] - 0s 3ms/step - loss: 8389.9512 - mae: 8389.9512\n",
            "Epoch 49/200\n",
            "34/34 [==============================] - 0s 2ms/step - loss: 8362.3594 - mae: 8362.3594\n",
            "Epoch 50/200\n",
            "34/34 [==============================] - 0s 2ms/step - loss: 8337.7080 - mae: 8337.7080\n",
            "Epoch 51/200\n",
            "34/34 [==============================] - 0s 2ms/step - loss: 8322.0127 - mae: 8322.0127\n",
            "Epoch 52/200\n",
            "34/34 [==============================] - 0s 2ms/step - loss: 8313.5654 - mae: 8313.5654\n",
            "Epoch 53/200\n",
            "34/34 [==============================] - 0s 2ms/step - loss: 8296.5430 - mae: 8296.5430\n",
            "Epoch 54/200\n",
            "34/34 [==============================] - 0s 2ms/step - loss: 8290.0078 - mae: 8290.0078\n",
            "Epoch 55/200\n",
            "34/34 [==============================] - 0s 2ms/step - loss: 8287.4893 - mae: 8287.4893\n",
            "Epoch 56/200\n",
            "34/34 [==============================] - 0s 2ms/step - loss: 8282.9756 - mae: 8282.9756\n",
            "Epoch 57/200\n",
            "34/34 [==============================] - 0s 2ms/step - loss: 8280.3125 - mae: 8280.3125\n",
            "Epoch 58/200\n",
            "34/34 [==============================] - 0s 2ms/step - loss: 8278.3457 - mae: 8278.3457\n",
            "Epoch 59/200\n",
            "34/34 [==============================] - 0s 2ms/step - loss: 8278.5957 - mae: 8278.5957\n",
            "Epoch 60/200\n",
            "34/34 [==============================] - 0s 2ms/step - loss: 8280.3516 - mae: 8280.3516\n",
            "Epoch 61/200\n",
            "34/34 [==============================] - 0s 2ms/step - loss: 8278.4854 - mae: 8278.4854\n",
            "Epoch 62/200\n",
            "34/34 [==============================] - 0s 2ms/step - loss: 8275.1396 - mae: 8275.1396\n",
            "Epoch 63/200\n",
            "34/34 [==============================] - 0s 2ms/step - loss: 8275.8848 - mae: 8275.8848\n",
            "Epoch 64/200\n",
            "34/34 [==============================] - 0s 2ms/step - loss: 8274.5693 - mae: 8274.5693\n",
            "Epoch 65/200\n",
            "34/34 [==============================] - 0s 2ms/step - loss: 8274.2383 - mae: 8274.2383\n",
            "Epoch 66/200\n",
            "34/34 [==============================] - 0s 2ms/step - loss: 8273.5938 - mae: 8273.5938\n",
            "Epoch 67/200\n",
            "34/34 [==============================] - 0s 2ms/step - loss: 8276.8916 - mae: 8276.8916\n",
            "Epoch 68/200\n",
            "34/34 [==============================] - 0s 2ms/step - loss: 8274.4824 - mae: 8274.4824\n",
            "Epoch 69/200\n",
            "34/34 [==============================] - 0s 2ms/step - loss: 8274.3379 - mae: 8274.3379\n",
            "Epoch 70/200\n",
            "34/34 [==============================] - 0s 2ms/step - loss: 8276.9834 - mae: 8276.9834\n",
            "Epoch 71/200\n",
            "34/34 [==============================] - 0s 2ms/step - loss: 8275.5977 - mae: 8275.5977\n",
            "Epoch 72/200\n",
            "34/34 [==============================] - 0s 2ms/step - loss: 8276.0225 - mae: 8276.0225\n",
            "Epoch 73/200\n",
            "34/34 [==============================] - 0s 3ms/step - loss: 8274.3174 - mae: 8274.3174\n",
            "Epoch 74/200\n",
            "34/34 [==============================] - 0s 2ms/step - loss: 8273.6689 - mae: 8273.6689\n",
            "Epoch 75/200\n",
            "34/34 [==============================] - 0s 2ms/step - loss: 8273.7725 - mae: 8273.7725\n",
            "Epoch 76/200\n",
            "34/34 [==============================] - 0s 2ms/step - loss: 8276.3926 - mae: 8276.3926\n",
            "Epoch 77/200\n",
            "34/34 [==============================] - 0s 2ms/step - loss: 8273.0977 - mae: 8273.0977\n",
            "Epoch 78/200\n",
            "34/34 [==============================] - 0s 2ms/step - loss: 8274.1523 - mae: 8274.1523\n",
            "Epoch 79/200\n",
            "34/34 [==============================] - 0s 2ms/step - loss: 8275.2471 - mae: 8275.2471\n",
            "Epoch 80/200\n",
            "34/34 [==============================] - 0s 2ms/step - loss: 8273.0967 - mae: 8273.0967\n",
            "Epoch 81/200\n",
            "34/34 [==============================] - 0s 2ms/step - loss: 8274.0508 - mae: 8274.0508\n",
            "Epoch 82/200\n",
            "34/34 [==============================] - 0s 2ms/step - loss: 8275.0615 - mae: 8275.0615\n",
            "Epoch 83/200\n",
            "34/34 [==============================] - 0s 2ms/step - loss: 8278.9482 - mae: 8278.9482\n",
            "Epoch 84/200\n",
            "34/34 [==============================] - 0s 2ms/step - loss: 8273.3945 - mae: 8273.3945\n",
            "Epoch 85/200\n",
            "34/34 [==============================] - 0s 2ms/step - loss: 8277.4922 - mae: 8277.4922\n",
            "Epoch 86/200\n",
            "34/34 [==============================] - 0s 2ms/step - loss: 8275.0674 - mae: 8275.0674\n",
            "Epoch 87/200\n",
            "34/34 [==============================] - 0s 2ms/step - loss: 8275.9238 - mae: 8275.9238\n",
            "Epoch 88/200\n",
            "34/34 [==============================] - 0s 2ms/step - loss: 8273.7627 - mae: 8273.7627\n",
            "Epoch 89/200\n",
            "34/34 [==============================] - 0s 2ms/step - loss: 8273.5156 - mae: 8273.5156\n",
            "Epoch 90/200\n",
            "34/34 [==============================] - 0s 2ms/step - loss: 8275.6562 - mae: 8275.6562\n",
            "Epoch 91/200\n",
            "34/34 [==============================] - 0s 2ms/step - loss: 8273.6045 - mae: 8273.6045\n",
            "Epoch 92/200\n",
            "34/34 [==============================] - 0s 2ms/step - loss: 8274.7070 - mae: 8274.7070\n",
            "Epoch 93/200\n",
            "34/34 [==============================] - 0s 2ms/step - loss: 8274.7432 - mae: 8274.7432\n",
            "Epoch 94/200\n",
            "34/34 [==============================] - 0s 2ms/step - loss: 8275.3115 - mae: 8275.3115\n",
            "Epoch 95/200\n",
            "34/34 [==============================] - 0s 2ms/step - loss: 8274.7627 - mae: 8274.7627\n",
            "Epoch 96/200\n",
            "34/34 [==============================] - 0s 2ms/step - loss: 8274.3232 - mae: 8274.3232\n",
            "Epoch 97/200\n",
            "34/34 [==============================] - 0s 2ms/step - loss: 8276.7998 - mae: 8276.7998\n",
            "Epoch 98/200\n",
            "34/34 [==============================] - 0s 2ms/step - loss: 8273.8389 - mae: 8273.8389\n",
            "Epoch 99/200\n",
            "34/34 [==============================] - 0s 2ms/step - loss: 8274.2100 - mae: 8274.2100\n",
            "Epoch 100/200\n",
            "34/34 [==============================] - 0s 2ms/step - loss: 8273.7812 - mae: 8273.7812\n",
            "Epoch 101/200\n",
            "34/34 [==============================] - 0s 2ms/step - loss: 8276.0371 - mae: 8276.0371\n",
            "Epoch 102/200\n",
            "34/34 [==============================] - 0s 2ms/step - loss: 8276.0107 - mae: 8276.0107\n",
            "Epoch 103/200\n",
            "34/34 [==============================] - 0s 2ms/step - loss: 8274.7500 - mae: 8274.7500\n",
            "Epoch 104/200\n",
            "34/34 [==============================] - 0s 2ms/step - loss: 8273.5439 - mae: 8273.5439\n",
            "Epoch 105/200\n",
            "34/34 [==============================] - 0s 2ms/step - loss: 8273.9238 - mae: 8273.9238\n",
            "Epoch 106/200\n",
            "34/34 [==============================] - 0s 2ms/step - loss: 8273.5723 - mae: 8273.5723\n",
            "Epoch 107/200\n",
            "34/34 [==============================] - 0s 2ms/step - loss: 8275.7900 - mae: 8275.7900\n",
            "Epoch 108/200\n",
            "34/34 [==============================] - 0s 2ms/step - loss: 8279.0410 - mae: 8279.0410\n",
            "Epoch 109/200\n",
            "34/34 [==============================] - 0s 2ms/step - loss: 8275.1934 - mae: 8275.1934\n",
            "Epoch 110/200\n",
            "34/34 [==============================] - 0s 2ms/step - loss: 8276.6504 - mae: 8276.6504\n",
            "Epoch 111/200\n",
            "34/34 [==============================] - 0s 2ms/step - loss: 8276.3623 - mae: 8276.3623\n",
            "Epoch 112/200\n",
            "34/34 [==============================] - 0s 2ms/step - loss: 8273.4189 - mae: 8273.4189\n",
            "Epoch 113/200\n",
            "34/34 [==============================] - 0s 2ms/step - loss: 8273.8115 - mae: 8273.8115\n",
            "Epoch 114/200\n",
            "34/34 [==============================] - 0s 2ms/step - loss: 8273.9570 - mae: 8273.9570\n",
            "Epoch 115/200\n",
            "34/34 [==============================] - 0s 2ms/step - loss: 8275.7393 - mae: 8275.7393\n",
            "Epoch 116/200\n",
            "34/34 [==============================] - 0s 2ms/step - loss: 8275.4248 - mae: 8275.4248\n",
            "Epoch 117/200\n",
            "34/34 [==============================] - 0s 2ms/step - loss: 8275.4160 - mae: 8275.4160\n",
            "Epoch 118/200\n",
            "34/34 [==============================] - 0s 2ms/step - loss: 8274.6084 - mae: 8274.6084\n",
            "Epoch 119/200\n",
            "34/34 [==============================] - 0s 2ms/step - loss: 8276.0947 - mae: 8276.0947\n",
            "Epoch 120/200\n",
            "34/34 [==============================] - 0s 2ms/step - loss: 8273.6777 - mae: 8273.6777\n",
            "Epoch 121/200\n",
            "34/34 [==============================] - 0s 2ms/step - loss: 8273.8838 - mae: 8273.8838\n",
            "Epoch 122/200\n",
            "34/34 [==============================] - 0s 3ms/step - loss: 8273.7305 - mae: 8273.7305\n",
            "Epoch 123/200\n",
            "34/34 [==============================] - 0s 2ms/step - loss: 8274.2783 - mae: 8274.2783\n",
            "Epoch 124/200\n",
            "34/34 [==============================] - 0s 2ms/step - loss: 8274.0703 - mae: 8274.0703\n",
            "Epoch 125/200\n",
            "34/34 [==============================] - 0s 2ms/step - loss: 8275.3916 - mae: 8275.3916\n",
            "Epoch 126/200\n",
            "34/34 [==============================] - 0s 2ms/step - loss: 8275.5273 - mae: 8275.5273\n",
            "Epoch 127/200\n",
            "34/34 [==============================] - 0s 2ms/step - loss: 8274.8359 - mae: 8274.8359\n",
            "Epoch 128/200\n",
            "34/34 [==============================] - 0s 2ms/step - loss: 8274.5723 - mae: 8274.5723\n",
            "Epoch 129/200\n",
            "34/34 [==============================] - 0s 2ms/step - loss: 8275.0303 - mae: 8275.0303\n",
            "Epoch 130/200\n",
            "34/34 [==============================] - 0s 2ms/step - loss: 8274.7939 - mae: 8274.7939\n",
            "Epoch 131/200\n",
            "34/34 [==============================] - 0s 2ms/step - loss: 8276.9160 - mae: 8276.9160\n",
            "Epoch 132/200\n",
            "34/34 [==============================] - 0s 2ms/step - loss: 8276.2920 - mae: 8276.2920\n",
            "Epoch 133/200\n",
            "34/34 [==============================] - 0s 2ms/step - loss: 8275.0859 - mae: 8275.0859\n",
            "Epoch 134/200\n",
            "34/34 [==============================] - 0s 2ms/step - loss: 8273.4717 - mae: 8273.4717\n",
            "Epoch 135/200\n",
            "34/34 [==============================] - 0s 2ms/step - loss: 8273.8750 - mae: 8273.8750\n",
            "Epoch 136/200\n",
            "34/34 [==============================] - 0s 2ms/step - loss: 8273.7256 - mae: 8273.7256\n",
            "Epoch 137/200\n",
            "34/34 [==============================] - 0s 2ms/step - loss: 8274.0625 - mae: 8274.0625\n",
            "Epoch 138/200\n",
            "34/34 [==============================] - 0s 2ms/step - loss: 8274.3389 - mae: 8274.3389\n",
            "Epoch 139/200\n",
            "34/34 [==============================] - 0s 2ms/step - loss: 8274.4180 - mae: 8274.4180\n",
            "Epoch 140/200\n",
            "34/34 [==============================] - 0s 2ms/step - loss: 8273.7500 - mae: 8273.7500\n",
            "Epoch 141/200\n",
            "34/34 [==============================] - 0s 2ms/step - loss: 8274.3174 - mae: 8274.3174\n",
            "Epoch 142/200\n",
            "34/34 [==============================] - 0s 2ms/step - loss: 8276.6084 - mae: 8276.6084\n",
            "Epoch 143/200\n",
            "34/34 [==============================] - 0s 2ms/step - loss: 8276.6074 - mae: 8276.6074\n",
            "Epoch 144/200\n",
            "34/34 [==============================] - 0s 2ms/step - loss: 8279.0674 - mae: 8279.0674\n",
            "Epoch 145/200\n",
            "34/34 [==============================] - 0s 2ms/step - loss: 8275.0762 - mae: 8275.0762\n",
            "Epoch 146/200\n",
            "34/34 [==============================] - 0s 2ms/step - loss: 8275.6494 - mae: 8275.6494\n",
            "Epoch 147/200\n",
            "34/34 [==============================] - 0s 2ms/step - loss: 8275.8691 - mae: 8275.8691\n",
            "Epoch 148/200\n",
            "34/34 [==============================] - 0s 2ms/step - loss: 8275.1914 - mae: 8275.1914\n",
            "Epoch 149/200\n",
            "34/34 [==============================] - 0s 2ms/step - loss: 8274.9385 - mae: 8274.9385\n",
            "Epoch 150/200\n",
            "34/34 [==============================] - 0s 2ms/step - loss: 8273.8232 - mae: 8273.8232\n",
            "Epoch 151/200\n",
            "34/34 [==============================] - 0s 2ms/step - loss: 8274.4326 - mae: 8274.4326\n",
            "Epoch 152/200\n",
            "34/34 [==============================] - 0s 2ms/step - loss: 8274.0430 - mae: 8274.0430\n",
            "Epoch 153/200\n",
            "34/34 [==============================] - 0s 2ms/step - loss: 8277.1445 - mae: 8277.1445\n",
            "Epoch 154/200\n",
            "34/34 [==============================] - 0s 2ms/step - loss: 8276.2061 - mae: 8276.2061\n",
            "Epoch 155/200\n",
            "34/34 [==============================] - 0s 2ms/step - loss: 8274.1318 - mae: 8274.1318\n",
            "Epoch 156/200\n",
            "34/34 [==============================] - 0s 2ms/step - loss: 8273.6113 - mae: 8273.6113\n",
            "Epoch 157/200\n",
            "34/34 [==============================] - 0s 2ms/step - loss: 8275.6777 - mae: 8275.6777\n",
            "Epoch 158/200\n",
            "34/34 [==============================] - 0s 2ms/step - loss: 8274.5762 - mae: 8274.5762\n",
            "Epoch 159/200\n",
            "34/34 [==============================] - 0s 2ms/step - loss: 8273.4854 - mae: 8273.4854\n",
            "Epoch 160/200\n",
            "34/34 [==============================] - 0s 2ms/step - loss: 8274.8594 - mae: 8274.8594\n",
            "Epoch 161/200\n",
            "34/34 [==============================] - 0s 2ms/step - loss: 8273.6641 - mae: 8273.6641\n",
            "Epoch 162/200\n",
            "34/34 [==============================] - 0s 2ms/step - loss: 8274.5811 - mae: 8274.5811\n",
            "Epoch 163/200\n",
            "34/34 [==============================] - 0s 2ms/step - loss: 8274.4043 - mae: 8274.4043\n",
            "Epoch 164/200\n",
            "34/34 [==============================] - 0s 2ms/step - loss: 8273.8877 - mae: 8273.8877\n",
            "Epoch 165/200\n",
            "34/34 [==============================] - 0s 2ms/step - loss: 8276.5352 - mae: 8276.5352\n",
            "Epoch 166/200\n",
            "34/34 [==============================] - 0s 2ms/step - loss: 8275.6426 - mae: 8275.6426\n",
            "Epoch 167/200\n",
            "34/34 [==============================] - 0s 2ms/step - loss: 8274.4092 - mae: 8274.4092\n",
            "Epoch 168/200\n",
            "34/34 [==============================] - 0s 2ms/step - loss: 8274.2100 - mae: 8274.2100\n",
            "Epoch 169/200\n",
            "34/34 [==============================] - 0s 2ms/step - loss: 8273.6221 - mae: 8273.6221\n",
            "Epoch 170/200\n",
            "34/34 [==============================] - 0s 2ms/step - loss: 8275.2744 - mae: 8275.2744\n",
            "Epoch 171/200\n",
            "34/34 [==============================] - 0s 2ms/step - loss: 8274.4219 - mae: 8274.4219\n",
            "Epoch 172/200\n",
            "34/34 [==============================] - 0s 2ms/step - loss: 8275.2852 - mae: 8275.2852\n",
            "Epoch 173/200\n",
            "34/34 [==============================] - 0s 2ms/step - loss: 8274.9521 - mae: 8274.9521\n",
            "Epoch 174/200\n",
            "34/34 [==============================] - 0s 2ms/step - loss: 8274.4385 - mae: 8274.4385\n",
            "Epoch 175/200\n",
            "34/34 [==============================] - 0s 2ms/step - loss: 8275.7178 - mae: 8275.7178\n",
            "Epoch 176/200\n",
            "34/34 [==============================] - 0s 2ms/step - loss: 8275.7920 - mae: 8275.7920\n",
            "Epoch 177/200\n",
            "34/34 [==============================] - 0s 2ms/step - loss: 8274.1660 - mae: 8274.1660\n",
            "Epoch 178/200\n",
            "34/34 [==============================] - 0s 2ms/step - loss: 8274.2393 - mae: 8274.2393\n",
            "Epoch 179/200\n",
            "34/34 [==============================] - 0s 2ms/step - loss: 8274.1475 - mae: 8274.1475\n",
            "Epoch 180/200\n",
            "34/34 [==============================] - 0s 2ms/step - loss: 8274.6758 - mae: 8274.6758\n",
            "Epoch 181/200\n",
            "34/34 [==============================] - 0s 2ms/step - loss: 8274.4883 - mae: 8274.4883\n",
            "Epoch 182/200\n",
            "34/34 [==============================] - 0s 2ms/step - loss: 8273.7783 - mae: 8273.7783\n",
            "Epoch 183/200\n",
            "34/34 [==============================] - 0s 2ms/step - loss: 8274.5049 - mae: 8274.5049\n",
            "Epoch 184/200\n",
            "34/34 [==============================] - 0s 2ms/step - loss: 8276.8486 - mae: 8276.8486\n",
            "Epoch 185/200\n",
            "34/34 [==============================] - 0s 2ms/step - loss: 8276.3701 - mae: 8276.3701\n",
            "Epoch 186/200\n",
            "34/34 [==============================] - 0s 2ms/step - loss: 8275.7744 - mae: 8275.7744\n",
            "Epoch 187/200\n",
            "34/34 [==============================] - 0s 2ms/step - loss: 8277.0293 - mae: 8277.0293\n",
            "Epoch 188/200\n",
            "34/34 [==============================] - 0s 2ms/step - loss: 8273.4678 - mae: 8273.4678\n",
            "Epoch 189/200\n",
            "34/34 [==============================] - 0s 3ms/step - loss: 8275.0977 - mae: 8275.0977\n",
            "Epoch 190/200\n",
            "34/34 [==============================] - 0s 2ms/step - loss: 8276.2363 - mae: 8276.2363\n",
            "Epoch 191/200\n",
            "34/34 [==============================] - 0s 2ms/step - loss: 8273.7002 - mae: 8273.7002\n",
            "Epoch 192/200\n",
            "34/34 [==============================] - 0s 2ms/step - loss: 8274.0205 - mae: 8274.0205\n",
            "Epoch 193/200\n",
            "34/34 [==============================] - 0s 2ms/step - loss: 8275.5459 - mae: 8275.5459\n",
            "Epoch 194/200\n",
            "34/34 [==============================] - 0s 2ms/step - loss: 8273.5371 - mae: 8273.5371\n",
            "Epoch 195/200\n",
            "34/34 [==============================] - 0s 2ms/step - loss: 8274.7656 - mae: 8274.7656\n",
            "Epoch 196/200\n",
            "34/34 [==============================] - 0s 2ms/step - loss: 8274.9795 - mae: 8274.9795\n",
            "Epoch 197/200\n",
            "34/34 [==============================] - 0s 2ms/step - loss: 8274.9180 - mae: 8274.9180\n",
            "Epoch 198/200\n",
            "34/34 [==============================] - 0s 2ms/step - loss: 8274.8486 - mae: 8274.8486\n",
            "Epoch 199/200\n",
            "34/34 [==============================] - 0s 2ms/step - loss: 8273.7939 - mae: 8273.7939\n",
            "Epoch 200/200\n",
            "34/34 [==============================] - 0s 2ms/step - loss: 8277.0254 - mae: 8277.0254\n"
          ]
        },
        {
          "output_type": "execute_result",
          "data": {
            "text/plain": [
              "Text(0.5, 0, 'epochs')"
            ]
          },
          "metadata": {},
          "execution_count": 74
        },
        {
          "output_type": "display_data",
          "data": {
            "text/plain": [
              "<Figure size 432x288 with 1 Axes>"
            ],
            "image/png": "[encoded data removed]"
          },
          "metadata": {
            "needs_background": "light"
          }
        }
      ]
    },
    {
      "cell_type": "markdown",
      "source": [
        "## Preprocessing data (normalization and standarzation): \n",
        "\n",
        "In terms of scaling values, neural networks tend to prefer normalization. If you are not sure which one to use, you could try both and see which performs better.\n",
        "\n",
        "Lets start from beginning"
      ],
      "metadata": {
        "id": "6OlGE3Hg4Qv-"
      }
    },
    {
      "cell_type": "code",
      "source": [
        "# Import the necessary libraries:\n",
        "import tensorflow as tf\n",
        "from matplotlib import pyplot as plt\n",
        "import tensorflow as tf\n",
        "\n",
        "# Read the insurance dataframe:\n",
        "insurance = pd.read_csv(\"https://raw.githubusercontent.com/stedy/Machine-Learning-with-R-datasets/master/insurance.csv\")\n",
        "insurance"
      ],
      "metadata": {
        "colab": {
          "base_uri": "https://localhost:8080/",
          "height": 424
        },
        "id": "ZpJ0rY7_6TgD",
        "outputId": "43fcdd9e-fd08-4b98-9a3a-838f58a26539"
      },
      "execution_count": 75,
      "outputs": [
        {
          "output_type": "execute_result",
          "data": {
            "text/plain": [
              "      age     sex     bmi  children smoker     region      charges\n",
              "0      19  female  27.900         0    yes  southwest  16884.92400\n",
              "1      18    male  33.770         1     no  southeast   1725.55230\n",
              "2      28    male  33.000         3     no  southeast   4449.46200\n",
              "3      33    male  22.705         0     no  northwest  21984.47061\n",
              "4      32    male  28.880         0     no  northwest   3866.85520\n",
              "...   ...     ...     ...       ...    ...        ...          ...\n",
              "1333   50    male  30.970         3     no  northwest  10600.54830\n",
              "1334   18  female  31.920         0     no  northeast   2205.98080\n",
              "1335   18  female  36.850         0     no  southeast   1629.83350\n",
              "1336   21  female  25.800         0     no  southwest   2007.94500\n",
              "1337   61  female  29.070         0    yes  northwest  29141.36030\n",
              "\n",
              "[1338 rows x 7 columns]"
            ],
            "text/html": [
              "\n",
              "  <div id=\"df-7dc6a378-e936-4b81-af87-5b1868b42e1b\">\n",
              "    <div class=\"colab-df-container\">\n",
              "      <div>\n",
              "<style scoped>\n",
              "    .dataframe tbody tr th:only-of-type {\n",
              "        vertical-align: middle;\n",
              "    }\n",
              "\n",
              "    .dataframe tbody tr th {\n",
              "        vertical-align: top;\n",
              "    }\n",
              "\n",
              "    .dataframe thead th {\n",
              "        text-align: right;\n",
              "    }\n",
              "</style>\n",
              "<table border=\"1\" class=\"dataframe\">\n",
              "  <thead>\n",
              "    <tr style=\"text-align: right;\">\n",
              "      <th></th>\n",
              "      <th>age</th>\n",
              "      <th>sex</th>\n",
              "      <th>bmi</th>\n",
              "      <th>children</th>\n",
              "      <th>smoker</th>\n",
              "      <th>region</th>\n",
              "      <th>charges</th>\n",
              "    </tr>\n",
              "  </thead>\n",
              "  <tbody>\n",
              "    <tr>\n",
              "      <th>0</th>\n",
              "      <td>19</td>\n",
              "      <td>female</td>\n",
              "      <td>27.900</td>\n",
              "      <td>0</td>\n",
              "      <td>yes</td>\n",
              "      <td>southwest</td>\n",
              "      <td>16884.92400</td>\n",
              "    </tr>\n",
              "    <tr>\n",
              "      <th>1</th>\n",
              "      <td>18</td>\n",
              "      <td>male</td>\n",
              "      <td>33.770</td>\n",
              "      <td>1</td>\n",
              "      <td>no</td>\n",
              "      <td>southeast</td>\n",
              "      <td>1725.55230</td>\n",
              "    </tr>\n",
              "    <tr>\n",
              "      <th>2</th>\n",
              "      <td>28</td>\n",
              "      <td>male</td>\n",
              "      <td>33.000</td>\n",
              "      <td>3</td>\n",
              "      <td>no</td>\n",
              "      <td>southeast</td>\n",
              "      <td>4449.46200</td>\n",
              "    </tr>\n",
              "    <tr>\n",
              "      <th>3</th>\n",
              "      <td>33</td>\n",
              "      <td>male</td>\n",
              "      <td>22.705</td>\n",
              "      <td>0</td>\n",
              "      <td>no</td>\n",
              "      <td>northwest</td>\n",
              "      <td>21984.47061</td>\n",
              "    </tr>\n",
              "    <tr>\n",
              "      <th>4</th>\n",
              "      <td>32</td>\n",
              "      <td>male</td>\n",
              "      <td>28.880</td>\n",
              "      <td>0</td>\n",
              "      <td>no</td>\n",
              "      <td>northwest</td>\n",
              "      <td>3866.85520</td>\n",
              "    </tr>\n",
              "    <tr>\n",
              "      <th>...</th>\n",
              "      <td>...</td>\n",
              "      <td>...</td>\n",
              "      <td>...</td>\n",
              "      <td>...</td>\n",
              "      <td>...</td>\n",
              "      <td>...</td>\n",
              "      <td>...</td>\n",
              "    </tr>\n",
              "    <tr>\n",
              "      <th>1333</th>\n",
              "      <td>50</td>\n",
              "      <td>male</td>\n",
              "      <td>30.970</td>\n",
              "      <td>3</td>\n",
              "      <td>no</td>\n",
              "      <td>northwest</td>\n",
              "      <td>10600.54830</td>\n",
              "    </tr>\n",
              "    <tr>\n",
              "      <th>1334</th>\n",
              "      <td>18</td>\n",
              "      <td>female</td>\n",
              "      <td>31.920</td>\n",
              "      <td>0</td>\n",
              "      <td>no</td>\n",
              "      <td>northeast</td>\n",
              "      <td>2205.98080</td>\n",
              "    </tr>\n",
              "    <tr>\n",
              "      <th>1335</th>\n",
              "      <td>18</td>\n",
              "      <td>female</td>\n",
              "      <td>36.850</td>\n",
              "      <td>0</td>\n",
              "      <td>no</td>\n",
              "      <td>southeast</td>\n",
              "      <td>1629.83350</td>\n",
              "    </tr>\n",
              "    <tr>\n",
              "      <th>1336</th>\n",
              "      <td>21</td>\n",
              "      <td>female</td>\n",
              "      <td>25.800</td>\n",
              "      <td>0</td>\n",
              "      <td>no</td>\n",
              "      <td>southwest</td>\n",
              "      <td>2007.94500</td>\n",
              "    </tr>\n",
              "    <tr>\n",
              "      <th>1337</th>\n",
              "      <td>61</td>\n",
              "      <td>female</td>\n",
              "      <td>29.070</td>\n",
              "      <td>0</td>\n",
              "      <td>yes</td>\n",
              "      <td>northwest</td>\n",
              "      <td>29141.36030</td>\n",
              "    </tr>\n",
              "  </tbody>\n",
              "</table>\n",
              "<p>1338 rows × 7 columns</p>\n",
              "</div>\n",
              "      <button class=\"colab-df-convert\" onclick=\"convertToInteractive('df-7dc6a378-e936-4b81-af87-5b1868b42e1b')\"\n",
              "              title=\"Convert this dataframe to an interactive table.\"\n",
              "              style=\"display:none;\">\n",
              "        \n",
              "  <svg xmlns=\"http://www.w3.org/2000/svg\" height=\"24px\"viewBox=\"0 0 24 24\"\n",
              "       width=\"24px\">\n",
              "    <path d=\"M0 0h24v24H0V0z\" fill=\"none\"/>\n",
              "    <path d=\"M18.56 5.44l.94 2.06.94-2.06 2.06-.94-2.06-.94-.94-2.06-.94 2.06-2.06.94zm-11 1L8.5 8.5l.94-2.06 2.06-.94-2.06-.94L8.5 2.5l-.94 2.06-2.06.94zm10 10l.94 2.06.94-2.06 2.06-.94-2.06-.94-.94-2.06-.94 2.06-2.06.94z\"/><path d=\"M17.41 7.96l-1.37-1.37c-.4-.4-.92-.59-1.43-.59-.52 0-1.04.2-1.43.59L10.3 9.45l-7.72 7.72c-.78.78-.78 2.05 0 2.83L4 21.41c.39.39.9.59 1.41.59.51 0 1.02-.2 1.41-.59l7.78-7.78 2.81-2.81c.8-.78.8-2.07 0-2.86zM5.41 20L4 18.59l7.72-7.72 1.47 1.35L5.41 20z\"/>\n",
              "  </svg>\n",
              "      </button>\n",
              "      \n",
              "  <style>\n",
              "    .colab-df-container {\n",
              "      display:flex;\n",
              "      flex-wrap:wrap;\n",
              "      gap: 12px;\n",
              "    }\n",
              "\n",
              "    .colab-df-convert {\n",
              "      background-color: #E8F0FE;\n",
              "      border: none;\n",
              "      border-radius: 50%;\n",
              "      cursor: pointer;\n",
              "      display: none;\n",
              "      fill: #1967D2;\n",
              "      height: 32px;\n",
              "      padding: 0 0 0 0;\n",
              "      width: 32px;\n",
              "    }\n",
              "\n",
              "    .colab-df-convert:hover {\n",
              "      background-color: #E2EBFA;\n",
              "      box-shadow: 0px 1px 2px rgba(60, 64, 67, 0.3), 0px 1px 3px 1px rgba(60, 64, 67, 0.15);\n",
              "      fill: #174EA6;\n",
              "    }\n",
              "\n",
              "    [theme=dark] .colab-df-convert {\n",
              "      background-color: #3B4455;\n",
              "      fill: #D2E3FC;\n",
              "    }\n",
              "\n",
              "    [theme=dark] .colab-df-convert:hover {\n",
              "      background-color: #434B5C;\n",
              "      box-shadow: 0px 1px 3px 1px rgba(0, 0, 0, 0.15);\n",
              "      filter: drop-shadow(0px 1px 2px rgba(0, 0, 0, 0.3));\n",
              "      fill: #FFFFFF;\n",
              "    }\n",
              "  </style>\n",
              "\n",
              "      <script>\n",
              "        const buttonEl =\n",
              "          document.querySelector('#df-7dc6a378-e936-4b81-af87-5b1868b42e1b button.colab-df-convert');\n",
              "        buttonEl.style.display =\n",
              "          google.colab.kernel.accessAllowed ? 'block' : 'none';\n",
              "\n",
              "        async function convertToInteractive(key) {\n",
              "          const element = document.querySelector('#df-7dc6a378-e936-4b81-af87-5b1868b42e1b');\n",
              "          const dataTable =\n",
              "            await google.colab.kernel.invokeFunction('convertToInteractive',\n",
              "                                                     [key], {});\n",
              "          if (!dataTable) return;\n",
              "\n",
              "          const docLinkHtml = 'Like what you see? Visit the ' +\n",
              "            '<a target=\"_blank\" href=https://colab.research.google.com/notebooks/data_table.ipynb>data table notebook</a>'\n",
              "            + ' to learn more about interactive tables.';\n",
              "          element.innerHTML = '';\n",
              "          dataTable['output_type'] = 'display_data';\n",
              "          await google.colab.output.renderOutput(dataTable, element);\n",
              "          const docLink = document.createElement('div');\n",
              "          docLink.innerHTML = docLinkHtml;\n",
              "          element.appendChild(docLink);\n",
              "        }\n",
              "      </script>\n",
              "    </div>\n",
              "  </div>\n",
              "  "
            ]
          },
          "metadata": {},
          "execution_count": 75
        }
      ]
    },
    {
      "cell_type": "code",
      "source": [
        "# Visualize the data:\n",
        "X[\"age\"].plot(kind=\"hist\")"
      ],
      "metadata": {
        "colab": {
          "base_uri": "https://localhost:8080/",
          "height": 283
        },
        "id": "p3mRrQi18KOS",
        "outputId": "edac3ec0-9e09-4787-8740-0d261463f8ab"
      },
      "execution_count": 86,
      "outputs": [
        {
          "output_type": "execute_result",
          "data": {
            "text/plain": [
              "<matplotlib.axes._subplots.AxesSubplot at 0x7f114222f690>"
            ]
          },
          "metadata": {},
          "execution_count": 86
        },
        {
          "output_type": "display_data",
          "data": {
            "text/plain": [
              "<Figure size 432x288 with 1 Axes>"
            ],
            "image/png": "[encoded data removed]"
          },
          "metadata": {
            "needs_background": "light"
          }
        }
      ]
    },
    {
      "cell_type": "code",
      "source": [
        "from sklearn.compose import make_column_transformer\n",
        "from sklearn.preprocessing import MinMaxScaler, OneHotEncoder\n",
        "from sklearn.model_selection import train_test_split"
      ],
      "metadata": {
        "id": "w2n5y5VP6rNb"
      },
      "execution_count": 76,
      "outputs": []
    },
    {
      "cell_type": "code",
      "source": [
        "# Create a column transformer: \n",
        "ct = make_column_transformer(\n",
        "    (MinMaxScaler(),[\"age\",\"bmi\",\"children\"]), # turn all these values in these columns between 0 and 1 \n",
        "    (OneHotEncoder(handle_unknown=\"ignore\"),[\"sex\",\"smoker\",\"region\"])\n",
        ")"
      ],
      "metadata": {
        "id": "jJR2-Gq660sy"
      },
      "execution_count": 77,
      "outputs": []
    },
    {
      "cell_type": "code",
      "source": [
        "# Create X and y (features and labels): \n",
        "X = insurance.drop(\"charges\", axis=1)\n",
        "y = insurance[\"charges\"]\n",
        "\n",
        "X_train, X_test, y_train, y_test = train_test_split(X, y, test_size=0.2, random_state=42)"
      ],
      "metadata": {
        "id": "MRhz3hCs63hQ"
      },
      "execution_count": 80,
      "outputs": []
    },
    {
      "cell_type": "code",
      "source": [
        "ct.fit(X_train)\n",
        "# Transform the training and test data with normalization (MixMaxScaler) and OneHotEncoder:\n",
        "X_train_normal = ct.transform(X_train)\n",
        "X_test_normal = ct.transform(X_test)"
      ],
      "metadata": {
        "id": "p02ibU8P7AuH"
      },
      "execution_count": 81,
      "outputs": []
    },
    {
      "cell_type": "code",
      "source": [
        "#before vs after sample\n",
        "X_train.loc[0], X_train_normal[0]"
      ],
      "metadata": {
        "colab": {
          "base_uri": "https://localhost:8080/"
        },
        "id": "Fs49s_D37zbB",
        "outputId": "05784673-a287-4bb7-a4b7-32e1dc78d0a0"
      },
      "execution_count": 84,
      "outputs": [
        {
          "output_type": "execute_result",
          "data": {
            "text/plain": [
              "(age                19\n",
              " sex            female\n",
              " bmi              27.9\n",
              " children            0\n",
              " smoker            yes\n",
              " region      southwest\n",
              " Name: 0, dtype: object,\n",
              " array([0.60869565, 0.10734463, 0.4       , 1.        , 0.        ,\n",
              "        1.        , 0.        , 0.        , 1.        , 0.        ,\n",
              "        0.        ]))"
            ]
          },
          "metadata": {},
          "execution_count": 84
        }
      ]
    },
    {
      "cell_type": "markdown",
      "source": [
        "Now, lets create and fit model with normalizd data"
      ],
      "metadata": {
        "id": "L80ptrMl8EKL"
      }
    },
    {
      "cell_type": "code",
      "source": [
        "# Build a neural network model to fit on our normalized data:\n",
        "tf.random.set_seed(42)\n",
        "\n",
        "# Step.1 create the model: \n",
        "insurance_model4 = tf.keras.Sequential([\n",
        "               tf.keras.layers.Dense(100, name=\"hidden_layer1\"),\n",
        "               tf.keras.layers.Dense(10, name=\"hidden_layer2\"),\n",
        "               tf.keras.layers.Dense(1, name=\"output_layer\")\n",
        "]) \n",
        "\n",
        "# Step.2 Compile the model:\n",
        "insurance_model4.compile(loss=tf.keras.losses.mae,\n",
        "                         optimizer =tf.keras.optimizers.Adam(),\n",
        "                         metrics=[\"mae\"])\n",
        "\n",
        "# Step.3 Fit the model: \n",
        "history = insurance_model4.fit(tf.expand_dims(X_train_normal, axis=-1), y_train, epochs=100, verbose = 0)\n",
        "\n",
        "# Plot history (loss curve / training curve): \n",
        "pd.DataFrame(history.history).plot()\n",
        "plt.xlabel(\"epochs\")\n",
        "plt.ylabel(\"losses\")"
      ],
      "metadata": {
        "colab": {
          "base_uri": "https://localhost:8080/",
          "height": 297
        },
        "id": "PrZUbVrR8EhU",
        "outputId": "d09de4b8-6398-4308-ee43-1fb4817e068c"
      },
      "execution_count": 87,
      "outputs": [
        {
          "output_type": "execute_result",
          "data": {
            "text/plain": [
              "Text(0, 0.5, 'losses')"
            ]
          },
          "metadata": {},
          "execution_count": 87
        },
        {
          "output_type": "display_data",
          "data": {
            "text/plain": [
              "<Figure size 432x288 with 1 Axes>"
            ],
            "image/png": "[encoded data removed]"
          },
          "metadata": {
            "needs_background": "light"
          }
        }
      ]
    },
    {
      "cell_type": "code",
      "source": [
        "# Plot the model: \n",
        "from tensorflow.keras.utils import plot_model\n",
        "plot_model(model=insurance_model4, show_shapes=True)"
      ],
      "metadata": {
        "colab": {
          "base_uri": "https://localhost:8080/",
          "height": 422
        },
        "id": "PomZNdSO8Xza",
        "outputId": "de2effaa-7f70-4585-cd47-8efbe8dfd74b"
      },
      "execution_count": 88,
      "outputs": [
        {
          "output_type": "execute_result",
          "data": {
            "text/plain": [
              "<IPython.core.display.Image object>"
            ],
            "image/png": "[encoded data removed]"
          },
          "metadata": {},
          "execution_count": 88
        }
      ]
    },
    {
      "cell_type": "code",
      "source": [
        "# Evaluate our insurance model trained on normalized data: \n",
        "insurance_model4.evaluate(X_test_normal, y_test)"
      ],
      "metadata": {
        "colab": {
          "base_uri": "https://localhost:8080/"
        },
        "id": "Db1bN3nH8bEX",
        "outputId": "b352c43e-772f-4c27-dccc-209d0e87a916"
      },
      "execution_count": 89,
      "outputs": [
        {
          "output_type": "stream",
          "name": "stdout",
          "text": [
            "9/9 [==============================] - 0s 2ms/step - loss: 8622.1035 - mae: 8622.1035\n"
          ]
        },
        {
          "output_type": "execute_result",
          "data": {
            "text/plain": [
              "[8622.103515625, 8622.103515625]"
            ]
          },
          "metadata": {},
          "execution_count": 89
        }
      ]
    },
    {
      "cell_type": "code",
      "source": [
        "# Model predictions: \n",
        "y_pred_ins = insurance_model4.predict(X_test_normal)"
      ],
      "metadata": {
        "id": "i7YMjHiJ8cvz"
      },
      "execution_count": 90,
      "outputs": []
    },
    {
      "cell_type": "code",
      "source": [
        ""
      ],
      "metadata": {
        "id": "jflqK6y38e7L"
      },
      "execution_count": null,
      "outputs": []
    }
  ]
}